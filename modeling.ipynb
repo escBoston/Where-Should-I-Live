{
 "cells": [
  {
   "cell_type": "markdown",
   "metadata": {},
   "source": [
    "poverty: by town <br>\n",
    "hs_completion: by town <br>\n",
    "n_households: by zip <br>\n",
    "med_income: by zip <br>\n",
    "population & density: by zip <br>\n",
    "crime_rate: by town <br>\n",
    "students_per_teacher: by town"
   ]
  },
  {
   "cell_type": "code",
   "execution_count": 1,
   "metadata": {},
   "outputs": [],
   "source": [
    "import pandas as pd\n",
    "import numpy as np\n",
    "import matplotlib.pyplot as plt\n",
    "\n",
    "from sklearn.preprocessing import StandardScaler, PolynomialFeatures\n",
    "from sklearn.linear_model import LinearRegression\n",
    "from sklearn.ensemble import RandomForestRegressor\n",
    "from sklearn.model_selection import train_test_split\n",
    "from sklearn.cluster import KMeans\n",
    "from sklearn.cluster import DBSCAN\n",
    "from sklearn.metrics import silhouette_score, r2_score\n",
    "from sklearn.decomposition import PCA\n",
    "\n",
    "import requests\n",
    "from bs4 import BeautifulSoup\n",
    "\n",
    "import pickle\n",
    "import time"
   ]
  },
  {
   "cell_type": "code",
   "execution_count": 2,
   "metadata": {
    "scrolled": true
   },
   "outputs": [],
   "source": [
    "inc = pd.read_csv('./data/inc.csv')"
   ]
  },
  {
   "cell_type": "code",
   "execution_count": 3,
   "metadata": {},
   "outputs": [
    {
     "data": {
      "text/html": [
       "<div>\n",
       "<style scoped>\n",
       "    .dataframe tbody tr th:only-of-type {\n",
       "        vertical-align: middle;\n",
       "    }\n",
       "\n",
       "    .dataframe tbody tr th {\n",
       "        vertical-align: top;\n",
       "    }\n",
       "\n",
       "    .dataframe thead th {\n",
       "        text-align: right;\n",
       "    }\n",
       "</style>\n",
       "<table border=\"1\" class=\"dataframe\">\n",
       "  <thead>\n",
       "    <tr style=\"text-align: right;\">\n",
       "      <th></th>\n",
       "      <th>Unnamed: 0</th>\n",
       "      <th>Unnamed: 0.1</th>\n",
       "      <th>Unnamed: 0.1.1</th>\n",
       "      <th>state</th>\n",
       "      <th>town</th>\n",
       "      <th>poverty</th>\n",
       "      <th>hs_completion</th>\n",
       "      <th>townstate</th>\n",
       "      <th>ZCTA</th>\n",
       "      <th>n_households</th>\n",
       "      <th>...</th>\n",
       "      <th>density</th>\n",
       "      <th>city</th>\n",
       "      <th>state_id</th>\n",
       "      <th>state_name</th>\n",
       "      <th>lat</th>\n",
       "      <th>lng</th>\n",
       "      <th>crime_rate</th>\n",
       "      <th>students_per_teacher</th>\n",
       "      <th>property_crime</th>\n",
       "      <th>violent_crime</th>\n",
       "    </tr>\n",
       "  </thead>\n",
       "  <tbody>\n",
       "    <tr>\n",
       "      <th>0</th>\n",
       "      <td>0</td>\n",
       "      <td>0</td>\n",
       "      <td>0</td>\n",
       "      <td>Alabama</td>\n",
       "      <td>Abbeville</td>\n",
       "      <td>20.7</td>\n",
       "      <td>79.1</td>\n",
       "      <td>Abbeville, Alabama</td>\n",
       "      <td>36310</td>\n",
       "      <td>2555</td>\n",
       "      <td>...</td>\n",
       "      <td>12.2</td>\n",
       "      <td>Abbeville</td>\n",
       "      <td>AL</td>\n",
       "      <td>Alabama</td>\n",
       "      <td>31.60296</td>\n",
       "      <td>-85.21630</td>\n",
       "      <td>62.0</td>\n",
       "      <td>13.000000</td>\n",
       "      <td>51.0</td>\n",
       "      <td>11.0</td>\n",
       "    </tr>\n",
       "    <tr>\n",
       "      <th>1</th>\n",
       "      <td>1</td>\n",
       "      <td>1</td>\n",
       "      <td>1</td>\n",
       "      <td>Alabama</td>\n",
       "      <td>Adamsville</td>\n",
       "      <td>16</td>\n",
       "      <td>83.5</td>\n",
       "      <td>Adamsville, Alabama</td>\n",
       "      <td>35005</td>\n",
       "      <td>2792</td>\n",
       "      <td>...</td>\n",
       "      <td>89.3</td>\n",
       "      <td>Adamsville</td>\n",
       "      <td>AL</td>\n",
       "      <td>Alabama</td>\n",
       "      <td>33.59515</td>\n",
       "      <td>-87.00089</td>\n",
       "      <td>269.0</td>\n",
       "      <td>17.666667</td>\n",
       "      <td>250.0</td>\n",
       "      <td>19.0</td>\n",
       "    </tr>\n",
       "    <tr>\n",
       "      <th>2</th>\n",
       "      <td>2</td>\n",
       "      <td>2</td>\n",
       "      <td>2</td>\n",
       "      <td>Alabama</td>\n",
       "      <td>Addison</td>\n",
       "      <td>34.2</td>\n",
       "      <td>85.1</td>\n",
       "      <td>Addison, Alabama</td>\n",
       "      <td>35540</td>\n",
       "      <td>1075</td>\n",
       "      <td>...</td>\n",
       "      <td>12.6</td>\n",
       "      <td>Addison</td>\n",
       "      <td>AL</td>\n",
       "      <td>Alabama</td>\n",
       "      <td>34.23388</td>\n",
       "      <td>-87.18817</td>\n",
       "      <td>15.0</td>\n",
       "      <td>15.500000</td>\n",
       "      <td>14.0</td>\n",
       "      <td>1.0</td>\n",
       "    </tr>\n",
       "    <tr>\n",
       "      <th>3</th>\n",
       "      <td>3</td>\n",
       "      <td>3</td>\n",
       "      <td>3</td>\n",
       "      <td>Alabama</td>\n",
       "      <td>Akron</td>\n",
       "      <td>48.7</td>\n",
       "      <td>62.8</td>\n",
       "      <td>Akron, Alabama</td>\n",
       "      <td>35441</td>\n",
       "      <td>372</td>\n",
       "      <td>...</td>\n",
       "      <td>6.1</td>\n",
       "      <td>Akron</td>\n",
       "      <td>AL</td>\n",
       "      <td>Alabama</td>\n",
       "      <td>32.85374</td>\n",
       "      <td>-87.73861</td>\n",
       "      <td>NaN</td>\n",
       "      <td>NaN</td>\n",
       "      <td>NaN</td>\n",
       "      <td>NaN</td>\n",
       "    </tr>\n",
       "    <tr>\n",
       "      <th>4</th>\n",
       "      <td>4</td>\n",
       "      <td>4</td>\n",
       "      <td>4</td>\n",
       "      <td>Alabama</td>\n",
       "      <td>Alabaster</td>\n",
       "      <td>11.1</td>\n",
       "      <td>88.8</td>\n",
       "      <td>Alabaster, Alabama</td>\n",
       "      <td>35007</td>\n",
       "      <td>8628</td>\n",
       "      <td>...</td>\n",
       "      <td>270.8</td>\n",
       "      <td>Alabaster</td>\n",
       "      <td>AL</td>\n",
       "      <td>Alabama</td>\n",
       "      <td>33.21591</td>\n",
       "      <td>-86.79717</td>\n",
       "      <td>585.0</td>\n",
       "      <td>18.571429</td>\n",
       "      <td>488.0</td>\n",
       "      <td>97.0</td>\n",
       "    </tr>\n",
       "  </tbody>\n",
       "</table>\n",
       "<p>5 rows × 22 columns</p>\n",
       "</div>"
      ],
      "text/plain": [
       "   Unnamed: 0  Unnamed: 0.1  Unnamed: 0.1.1    state        town poverty  \\\n",
       "0           0             0               0  Alabama   Abbeville    20.7   \n",
       "1           1             1               1  Alabama  Adamsville      16   \n",
       "2           2             2               2  Alabama     Addison    34.2   \n",
       "3           3             3               3  Alabama       Akron    48.7   \n",
       "4           4             4               4  Alabama   Alabaster    11.1   \n",
       "\n",
       "  hs_completion            townstate   ZCTA  n_households  ...  density  \\\n",
       "0          79.1   Abbeville, Alabama  36310          2555  ...     12.2   \n",
       "1          83.5  Adamsville, Alabama  35005          2792  ...     89.3   \n",
       "2          85.1     Addison, Alabama  35540          1075  ...     12.6   \n",
       "3          62.8       Akron, Alabama  35441           372  ...      6.1   \n",
       "4          88.8   Alabaster, Alabama  35007          8628  ...    270.8   \n",
       "\n",
       "         city  state_id state_name       lat       lng  crime_rate  \\\n",
       "0   Abbeville        AL    Alabama  31.60296 -85.21630        62.0   \n",
       "1  Adamsville        AL    Alabama  33.59515 -87.00089       269.0   \n",
       "2     Addison        AL    Alabama  34.23388 -87.18817        15.0   \n",
       "3       Akron        AL    Alabama  32.85374 -87.73861         NaN   \n",
       "4   Alabaster        AL    Alabama  33.21591 -86.79717       585.0   \n",
       "\n",
       "   students_per_teacher  property_crime  violent_crime  \n",
       "0             13.000000            51.0           11.0  \n",
       "1             17.666667           250.0           19.0  \n",
       "2             15.500000            14.0            1.0  \n",
       "3                   NaN             NaN            NaN  \n",
       "4             18.571429           488.0           97.0  \n",
       "\n",
       "[5 rows x 22 columns]"
      ]
     },
     "execution_count": 3,
     "metadata": {},
     "output_type": "execute_result"
    }
   ],
   "source": [
    "inc.head()"
   ]
  },
  {
   "cell_type": "code",
   "execution_count": 4,
   "metadata": {},
   "outputs": [
    {
     "data": {
      "text/plain": [
       "Houston, Texas               97\n",
       "New York, New York           69\n",
       "Los Angeles, California      65\n",
       "San Antonio, Texas           59\n",
       "Chicago, Illinois            56\n",
       "                             ..\n",
       "Plainfield, Vermont           1\n",
       "Tipton, California            1\n",
       "Shelby, Mississippi           1\n",
       "Burlington, West Virginia     1\n",
       "Isabella, Oklahoma            1\n",
       "Name: townstate, Length: 16187, dtype: int64"
      ]
     },
     "execution_count": 4,
     "metadata": {},
     "output_type": "execute_result"
    }
   ],
   "source": [
    "inc['townstate'].value_counts()"
   ]
  },
  {
   "cell_type": "markdown",
   "metadata": {},
   "source": [
    "### Get counties for gini index"
   ]
  },
  {
   "cell_type": "code",
   "execution_count": 5,
   "metadata": {},
   "outputs": [],
   "source": [
    "counties = pd.read_csv('./data/uscities.csv')"
   ]
  },
  {
   "cell_type": "code",
   "execution_count": 6,
   "metadata": {},
   "outputs": [
    {
     "data": {
      "text/html": [
       "<div>\n",
       "<style scoped>\n",
       "    .dataframe tbody tr th:only-of-type {\n",
       "        vertical-align: middle;\n",
       "    }\n",
       "\n",
       "    .dataframe tbody tr th {\n",
       "        vertical-align: top;\n",
       "    }\n",
       "\n",
       "    .dataframe thead th {\n",
       "        text-align: right;\n",
       "    }\n",
       "</style>\n",
       "<table border=\"1\" class=\"dataframe\">\n",
       "  <thead>\n",
       "    <tr style=\"text-align: right;\">\n",
       "      <th></th>\n",
       "      <th>city</th>\n",
       "      <th>city_ascii</th>\n",
       "      <th>state_id</th>\n",
       "      <th>state_name</th>\n",
       "      <th>county_fips</th>\n",
       "      <th>county_name</th>\n",
       "      <th>county_fips_all</th>\n",
       "      <th>county_name_all</th>\n",
       "      <th>lat</th>\n",
       "      <th>lng</th>\n",
       "      <th>population</th>\n",
       "      <th>density</th>\n",
       "      <th>source</th>\n",
       "      <th>military</th>\n",
       "      <th>incorporated</th>\n",
       "      <th>timezone</th>\n",
       "      <th>ranking</th>\n",
       "      <th>zips</th>\n",
       "      <th>id</th>\n",
       "    </tr>\n",
       "  </thead>\n",
       "  <tbody>\n",
       "    <tr>\n",
       "      <th>0</th>\n",
       "      <td>South Creek</td>\n",
       "      <td>South Creek</td>\n",
       "      <td>WA</td>\n",
       "      <td>Washington</td>\n",
       "      <td>53053</td>\n",
       "      <td>Pierce</td>\n",
       "      <td>53053</td>\n",
       "      <td>Pierce</td>\n",
       "      <td>46.9994</td>\n",
       "      <td>-122.3921</td>\n",
       "      <td>2500.0</td>\n",
       "      <td>125.0</td>\n",
       "      <td>polygon</td>\n",
       "      <td>False</td>\n",
       "      <td>True</td>\n",
       "      <td>America/Los_Angeles</td>\n",
       "      <td>3</td>\n",
       "      <td>98580 98387 98338</td>\n",
       "      <td>1840042075</td>\n",
       "    </tr>\n",
       "    <tr>\n",
       "      <th>1</th>\n",
       "      <td>Roslyn</td>\n",
       "      <td>Roslyn</td>\n",
       "      <td>WA</td>\n",
       "      <td>Washington</td>\n",
       "      <td>53037</td>\n",
       "      <td>Kittitas</td>\n",
       "      <td>53037</td>\n",
       "      <td>Kittitas</td>\n",
       "      <td>47.2507</td>\n",
       "      <td>-121.0989</td>\n",
       "      <td>947.0</td>\n",
       "      <td>84.0</td>\n",
       "      <td>polygon</td>\n",
       "      <td>False</td>\n",
       "      <td>True</td>\n",
       "      <td>America/Los_Angeles</td>\n",
       "      <td>3</td>\n",
       "      <td>98941 98068 98925</td>\n",
       "      <td>1840019842</td>\n",
       "    </tr>\n",
       "    <tr>\n",
       "      <th>2</th>\n",
       "      <td>Sprague</td>\n",
       "      <td>Sprague</td>\n",
       "      <td>WA</td>\n",
       "      <td>Washington</td>\n",
       "      <td>53043</td>\n",
       "      <td>Lincoln</td>\n",
       "      <td>53043</td>\n",
       "      <td>Lincoln</td>\n",
       "      <td>47.3048</td>\n",
       "      <td>-117.9713</td>\n",
       "      <td>441.0</td>\n",
       "      <td>163.0</td>\n",
       "      <td>polygon</td>\n",
       "      <td>False</td>\n",
       "      <td>True</td>\n",
       "      <td>America/Los_Angeles</td>\n",
       "      <td>3</td>\n",
       "      <td>99032</td>\n",
       "      <td>1840021107</td>\n",
       "    </tr>\n",
       "    <tr>\n",
       "      <th>3</th>\n",
       "      <td>Gig Harbor</td>\n",
       "      <td>Gig Harbor</td>\n",
       "      <td>WA</td>\n",
       "      <td>Washington</td>\n",
       "      <td>53053</td>\n",
       "      <td>Pierce</td>\n",
       "      <td>53053</td>\n",
       "      <td>Pierce</td>\n",
       "      <td>47.3352</td>\n",
       "      <td>-122.5968</td>\n",
       "      <td>9507.0</td>\n",
       "      <td>622.0</td>\n",
       "      <td>polygon</td>\n",
       "      <td>False</td>\n",
       "      <td>True</td>\n",
       "      <td>America/Los_Angeles</td>\n",
       "      <td>3</td>\n",
       "      <td>98332 98335</td>\n",
       "      <td>1840019855</td>\n",
       "    </tr>\n",
       "    <tr>\n",
       "      <th>4</th>\n",
       "      <td>Lake Cassidy</td>\n",
       "      <td>Lake Cassidy</td>\n",
       "      <td>WA</td>\n",
       "      <td>Washington</td>\n",
       "      <td>53061</td>\n",
       "      <td>Snohomish</td>\n",
       "      <td>53061</td>\n",
       "      <td>Snohomish</td>\n",
       "      <td>48.0639</td>\n",
       "      <td>-122.0920</td>\n",
       "      <td>3591.0</td>\n",
       "      <td>131.0</td>\n",
       "      <td>polygon</td>\n",
       "      <td>False</td>\n",
       "      <td>True</td>\n",
       "      <td>America/Los_Angeles</td>\n",
       "      <td>3</td>\n",
       "      <td>98223 98258 98270</td>\n",
       "      <td>1840041959</td>\n",
       "    </tr>\n",
       "  </tbody>\n",
       "</table>\n",
       "</div>"
      ],
      "text/plain": [
       "           city    city_ascii state_id  state_name  county_fips county_name  \\\n",
       "0   South Creek   South Creek       WA  Washington        53053      Pierce   \n",
       "1        Roslyn        Roslyn       WA  Washington        53037    Kittitas   \n",
       "2       Sprague       Sprague       WA  Washington        53043     Lincoln   \n",
       "3    Gig Harbor    Gig Harbor       WA  Washington        53053      Pierce   \n",
       "4  Lake Cassidy  Lake Cassidy       WA  Washington        53061   Snohomish   \n",
       "\n",
       "  county_fips_all county_name_all      lat       lng  population  density  \\\n",
       "0           53053          Pierce  46.9994 -122.3921      2500.0    125.0   \n",
       "1           53037        Kittitas  47.2507 -121.0989       947.0     84.0   \n",
       "2           53043         Lincoln  47.3048 -117.9713       441.0    163.0   \n",
       "3           53053          Pierce  47.3352 -122.5968      9507.0    622.0   \n",
       "4           53061       Snohomish  48.0639 -122.0920      3591.0    131.0   \n",
       "\n",
       "    source  military  incorporated             timezone  ranking  \\\n",
       "0  polygon     False          True  America/Los_Angeles        3   \n",
       "1  polygon     False          True  America/Los_Angeles        3   \n",
       "2  polygon     False          True  America/Los_Angeles        3   \n",
       "3  polygon     False          True  America/Los_Angeles        3   \n",
       "4  polygon     False          True  America/Los_Angeles        3   \n",
       "\n",
       "                zips          id  \n",
       "0  98580 98387 98338  1840042075  \n",
       "1  98941 98068 98925  1840019842  \n",
       "2              99032  1840021107  \n",
       "3        98332 98335  1840019855  \n",
       "4  98223 98258 98270  1840041959  "
      ]
     },
     "execution_count": 6,
     "metadata": {},
     "output_type": "execute_result"
    }
   ],
   "source": [
    "counties.head()"
   ]
  },
  {
   "cell_type": "code",
   "execution_count": 7,
   "metadata": {},
   "outputs": [],
   "source": [
    "counties['townstate'] = counties['city'] + ', ' + counties['state_name']"
   ]
  },
  {
   "cell_type": "code",
   "execution_count": 8,
   "metadata": {},
   "outputs": [],
   "source": [
    "tempcounties = counties[['county_name', 'townstate']]"
   ]
  },
  {
   "cell_type": "code",
   "execution_count": 9,
   "metadata": {},
   "outputs": [],
   "source": [
    "inc = pd.merge(inc, tempcounties, left_on = 'townstate', right_on = 'townstate')"
   ]
  },
  {
   "cell_type": "code",
   "execution_count": 10,
   "metadata": {},
   "outputs": [],
   "source": [
    "inc['countystate'] = inc['county_name'] + ', ' + inc['state']"
   ]
  },
  {
   "cell_type": "markdown",
   "metadata": {},
   "source": [
    "### Get Gini"
   ]
  },
  {
   "cell_type": "code",
   "execution_count": 11,
   "metadata": {},
   "outputs": [],
   "source": [
    "gini = pd.read_csv('./data/gini.csv')"
   ]
  },
  {
   "cell_type": "code",
   "execution_count": 12,
   "metadata": {},
   "outputs": [
    {
     "data": {
      "text/html": [
       "<div>\n",
       "<style scoped>\n",
       "    .dataframe tbody tr th:only-of-type {\n",
       "        vertical-align: middle;\n",
       "    }\n",
       "\n",
       "    .dataframe tbody tr th {\n",
       "        vertical-align: top;\n",
       "    }\n",
       "\n",
       "    .dataframe thead th {\n",
       "        text-align: right;\n",
       "    }\n",
       "</style>\n",
       "<table border=\"1\" class=\"dataframe\">\n",
       "  <thead>\n",
       "    <tr style=\"text-align: right;\">\n",
       "      <th></th>\n",
       "      <th>GEO_ID</th>\n",
       "      <th>NAME</th>\n",
       "      <th>B19083_001E</th>\n",
       "      <th>B19083_001M</th>\n",
       "    </tr>\n",
       "  </thead>\n",
       "  <tbody>\n",
       "    <tr>\n",
       "      <th>0</th>\n",
       "      <td>id</td>\n",
       "      <td>Geographic Area Name</td>\n",
       "      <td>Estimate!!Gini Index</td>\n",
       "      <td>Margin of Error!!Gini Index</td>\n",
       "    </tr>\n",
       "    <tr>\n",
       "      <th>1</th>\n",
       "      <td>0500000US01003</td>\n",
       "      <td>Baldwin County, Alabama</td>\n",
       "      <td>0.4725</td>\n",
       "      <td>0.0271</td>\n",
       "    </tr>\n",
       "    <tr>\n",
       "      <th>2</th>\n",
       "      <td>0500000US01015</td>\n",
       "      <td>Calhoun County, Alabama</td>\n",
       "      <td>0.4650</td>\n",
       "      <td>0.0292</td>\n",
       "    </tr>\n",
       "    <tr>\n",
       "      <th>3</th>\n",
       "      <td>0500000US01043</td>\n",
       "      <td>Cullman County, Alabama</td>\n",
       "      <td>0.4981</td>\n",
       "      <td>0.0572</td>\n",
       "    </tr>\n",
       "    <tr>\n",
       "      <th>4</th>\n",
       "      <td>0500000US01049</td>\n",
       "      <td>DeKalb County, Alabama</td>\n",
       "      <td>0.5003</td>\n",
       "      <td>0.0416</td>\n",
       "    </tr>\n",
       "  </tbody>\n",
       "</table>\n",
       "</div>"
      ],
      "text/plain": [
       "           GEO_ID                     NAME           B19083_001E  \\\n",
       "0              id     Geographic Area Name  Estimate!!Gini Index   \n",
       "1  0500000US01003  Baldwin County, Alabama                0.4725   \n",
       "2  0500000US01015  Calhoun County, Alabama                0.4650   \n",
       "3  0500000US01043  Cullman County, Alabama                0.4981   \n",
       "4  0500000US01049   DeKalb County, Alabama                0.5003   \n",
       "\n",
       "                   B19083_001M  \n",
       "0  Margin of Error!!Gini Index  \n",
       "1                       0.0271  \n",
       "2                       0.0292  \n",
       "3                       0.0572  \n",
       "4                       0.0416  "
      ]
     },
     "execution_count": 12,
     "metadata": {},
     "output_type": "execute_result"
    }
   ],
   "source": [
    "gini.head()"
   ]
  },
  {
   "cell_type": "code",
   "execution_count": 13,
   "metadata": {},
   "outputs": [
    {
     "data": {
      "text/plain": [
       "(839, 4)"
      ]
     },
     "execution_count": 13,
     "metadata": {},
     "output_type": "execute_result"
    }
   ],
   "source": [
    "gini.shape"
   ]
  },
  {
   "cell_type": "code",
   "execution_count": 14,
   "metadata": {},
   "outputs": [],
   "source": [
    "gini = gini[['NAME', 'B19083_001E']]"
   ]
  },
  {
   "cell_type": "code",
   "execution_count": 15,
   "metadata": {},
   "outputs": [],
   "source": [
    "gini.drop([0], inplace = True)\n",
    "gini.reset_index(drop = True, inplace = True)"
   ]
  },
  {
   "cell_type": "code",
   "execution_count": 16,
   "metadata": {},
   "outputs": [],
   "source": [
    "gini.columns = ['countystate', 'gini']"
   ]
  },
  {
   "cell_type": "code",
   "execution_count": 17,
   "metadata": {},
   "outputs": [
    {
     "data": {
      "text/html": [
       "<div>\n",
       "<style scoped>\n",
       "    .dataframe tbody tr th:only-of-type {\n",
       "        vertical-align: middle;\n",
       "    }\n",
       "\n",
       "    .dataframe tbody tr th {\n",
       "        vertical-align: top;\n",
       "    }\n",
       "\n",
       "    .dataframe thead th {\n",
       "        text-align: right;\n",
       "    }\n",
       "</style>\n",
       "<table border=\"1\" class=\"dataframe\">\n",
       "  <thead>\n",
       "    <tr style=\"text-align: right;\">\n",
       "      <th></th>\n",
       "      <th>countystate</th>\n",
       "      <th>gini</th>\n",
       "    </tr>\n",
       "  </thead>\n",
       "  <tbody>\n",
       "    <tr>\n",
       "      <th>0</th>\n",
       "      <td>Baldwin County, Alabama</td>\n",
       "      <td>0.4725</td>\n",
       "    </tr>\n",
       "    <tr>\n",
       "      <th>1</th>\n",
       "      <td>Calhoun County, Alabama</td>\n",
       "      <td>0.4650</td>\n",
       "    </tr>\n",
       "    <tr>\n",
       "      <th>2</th>\n",
       "      <td>Cullman County, Alabama</td>\n",
       "      <td>0.4981</td>\n",
       "    </tr>\n",
       "    <tr>\n",
       "      <th>3</th>\n",
       "      <td>DeKalb County, Alabama</td>\n",
       "      <td>0.5003</td>\n",
       "    </tr>\n",
       "    <tr>\n",
       "      <th>4</th>\n",
       "      <td>Elmore County, Alabama</td>\n",
       "      <td>0.4162</td>\n",
       "    </tr>\n",
       "  </tbody>\n",
       "</table>\n",
       "</div>"
      ],
      "text/plain": [
       "               countystate    gini\n",
       "0  Baldwin County, Alabama  0.4725\n",
       "1  Calhoun County, Alabama  0.4650\n",
       "2  Cullman County, Alabama  0.4981\n",
       "3   DeKalb County, Alabama  0.5003\n",
       "4   Elmore County, Alabama  0.4162"
      ]
     },
     "execution_count": 17,
     "metadata": {},
     "output_type": "execute_result"
    }
   ],
   "source": [
    "gini.head()"
   ]
  },
  {
   "cell_type": "code",
   "execution_count": 18,
   "metadata": {},
   "outputs": [],
   "source": [
    "def clean_county(county):\n",
    "    words = [' County', ' Parish', ' Municipio', ' city']\n",
    "    for word in words:\n",
    "        if word in county:\n",
    "            return county.replace(word, '')\n",
    "    return county"
   ]
  },
  {
   "cell_type": "code",
   "execution_count": 19,
   "metadata": {},
   "outputs": [],
   "source": [
    "gini['countystate'] = gini['countystate'].apply(clean_county)"
   ]
  },
  {
   "cell_type": "code",
   "execution_count": 20,
   "metadata": {},
   "outputs": [
    {
     "data": {
      "text/html": [
       "<div>\n",
       "<style scoped>\n",
       "    .dataframe tbody tr th:only-of-type {\n",
       "        vertical-align: middle;\n",
       "    }\n",
       "\n",
       "    .dataframe tbody tr th {\n",
       "        vertical-align: top;\n",
       "    }\n",
       "\n",
       "    .dataframe thead th {\n",
       "        text-align: right;\n",
       "    }\n",
       "</style>\n",
       "<table border=\"1\" class=\"dataframe\">\n",
       "  <thead>\n",
       "    <tr style=\"text-align: right;\">\n",
       "      <th></th>\n",
       "      <th>countystate</th>\n",
       "      <th>gini</th>\n",
       "    </tr>\n",
       "  </thead>\n",
       "  <tbody>\n",
       "    <tr>\n",
       "      <th>0</th>\n",
       "      <td>Baldwin, Alabama</td>\n",
       "      <td>0.4725</td>\n",
       "    </tr>\n",
       "    <tr>\n",
       "      <th>1</th>\n",
       "      <td>Calhoun, Alabama</td>\n",
       "      <td>0.4650</td>\n",
       "    </tr>\n",
       "    <tr>\n",
       "      <th>2</th>\n",
       "      <td>Cullman, Alabama</td>\n",
       "      <td>0.4981</td>\n",
       "    </tr>\n",
       "    <tr>\n",
       "      <th>3</th>\n",
       "      <td>DeKalb, Alabama</td>\n",
       "      <td>0.5003</td>\n",
       "    </tr>\n",
       "    <tr>\n",
       "      <th>4</th>\n",
       "      <td>Elmore, Alabama</td>\n",
       "      <td>0.4162</td>\n",
       "    </tr>\n",
       "  </tbody>\n",
       "</table>\n",
       "</div>"
      ],
      "text/plain": [
       "        countystate    gini\n",
       "0  Baldwin, Alabama  0.4725\n",
       "1  Calhoun, Alabama  0.4650\n",
       "2  Cullman, Alabama  0.4981\n",
       "3   DeKalb, Alabama  0.5003\n",
       "4   Elmore, Alabama  0.4162"
      ]
     },
     "execution_count": 20,
     "metadata": {},
     "output_type": "execute_result"
    }
   ],
   "source": [
    "gini.head()"
   ]
  },
  {
   "cell_type": "code",
   "execution_count": 21,
   "metadata": {},
   "outputs": [],
   "source": [
    "inc = pd.merge(inc, gini, left_on = 'countystate', right_on = 'countystate')"
   ]
  },
  {
   "cell_type": "markdown",
   "metadata": {},
   "source": [
    "### Address the nulls"
   ]
  },
  {
   "cell_type": "code",
   "execution_count": 5,
   "metadata": {},
   "outputs": [
    {
     "data": {
      "text/plain": [
       "Unnamed: 0                  0\n",
       "Unnamed: 0.1                0\n",
       "Unnamed: 0.1.1              0\n",
       "state                       0\n",
       "town                        0\n",
       "poverty                     0\n",
       "hs_completion               0\n",
       "townstate                   0\n",
       "ZCTA                        0\n",
       "n_households                0\n",
       "med_income                  0\n",
       "population                  0\n",
       "density                     0\n",
       "city                        0\n",
       "state_id                    0\n",
       "state_name                  0\n",
       "lat                         0\n",
       "lng                         0\n",
       "crime_rate              14409\n",
       "students_per_teacher     4574\n",
       "property_crime          14410\n",
       "violent_crime           14409\n",
       "dtype: int64"
      ]
     },
     "execution_count": 5,
     "metadata": {},
     "output_type": "execute_result"
    }
   ],
   "source": [
    "inc.isnull().sum()"
   ]
  },
  {
   "cell_type": "code",
   "execution_count": 6,
   "metadata": {},
   "outputs": [],
   "source": [
    "inc.dropna(inplace = True)"
   ]
  },
  {
   "cell_type": "code",
   "execution_count": 7,
   "metadata": {
    "scrolled": true
   },
   "outputs": [
    {
     "data": {
      "text/plain": [
       "(6304, 22)"
      ]
     },
     "execution_count": 7,
     "metadata": {},
     "output_type": "execute_result"
    }
   ],
   "source": [
    "inc.shape"
   ]
  },
  {
   "cell_type": "code",
   "execution_count": 8,
   "metadata": {},
   "outputs": [],
   "source": [
    "# Drop unnecessary cols\n",
    "inc.drop(\n",
    "    columns = [\n",
    "        'Unnamed: 0', \n",
    "        'Unnamed: 0.1',\n",
    "        'Unnamed: 0.1.1'\n",
    "        'city',\n",
    "        'state_id'\n",
    "    ], \n",
    "    inplace = True)"
   ]
  },
  {
   "cell_type": "code",
   "execution_count": 11,
   "metadata": {},
   "outputs": [
    {
     "data": {
      "text/html": [
       "<div>\n",
       "<style scoped>\n",
       "    .dataframe tbody tr th:only-of-type {\n",
       "        vertical-align: middle;\n",
       "    }\n",
       "\n",
       "    .dataframe tbody tr th {\n",
       "        vertical-align: top;\n",
       "    }\n",
       "\n",
       "    .dataframe thead th {\n",
       "        text-align: right;\n",
       "    }\n",
       "</style>\n",
       "<table border=\"1\" class=\"dataframe\">\n",
       "  <thead>\n",
       "    <tr style=\"text-align: right;\">\n",
       "      <th></th>\n",
       "      <th>state</th>\n",
       "      <th>town</th>\n",
       "      <th>poverty</th>\n",
       "      <th>hs_completion</th>\n",
       "      <th>townstate</th>\n",
       "      <th>ZCTA</th>\n",
       "      <th>n_households</th>\n",
       "      <th>med_income</th>\n",
       "      <th>population</th>\n",
       "      <th>density</th>\n",
       "      <th>state_name</th>\n",
       "      <th>lat</th>\n",
       "      <th>lng</th>\n",
       "      <th>crime_rate</th>\n",
       "      <th>students_per_teacher</th>\n",
       "      <th>property_crime</th>\n",
       "      <th>violent_crime</th>\n",
       "    </tr>\n",
       "  </thead>\n",
       "  <tbody>\n",
       "    <tr>\n",
       "      <th>0</th>\n",
       "      <td>Alabama</td>\n",
       "      <td>Abbeville</td>\n",
       "      <td>20.7</td>\n",
       "      <td>79.1</td>\n",
       "      <td>Abbeville, Alabama</td>\n",
       "      <td>36310</td>\n",
       "      <td>2555</td>\n",
       "      <td>40186</td>\n",
       "      <td>6055</td>\n",
       "      <td>12.2</td>\n",
       "      <td>Alabama</td>\n",
       "      <td>31.60296</td>\n",
       "      <td>-85.21630</td>\n",
       "      <td>62.0</td>\n",
       "      <td>13.000000</td>\n",
       "      <td>51.0</td>\n",
       "      <td>11.0</td>\n",
       "    </tr>\n",
       "    <tr>\n",
       "      <th>1</th>\n",
       "      <td>Alabama</td>\n",
       "      <td>Adamsville</td>\n",
       "      <td>16</td>\n",
       "      <td>83.5</td>\n",
       "      <td>Adamsville, Alabama</td>\n",
       "      <td>35005</td>\n",
       "      <td>2792</td>\n",
       "      <td>50271</td>\n",
       "      <td>7528</td>\n",
       "      <td>89.3</td>\n",
       "      <td>Alabama</td>\n",
       "      <td>33.59515</td>\n",
       "      <td>-87.00089</td>\n",
       "      <td>269.0</td>\n",
       "      <td>17.666667</td>\n",
       "      <td>250.0</td>\n",
       "      <td>19.0</td>\n",
       "    </tr>\n",
       "    <tr>\n",
       "      <th>2</th>\n",
       "      <td>Alabama</td>\n",
       "      <td>Addison</td>\n",
       "      <td>34.2</td>\n",
       "      <td>85.1</td>\n",
       "      <td>Addison, Alabama</td>\n",
       "      <td>35540</td>\n",
       "      <td>1075</td>\n",
       "      <td>45074</td>\n",
       "      <td>2436</td>\n",
       "      <td>12.6</td>\n",
       "      <td>Alabama</td>\n",
       "      <td>34.23388</td>\n",
       "      <td>-87.18817</td>\n",
       "      <td>15.0</td>\n",
       "      <td>15.500000</td>\n",
       "      <td>14.0</td>\n",
       "      <td>1.0</td>\n",
       "    </tr>\n",
       "    <tr>\n",
       "      <th>4</th>\n",
       "      <td>Alabama</td>\n",
       "      <td>Alabaster</td>\n",
       "      <td>11.1</td>\n",
       "      <td>88.8</td>\n",
       "      <td>Alabaster, Alabama</td>\n",
       "      <td>35007</td>\n",
       "      <td>8628</td>\n",
       "      <td>69691</td>\n",
       "      <td>26328</td>\n",
       "      <td>270.8</td>\n",
       "      <td>Alabama</td>\n",
       "      <td>33.21591</td>\n",
       "      <td>-86.79717</td>\n",
       "      <td>585.0</td>\n",
       "      <td>18.571429</td>\n",
       "      <td>488.0</td>\n",
       "      <td>97.0</td>\n",
       "    </tr>\n",
       "    <tr>\n",
       "      <th>5</th>\n",
       "      <td>Alabama</td>\n",
       "      <td>Alabaster</td>\n",
       "      <td>11.1</td>\n",
       "      <td>88.8</td>\n",
       "      <td>Alabaster, Alabama</td>\n",
       "      <td>35114</td>\n",
       "      <td>3022</td>\n",
       "      <td>80948</td>\n",
       "      <td>8624</td>\n",
       "      <td>223.3</td>\n",
       "      <td>Alabama</td>\n",
       "      <td>33.22306</td>\n",
       "      <td>-86.87245</td>\n",
       "      <td>585.0</td>\n",
       "      <td>18.571429</td>\n",
       "      <td>488.0</td>\n",
       "      <td>97.0</td>\n",
       "    </tr>\n",
       "  </tbody>\n",
       "</table>\n",
       "</div>"
      ],
      "text/plain": [
       "     state        town poverty hs_completion            townstate   ZCTA  \\\n",
       "0  Alabama   Abbeville    20.7          79.1   Abbeville, Alabama  36310   \n",
       "1  Alabama  Adamsville      16          83.5  Adamsville, Alabama  35005   \n",
       "2  Alabama     Addison    34.2          85.1     Addison, Alabama  35540   \n",
       "4  Alabama   Alabaster    11.1          88.8   Alabaster, Alabama  35007   \n",
       "5  Alabama   Alabaster    11.1          88.8   Alabaster, Alabama  35114   \n",
       "\n",
       "   n_households  med_income  population  density state_name       lat  \\\n",
       "0          2555       40186        6055     12.2    Alabama  31.60296   \n",
       "1          2792       50271        7528     89.3    Alabama  33.59515   \n",
       "2          1075       45074        2436     12.6    Alabama  34.23388   \n",
       "4          8628       69691       26328    270.8    Alabama  33.21591   \n",
       "5          3022       80948        8624    223.3    Alabama  33.22306   \n",
       "\n",
       "        lng  crime_rate  students_per_teacher  property_crime  violent_crime  \n",
       "0 -85.21630        62.0             13.000000            51.0           11.0  \n",
       "1 -87.00089       269.0             17.666667           250.0           19.0  \n",
       "2 -87.18817        15.0             15.500000            14.0            1.0  \n",
       "4 -86.79717       585.0             18.571429           488.0           97.0  \n",
       "5 -86.87245       585.0             18.571429           488.0           97.0  "
      ]
     },
     "execution_count": 11,
     "metadata": {},
     "output_type": "execute_result"
    }
   ],
   "source": [
    "inc.head()"
   ]
  },
  {
   "cell_type": "markdown",
   "metadata": {},
   "source": [
    "**Fix Types**"
   ]
  },
  {
   "cell_type": "code",
   "execution_count": 27,
   "metadata": {},
   "outputs": [],
   "source": [
    "inc['gini'] = inc['gini'].astype(float)"
   ]
  },
  {
   "cell_type": "code",
   "execution_count": 13,
   "metadata": {},
   "outputs": [],
   "source": [
    "inc['poverty'] = inc['poverty'].astype(float)"
   ]
  },
  {
   "cell_type": "code",
   "execution_count": 14,
   "metadata": {},
   "outputs": [],
   "source": [
    "inc['hs_completion'] = inc['hs_completion'].astype(float)"
   ]
  },
  {
   "cell_type": "markdown",
   "metadata": {},
   "source": [
    "### Fix 0 population"
   ]
  },
  {
   "cell_type": "code",
   "execution_count": 15,
   "metadata": {},
   "outputs": [
    {
     "data": {
      "text/plain": [
       "0        15\n",
       "1464      4\n",
       "7762      4\n",
       "3708      4\n",
       "2274      4\n",
       "         ..\n",
       "7133      1\n",
       "9191      1\n",
       "17522     1\n",
       "10223     1\n",
       "19871     1\n",
       "Name: population, Length: 5588, dtype: int64"
      ]
     },
     "execution_count": 15,
     "metadata": {},
     "output_type": "execute_result"
    }
   ],
   "source": [
    "# 15 rows have 0 for population which causes infinity crime rate per capita\n",
    "inc['population'].value_counts()"
   ]
  },
  {
   "cell_type": "code",
   "execution_count": 16,
   "metadata": {},
   "outputs": [
    {
     "data": {
      "text/plain": [
       "0        61\n",
       "5848      6\n",
       "798       5\n",
       "1470      5\n",
       "2902      5\n",
       "         ..\n",
       "7121      1\n",
       "3023      1\n",
       "974       1\n",
       "13260     1\n",
       "4100      1\n",
       "Name: n_households, Length: 4701, dtype: int64"
      ]
     },
     "execution_count": 16,
     "metadata": {},
     "output_type": "execute_result"
    }
   ],
   "source": [
    "inc['n_households'].value_counts()"
   ]
  },
  {
   "cell_type": "code",
   "execution_count": 17,
   "metadata": {},
   "outputs": [],
   "source": [
    "# Fill the 0 population towns\n",
    "inc.loc[inc['population'] == 0, 'population'] = 100 #inc['population'].median()"
   ]
  },
  {
   "cell_type": "code",
   "execution_count": 18,
   "metadata": {},
   "outputs": [],
   "source": [
    "# Fill the 0 household towns\n",
    "inc.loc[inc['n_households'] == 0, 'n_households'] = 10"
   ]
  },
  {
   "cell_type": "code",
   "execution_count": 19,
   "metadata": {},
   "outputs": [
    {
     "data": {
      "text/plain": [
       "100      15\n",
       "3708      4\n",
       "7762      4\n",
       "10842     4\n",
       "6572      4\n",
       "         ..\n",
       "7133      1\n",
       "9191      1\n",
       "17522     1\n",
       "10223     1\n",
       "8192      1\n",
       "Name: population, Length: 5588, dtype: int64"
      ]
     },
     "execution_count": 19,
     "metadata": {},
     "output_type": "execute_result"
    }
   ],
   "source": [
    "inc['population'].value_counts()"
   ]
  },
  {
   "cell_type": "code",
   "execution_count": 20,
   "metadata": {},
   "outputs": [],
   "source": [
    "# Target variable: crime rate per capita\n",
    "#inc['crime_rate_pc'] = inc['crime_rate'] / inc['n_households']\n",
    "inc['crime_rate_pc'] = inc['crime_rate'] / inc['population']"
   ]
  },
  {
   "cell_type": "markdown",
   "metadata": {},
   "source": [
    "### Grouping by town"
   ]
  },
  {
   "cell_type": "markdown",
   "metadata": {},
   "source": [
    "- dataframe is by zip so towns with multiple zips are counted multiple times\n",
    "- should be grouped by town\n",
    "\n",
    "- These should be averaged\n",
    " - med_income\n",
    " - hs_completion\n",
    " - poverty\n",
    " - density"
   ]
  },
  {
   "cell_type": "code",
   "execution_count": 21,
   "metadata": {
    "scrolled": true
   },
   "outputs": [
    {
     "data": {
      "text/plain": [
       "Naples, Florida            15\n",
       "Tyler, Texas                9\n",
       "Saginaw, Michigan           7\n",
       "Vero Beach, Florida         6\n",
       "Johnstown, Pennsylvania     6\n",
       "                           ..\n",
       "Sutherlin, Oregon           1\n",
       "Sullivan City, Texas        1\n",
       "Odenville, Alabama          1\n",
       "Social Circle, Georgia      1\n",
       "Avon Park, Florida          1\n",
       "Name: townstate, Length: 5771, dtype: int64"
      ]
     },
     "execution_count": 21,
     "metadata": {},
     "output_type": "execute_result"
    }
   ],
   "source": [
    "# dataframe is by zip so towns with multiple zips are counted multiple times\n",
    "# to rectify, we will groupby townstate, then re add the state col\n",
    "inc['townstate'].value_counts()"
   ]
  },
  {
   "cell_type": "code",
   "execution_count": 37,
   "metadata": {},
   "outputs": [],
   "source": [
    "#testinc = inc.groupby('townstate', as_index = False).mean()"
   ]
  },
  {
   "cell_type": "code",
   "execution_count": 38,
   "metadata": {},
   "outputs": [],
   "source": [
    "#testinc.shape"
   ]
  },
  {
   "cell_type": "code",
   "execution_count": 39,
   "metadata": {},
   "outputs": [],
   "source": [
    "#testinc['state'] = testinc['townstate'].apply(lambda x: x.split(', ')[1])"
   ]
  },
  {
   "cell_type": "code",
   "execution_count": 40,
   "metadata": {},
   "outputs": [],
   "source": [
    "#testinc[['n_households', 'population']] = inc.groupby('townstate').sum()[['n_households', 'population']]"
   ]
  },
  {
   "cell_type": "code",
   "execution_count": 41,
   "metadata": {},
   "outputs": [],
   "source": [
    "### n_households & population must be summed by town\n",
    "#testinc[['n_households', 'population']] = inc.groupby('townstate', as_index = False).sum()[['n_households','population']]"
   ]
  },
  {
   "cell_type": "code",
   "execution_count": 42,
   "metadata": {},
   "outputs": [],
   "source": [
    "#testinc.head()"
   ]
  },
  {
   "cell_type": "code",
   "execution_count": 43,
   "metadata": {},
   "outputs": [],
   "source": [
    "# Drop outliers\n",
    "#testinc = testinc.loc[(testinc['crime_rate_pc'] > 0) & (testinc['crime_rate_pc'] < 40)]"
   ]
  },
  {
   "cell_type": "code",
   "execution_count": 22,
   "metadata": {},
   "outputs": [],
   "source": [
    "# Drop outliers\n",
    "testinc = inc.loc[(inc['crime_rate_pc'] > 0) & (inc['crime_rate_pc'] < 1)]"
   ]
  },
  {
   "cell_type": "code",
   "execution_count": 23,
   "metadata": {},
   "outputs": [
    {
     "data": {
      "text/plain": [
       "(6082, 18)"
      ]
     },
     "execution_count": 23,
     "metadata": {},
     "output_type": "execute_result"
    }
   ],
   "source": [
    "testinc.shape"
   ]
  },
  {
   "cell_type": "markdown",
   "metadata": {},
   "source": [
    "### Modeling"
   ]
  },
  {
   "cell_type": "markdown",
   "metadata": {},
   "source": [
    "### K Means Clustering"
   ]
  },
  {
   "cell_type": "code",
   "execution_count": 24,
   "metadata": {},
   "outputs": [],
   "source": [
    "features = [\n",
    "    'med_income',\n",
    "    'poverty',\n",
    "    'hs_completion',\n",
    "    'density',\n",
    "    'students_per_teacher',\n",
    "    #'gini',\n",
    "    'crime_rate_pc',\n",
    "    'property_crime',\n",
    "    'violent_crime',\n",
    "]\n",
    "X = testinc[features]"
   ]
  },
  {
   "cell_type": "code",
   "execution_count": 25,
   "metadata": {},
   "outputs": [
    {
     "data": {
      "text/html": [
       "<div>\n",
       "<style scoped>\n",
       "    .dataframe tbody tr th:only-of-type {\n",
       "        vertical-align: middle;\n",
       "    }\n",
       "\n",
       "    .dataframe tbody tr th {\n",
       "        vertical-align: top;\n",
       "    }\n",
       "\n",
       "    .dataframe thead th {\n",
       "        text-align: right;\n",
       "    }\n",
       "</style>\n",
       "<table border=\"1\" class=\"dataframe\">\n",
       "  <thead>\n",
       "    <tr style=\"text-align: right;\">\n",
       "      <th></th>\n",
       "      <th>med_income</th>\n",
       "      <th>poverty</th>\n",
       "      <th>hs_completion</th>\n",
       "      <th>density</th>\n",
       "      <th>students_per_teacher</th>\n",
       "      <th>crime_rate_pc</th>\n",
       "      <th>property_crime</th>\n",
       "      <th>violent_crime</th>\n",
       "    </tr>\n",
       "  </thead>\n",
       "  <tbody>\n",
       "    <tr>\n",
       "      <th>med_income</th>\n",
       "      <td>1.000000</td>\n",
       "      <td>-0.652263</td>\n",
       "      <td>0.513570</td>\n",
       "      <td>0.172520</td>\n",
       "      <td>0.079249</td>\n",
       "      <td>-0.039383</td>\n",
       "      <td>0.148211</td>\n",
       "      <td>-0.026075</td>\n",
       "    </tr>\n",
       "    <tr>\n",
       "      <th>poverty</th>\n",
       "      <td>-0.652263</td>\n",
       "      <td>1.000000</td>\n",
       "      <td>-0.595857</td>\n",
       "      <td>-0.085207</td>\n",
       "      <td>-0.040227</td>\n",
       "      <td>0.083481</td>\n",
       "      <td>-0.026543</td>\n",
       "      <td>0.117396</td>\n",
       "    </tr>\n",
       "    <tr>\n",
       "      <th>hs_completion</th>\n",
       "      <td>0.513570</td>\n",
       "      <td>-0.595857</td>\n",
       "      <td>1.000000</td>\n",
       "      <td>0.081457</td>\n",
       "      <td>0.032067</td>\n",
       "      <td>0.020415</td>\n",
       "      <td>0.096598</td>\n",
       "      <td>-0.066695</td>\n",
       "    </tr>\n",
       "    <tr>\n",
       "      <th>density</th>\n",
       "      <td>0.172520</td>\n",
       "      <td>-0.085207</td>\n",
       "      <td>0.081457</td>\n",
       "      <td>1.000000</td>\n",
       "      <td>0.044453</td>\n",
       "      <td>0.329311</td>\n",
       "      <td>0.262832</td>\n",
       "      <td>0.218620</td>\n",
       "    </tr>\n",
       "    <tr>\n",
       "      <th>students_per_teacher</th>\n",
       "      <td>0.079249</td>\n",
       "      <td>-0.040227</td>\n",
       "      <td>0.032067</td>\n",
       "      <td>0.044453</td>\n",
       "      <td>1.000000</td>\n",
       "      <td>0.024979</td>\n",
       "      <td>0.120914</td>\n",
       "      <td>0.068551</td>\n",
       "    </tr>\n",
       "    <tr>\n",
       "      <th>crime_rate_pc</th>\n",
       "      <td>-0.039383</td>\n",
       "      <td>0.083481</td>\n",
       "      <td>0.020415</td>\n",
       "      <td>0.329311</td>\n",
       "      <td>0.024979</td>\n",
       "      <td>1.000000</td>\n",
       "      <td>0.331862</td>\n",
       "      <td>0.296302</td>\n",
       "    </tr>\n",
       "    <tr>\n",
       "      <th>property_crime</th>\n",
       "      <td>0.148211</td>\n",
       "      <td>-0.026543</td>\n",
       "      <td>0.096598</td>\n",
       "      <td>0.262832</td>\n",
       "      <td>0.120914</td>\n",
       "      <td>0.331862</td>\n",
       "      <td>1.000000</td>\n",
       "      <td>0.605813</td>\n",
       "    </tr>\n",
       "    <tr>\n",
       "      <th>violent_crime</th>\n",
       "      <td>-0.026075</td>\n",
       "      <td>0.117396</td>\n",
       "      <td>-0.066695</td>\n",
       "      <td>0.218620</td>\n",
       "      <td>0.068551</td>\n",
       "      <td>0.296302</td>\n",
       "      <td>0.605813</td>\n",
       "      <td>1.000000</td>\n",
       "    </tr>\n",
       "  </tbody>\n",
       "</table>\n",
       "</div>"
      ],
      "text/plain": [
       "                      med_income   poverty  hs_completion   density  \\\n",
       "med_income              1.000000 -0.652263       0.513570  0.172520   \n",
       "poverty                -0.652263  1.000000      -0.595857 -0.085207   \n",
       "hs_completion           0.513570 -0.595857       1.000000  0.081457   \n",
       "density                 0.172520 -0.085207       0.081457  1.000000   \n",
       "students_per_teacher    0.079249 -0.040227       0.032067  0.044453   \n",
       "crime_rate_pc          -0.039383  0.083481       0.020415  0.329311   \n",
       "property_crime          0.148211 -0.026543       0.096598  0.262832   \n",
       "violent_crime          -0.026075  0.117396      -0.066695  0.218620   \n",
       "\n",
       "                      students_per_teacher  crime_rate_pc  property_crime  \\\n",
       "med_income                        0.079249      -0.039383        0.148211   \n",
       "poverty                          -0.040227       0.083481       -0.026543   \n",
       "hs_completion                     0.032067       0.020415        0.096598   \n",
       "density                           0.044453       0.329311        0.262832   \n",
       "students_per_teacher              1.000000       0.024979        0.120914   \n",
       "crime_rate_pc                     0.024979       1.000000        0.331862   \n",
       "property_crime                    0.120914       0.331862        1.000000   \n",
       "violent_crime                     0.068551       0.296302        0.605813   \n",
       "\n",
       "                      violent_crime  \n",
       "med_income                -0.026075  \n",
       "poverty                    0.117396  \n",
       "hs_completion             -0.066695  \n",
       "density                    0.218620  \n",
       "students_per_teacher       0.068551  \n",
       "crime_rate_pc              0.296302  \n",
       "property_crime             0.605813  \n",
       "violent_crime              1.000000  "
      ]
     },
     "execution_count": 25,
     "metadata": {},
     "output_type": "execute_result"
    }
   ],
   "source": [
    "X.corr()"
   ]
  },
  {
   "cell_type": "code",
   "execution_count": 26,
   "metadata": {},
   "outputs": [],
   "source": [
    "ss = StandardScaler()\n",
    "X_scaled = ss.fit_transform(X)"
   ]
  },
  {
   "cell_type": "code",
   "execution_count": 27,
   "metadata": {},
   "outputs": [],
   "source": [
    "km = KMeans(n_clusters = 2, random_state = 42)"
   ]
  },
  {
   "cell_type": "code",
   "execution_count": 28,
   "metadata": {},
   "outputs": [
    {
     "data": {
      "text/plain": [
       "KMeans(algorithm='auto', copy_x=True, init='k-means++', max_iter=300,\n",
       "       n_clusters=2, n_init=10, n_jobs=None, precompute_distances='auto',\n",
       "       random_state=42, tol=0.0001, verbose=0)"
      ]
     },
     "execution_count": 28,
     "metadata": {},
     "output_type": "execute_result"
    }
   ],
   "source": [
    "km.fit(X_scaled)"
   ]
  },
  {
   "cell_type": "code",
   "execution_count": 29,
   "metadata": {},
   "outputs": [
    {
     "name": "stderr",
     "output_type": "stream",
     "text": [
      "/opt/anaconda3/lib/python3.7/site-packages/ipykernel_launcher.py:1: SettingWithCopyWarning: \n",
      "A value is trying to be set on a copy of a slice from a DataFrame.\n",
      "Try using .loc[row_indexer,col_indexer] = value instead\n",
      "\n",
      "See the caveats in the documentation: http://pandas.pydata.org/pandas-docs/stable/user_guide/indexing.html#returning-a-view-versus-a-copy\n",
      "  \"\"\"Entry point for launching an IPython kernel.\n"
     ]
    }
   ],
   "source": [
    "testinc['cluster'] = km.labels_"
   ]
  },
  {
   "cell_type": "code",
   "execution_count": 30,
   "metadata": {},
   "outputs": [
    {
     "data": {
      "text/html": [
       "<div>\n",
       "<style scoped>\n",
       "    .dataframe tbody tr th:only-of-type {\n",
       "        vertical-align: middle;\n",
       "    }\n",
       "\n",
       "    .dataframe tbody tr th {\n",
       "        vertical-align: top;\n",
       "    }\n",
       "\n",
       "    .dataframe thead th {\n",
       "        text-align: right;\n",
       "    }\n",
       "</style>\n",
       "<table border=\"1\" class=\"dataframe\">\n",
       "  <thead>\n",
       "    <tr style=\"text-align: right;\">\n",
       "      <th></th>\n",
       "      <th>med_income</th>\n",
       "      <th>poverty</th>\n",
       "      <th>hs_completion</th>\n",
       "      <th>density</th>\n",
       "      <th>students_per_teacher</th>\n",
       "      <th>crime_rate_pc</th>\n",
       "      <th>property_crime</th>\n",
       "      <th>violent_crime</th>\n",
       "    </tr>\n",
       "    <tr>\n",
       "      <th>cluster</th>\n",
       "      <th></th>\n",
       "      <th></th>\n",
       "      <th></th>\n",
       "      <th></th>\n",
       "      <th></th>\n",
       "      <th></th>\n",
       "      <th></th>\n",
       "      <th></th>\n",
       "    </tr>\n",
       "  </thead>\n",
       "  <tbody>\n",
       "    <tr>\n",
       "      <th>0</th>\n",
       "      <td>68220.023147</td>\n",
       "      <td>10.420027</td>\n",
       "      <td>91.613318</td>\n",
       "      <td>359.253438</td>\n",
       "      <td>16.079501</td>\n",
       "      <td>0.018126</td>\n",
       "      <td>239.085542</td>\n",
       "      <td>24.370681</td>\n",
       "    </tr>\n",
       "    <tr>\n",
       "      <th>1</th>\n",
       "      <td>41819.053531</td>\n",
       "      <td>25.111512</td>\n",
       "      <td>79.992744</td>\n",
       "      <td>121.146469</td>\n",
       "      <td>15.098483</td>\n",
       "      <td>0.020490</td>\n",
       "      <td>198.904547</td>\n",
       "      <td>32.638504</td>\n",
       "    </tr>\n",
       "  </tbody>\n",
       "</table>\n",
       "</div>"
      ],
      "text/plain": [
       "           med_income    poverty  hs_completion     density  \\\n",
       "cluster                                                       \n",
       "0        68220.023147  10.420027      91.613318  359.253438   \n",
       "1        41819.053531  25.111512      79.992744  121.146469   \n",
       "\n",
       "         students_per_teacher  crime_rate_pc  property_crime  violent_crime  \n",
       "cluster                                                                      \n",
       "0                   16.079501       0.018126      239.085542      24.370681  \n",
       "1                   15.098483       0.020490      198.904547      32.638504  "
      ]
     },
     "execution_count": 30,
     "metadata": {},
     "output_type": "execute_result"
    }
   ],
   "source": [
    "centroids = testinc.groupby('cluster')[features].mean()\n",
    "centroids"
   ]
  },
  {
   "cell_type": "code",
   "execution_count": 31,
   "metadata": {},
   "outputs": [
    {
     "data": {
      "text/plain": [
       "array([[6.82085283e+04, 1.04223265e+01, 9.16084143e+01, 3.59034965e+02,\n",
       "        1.60777714e+01, 1.81233937e-02, 2.38971840e+02, 2.43590345e+01],\n",
       "       [4.18130797e+04, 2.51187803e+01, 7.99899645e+01, 1.21203098e+02,\n",
       "        1.50995146e+01, 2.04940729e-02, 1.98988061e+02, 3.26550500e+01]])"
      ]
     },
     "execution_count": 31,
     "metadata": {},
     "output_type": "execute_result"
    }
   ],
   "source": [
    "ss.inverse_transform(km.cluster_centers_)"
   ]
  },
  {
   "cell_type": "code",
   "execution_count": 38,
   "metadata": {},
   "outputs": [
    {
     "name": "stderr",
     "output_type": "stream",
     "text": [
      "/opt/anaconda3/lib/python3.7/site-packages/ipykernel_launcher.py:2: SettingWithCopyWarning: \n",
      "A value is trying to be set on a copy of a slice from a DataFrame.\n",
      "Try using .loc[row_indexer,col_indexer] = value instead\n",
      "\n",
      "See the caveats in the documentation: http://pandas.pydata.org/pandas-docs/stable/user_guide/indexing.html#returning-a-view-versus-a-copy\n",
      "  \n"
     ]
    },
    {
     "data": {
      "image/png": "[encoded data removed]",
      "text/plain": [
       "<Figure size 720x576 with 1 Axes>"
      ]
     },
     "metadata": {
      "needs_background": "light"
     },
     "output_type": "display_data"
    }
   ],
   "source": [
    "colors = ['red', 'green']\n",
    "testinc['color'] = testinc['cluster'].map(lambda p: colors[p])\n",
    "\n",
    "ax = testinc.plot(    \n",
    "    kind = 'scatter', \n",
    "    x = 'density', y = 'property_crime',\n",
    "    figsize = (10,8),\n",
    "    alpha = .5,\n",
    "    c = testinc['color']\n",
    ")\n",
    "\n",
    "centroids.plot(\n",
    "    kind = 'scatter', \n",
    "    x = 'density', y = 'property_crime', \n",
    "    marker = '*', c = 'yellow', s = 550,\n",
    "    ax = ax\n",
    ");"
   ]
  },
  {
   "cell_type": "code",
   "execution_count": 36,
   "metadata": {},
   "outputs": [
    {
     "data": {
      "text/plain": [
       "0.23306570650606084"
      ]
     },
     "execution_count": 36,
     "metadata": {},
     "output_type": "execute_result"
    }
   ],
   "source": [
    "silhouette_score(X_scaled, km.labels_)"
   ]
  },
  {
   "cell_type": "code",
   "execution_count": 82,
   "metadata": {},
   "outputs": [],
   "source": [
    "scores = []\n",
    "for k in range(2, 30):\n",
    "    cl = KMeans(n_clusters = k, random_state = 42)\n",
    "    cl.fit(X_scaled)\n",
    "    inertia = cl.inertia_\n",
    "    sil = silhouette_score(X_scaled, cl.labels_)\n",
    "    scores.append((k, inertia, sil))"
   ]
  },
  {
   "cell_type": "code",
   "execution_count": 83,
   "metadata": {},
   "outputs": [
    {
     "data": {
      "text/html": [
       "<div>\n",
       "<style scoped>\n",
       "    .dataframe tbody tr th:only-of-type {\n",
       "        vertical-align: middle;\n",
       "    }\n",
       "\n",
       "    .dataframe tbody tr th {\n",
       "        vertical-align: top;\n",
       "    }\n",
       "\n",
       "    .dataframe thead th {\n",
       "        text-align: right;\n",
       "    }\n",
       "</style>\n",
       "<table border=\"1\" class=\"dataframe\">\n",
       "  <thead>\n",
       "    <tr style=\"text-align: right;\">\n",
       "      <th></th>\n",
       "      <th>k</th>\n",
       "      <th>inertia</th>\n",
       "      <th>sil</th>\n",
       "    </tr>\n",
       "  </thead>\n",
       "  <tbody>\n",
       "    <tr>\n",
       "      <th>0</th>\n",
       "      <td>2</td>\n",
       "      <td>32550.476542</td>\n",
       "      <td>0.260867</td>\n",
       "    </tr>\n",
       "    <tr>\n",
       "      <th>1</th>\n",
       "      <td>3</td>\n",
       "      <td>27569.622517</td>\n",
       "      <td>0.266670</td>\n",
       "    </tr>\n",
       "    <tr>\n",
       "      <th>2</th>\n",
       "      <td>4</td>\n",
       "      <td>23671.509800</td>\n",
       "      <td>0.248402</td>\n",
       "    </tr>\n",
       "    <tr>\n",
       "      <th>3</th>\n",
       "      <td>5</td>\n",
       "      <td>20316.041168</td>\n",
       "      <td>0.249393</td>\n",
       "    </tr>\n",
       "    <tr>\n",
       "      <th>4</th>\n",
       "      <td>6</td>\n",
       "      <td>18593.754376</td>\n",
       "      <td>0.253709</td>\n",
       "    </tr>\n",
       "  </tbody>\n",
       "</table>\n",
       "</div>"
      ],
      "text/plain": [
       "   k       inertia       sil\n",
       "0  2  32550.476542  0.260867\n",
       "1  3  27569.622517  0.266670\n",
       "2  4  23671.509800  0.248402\n",
       "3  5  20316.041168  0.249393\n",
       "4  6  18593.754376  0.253709"
      ]
     },
     "execution_count": 83,
     "metadata": {},
     "output_type": "execute_result"
    }
   ],
   "source": [
    "score_df = pd.DataFrame(scores, columns = ['k', 'inertia', 'sil'])\n",
    "score_df.head()"
   ]
  },
  {
   "cell_type": "markdown",
   "metadata": {},
   "source": [
    "### Regression"
   ]
  },
  {
   "cell_type": "code",
   "execution_count": 58,
   "metadata": {},
   "outputs": [],
   "source": [
    "features = [\n",
    "    'med_income',\n",
    "    'poverty',\n",
    "    'hs_completion',\n",
    "    'density',\n",
    "    'students_per_teacher',\n",
    "    'n_households',\n",
    "    #'gini',\n",
    "    #'population'\n",
    "]\n",
    "X = testinc[features]\n",
    "y = testinc['crime_rate']"
   ]
  },
  {
   "cell_type": "code",
   "execution_count": 59,
   "metadata": {},
   "outputs": [],
   "source": [
    "pf = PolynomialFeatures()\n",
    "X_poly = pf.fit_transform(X)"
   ]
  },
  {
   "cell_type": "code",
   "execution_count": 60,
   "metadata": {},
   "outputs": [],
   "source": [
    "ss = StandardScaler()\n",
    "X_scaled = ss.fit_transform(X_poly)"
   ]
  },
  {
   "cell_type": "code",
   "execution_count": 61,
   "metadata": {},
   "outputs": [],
   "source": [
    "X_train, X_test, y_train, y_test = train_test_split(X_scaled, y, random_state = 42)"
   ]
  },
  {
   "cell_type": "code",
   "execution_count": 62,
   "metadata": {
    "scrolled": true
   },
   "outputs": [
    {
     "name": "stderr",
     "output_type": "stream",
     "text": [
      "/opt/anaconda3/lib/python3.7/site-packages/sklearn/ensemble/forest.py:245: FutureWarning: The default value of n_estimators will change from 10 in version 0.20 to 100 in 0.22.\n",
      "  \"10 in version 0.20 to 100 in 0.22.\", FutureWarning)\n"
     ]
    },
    {
     "data": {
      "text/plain": [
       "0.5526546814985553"
      ]
     },
     "execution_count": 62,
     "metadata": {},
     "output_type": "execute_result"
    }
   ],
   "source": [
    "rf = RandomForestRegressor() # random_state = 27\n",
    "rf.fit(X_train, y_train)\n",
    "rf.score(X_test, y_test)"
   ]
  },
  {
   "cell_type": "code",
   "execution_count": 63,
   "metadata": {},
   "outputs": [
    {
     "data": {
      "text/plain": [
       "0.5257777493882156"
      ]
     },
     "execution_count": 63,
     "metadata": {},
     "output_type": "execute_result"
    }
   ],
   "source": [
    "lr = LinearRegression()\n",
    "lr.fit(X_train, y_train)\n",
    "lr.score(X_test, y_test)"
   ]
  },
  {
   "cell_type": "code",
   "execution_count": 64,
   "metadata": {},
   "outputs": [
    {
     "data": {
      "text/plain": [
       "array([-1.28076969e-14,  3.25173452e+01,  4.28255293e+01,  7.63374220e+00,\n",
       "        2.95101411e+01, -2.52368961e+01,  4.38727260e+02,  9.93007158e+00,\n",
       "       -1.95604633e+01, -5.39275105e+01,  4.66078168e+01,  6.68182788e+01,\n",
       "       -8.13747424e+01, -6.44013972e+01,  3.19163468e+01,  5.14229799e+01,\n",
       "        3.97059382e+01,  1.34097349e+01,  1.42988426e+01,  1.92522720e+01,\n",
       "       -4.81078119e+01, -1.12832350e+02, -5.35574004e+01, -2.72682785e+01,\n",
       "       -1.93538493e+01,  9.84690147e+00,  2.13573186e+01, -1.19769768e+02])"
      ]
     },
     "execution_count": 64,
     "metadata": {},
     "output_type": "execute_result"
    }
   ],
   "source": [
    "lr.coef_"
   ]
  },
  {
   "cell_type": "code",
   "execution_count": null,
   "metadata": {},
   "outputs": [],
   "source": []
  }
 ],
 "metadata": {
  "kernelspec": {
   "display_name": "Python 3",
   "language": "python",
   "name": "python3"
  },
  "language_info": {
   "codemirror_mode": {
    "name": "ipython",
    "version": 3
   },
   "file_extension": ".py",
   "mimetype": "text/x-python",
   "name": "python",
   "nbconvert_exporter": "python",
   "pygments_lexer": "ipython3",
   "version": "3.7.4"
  }
 },
 "nbformat": 4,
 "nbformat_minor": 2
}
