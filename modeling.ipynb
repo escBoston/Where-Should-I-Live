{
 "cells": [
  {
   "cell_type": "markdown",
   "metadata": {},
   "source": [
    "poverty: by town <br>\n",
    "hs_completion: by town <br>\n",
    "n_households: by zip <br>\n",
    "med_income: by zip <br>\n",
    "population & density: by zip <br>\n",
    "crime_rate: by town <br>\n",
    "students_per_teacher: by town"
   ]
  },
  {
   "cell_type": "code",
   "execution_count": 1,
   "metadata": {},
   "outputs": [],
   "source": [
    "import pandas as pd\n",
    "import numpy as np\n",
    "import matplotlib.pyplot as plt\n",
    "\n",
    "from sklearn.preprocessing import StandardScaler, PolynomialFeatures\n",
    "from sklearn.linear_model import LinearRegression\n",
    "from sklearn.ensemble import RandomForestRegressor\n",
    "from sklearn.model_selection import train_test_split\n",
    "from sklearn.cluster import KMeans\n",
    "from sklearn.cluster import DBSCAN\n",
    "from sklearn.metrics import silhouette_score, r2_score\n",
    "from sklearn.decomposition import PCA\n",
    "\n",
    "import requests\n",
    "from bs4 import BeautifulSoup\n",
    "\n",
    "import pickle\n",
    "import time"
   ]
  },
  {
   "cell_type": "code",
   "execution_count": 2,
   "metadata": {
    "scrolled": true
   },
   "outputs": [],
   "source": [
    "inc = pd.read_csv('./data/inc.csv')"
   ]
  },
  {
   "cell_type": "code",
   "execution_count": 3,
   "metadata": {},
   "outputs": [
    {
     "data": {
      "text/html": [
       "<div>\n",
       "<style scoped>\n",
       "    .dataframe tbody tr th:only-of-type {\n",
       "        vertical-align: middle;\n",
       "    }\n",
       "\n",
       "    .dataframe tbody tr th {\n",
       "        vertical-align: top;\n",
       "    }\n",
       "\n",
       "    .dataframe thead th {\n",
       "        text-align: right;\n",
       "    }\n",
       "</style>\n",
       "<table border=\"1\" class=\"dataframe\">\n",
       "  <thead>\n",
       "    <tr style=\"text-align: right;\">\n",
       "      <th></th>\n",
       "      <th>Unnamed: 0</th>\n",
       "      <th>Unnamed: 0.1</th>\n",
       "      <th>Unnamed: 0.1.1</th>\n",
       "      <th>state</th>\n",
       "      <th>town</th>\n",
       "      <th>poverty</th>\n",
       "      <th>hs_completion</th>\n",
       "      <th>townstate</th>\n",
       "      <th>ZCTA</th>\n",
       "      <th>n_households</th>\n",
       "      <th>med_income</th>\n",
       "      <th>population</th>\n",
       "      <th>density</th>\n",
       "      <th>city</th>\n",
       "      <th>state_id</th>\n",
       "      <th>state_name</th>\n",
       "      <th>lat</th>\n",
       "      <th>lng</th>\n",
       "      <th>crime_rate</th>\n",
       "      <th>students_per_teacher</th>\n",
       "      <th>property_crime</th>\n",
       "      <th>violent_crime</th>\n",
       "    </tr>\n",
       "  </thead>\n",
       "  <tbody>\n",
       "    <tr>\n",
       "      <th>0</th>\n",
       "      <td>0</td>\n",
       "      <td>0</td>\n",
       "      <td>0</td>\n",
       "      <td>Alabama</td>\n",
       "      <td>Abbeville</td>\n",
       "      <td>20.7</td>\n",
       "      <td>79.1</td>\n",
       "      <td>Abbeville, Alabama</td>\n",
       "      <td>36310</td>\n",
       "      <td>2555</td>\n",
       "      <td>40186</td>\n",
       "      <td>6055</td>\n",
       "      <td>12.2</td>\n",
       "      <td>Abbeville</td>\n",
       "      <td>AL</td>\n",
       "      <td>Alabama</td>\n",
       "      <td>31.60296</td>\n",
       "      <td>-85.21630</td>\n",
       "      <td>62.0</td>\n",
       "      <td>13.000000</td>\n",
       "      <td>51.0</td>\n",
       "      <td>11.0</td>\n",
       "    </tr>\n",
       "    <tr>\n",
       "      <th>1</th>\n",
       "      <td>1</td>\n",
       "      <td>1</td>\n",
       "      <td>1</td>\n",
       "      <td>Alabama</td>\n",
       "      <td>Adamsville</td>\n",
       "      <td>16</td>\n",
       "      <td>83.5</td>\n",
       "      <td>Adamsville, Alabama</td>\n",
       "      <td>35005</td>\n",
       "      <td>2792</td>\n",
       "      <td>50271</td>\n",
       "      <td>7528</td>\n",
       "      <td>89.3</td>\n",
       "      <td>Adamsville</td>\n",
       "      <td>AL</td>\n",
       "      <td>Alabama</td>\n",
       "      <td>33.59515</td>\n",
       "      <td>-87.00089</td>\n",
       "      <td>269.0</td>\n",
       "      <td>17.666667</td>\n",
       "      <td>250.0</td>\n",
       "      <td>19.0</td>\n",
       "    </tr>\n",
       "    <tr>\n",
       "      <th>2</th>\n",
       "      <td>2</td>\n",
       "      <td>2</td>\n",
       "      <td>2</td>\n",
       "      <td>Alabama</td>\n",
       "      <td>Addison</td>\n",
       "      <td>34.2</td>\n",
       "      <td>85.1</td>\n",
       "      <td>Addison, Alabama</td>\n",
       "      <td>35540</td>\n",
       "      <td>1075</td>\n",
       "      <td>45074</td>\n",
       "      <td>2436</td>\n",
       "      <td>12.6</td>\n",
       "      <td>Addison</td>\n",
       "      <td>AL</td>\n",
       "      <td>Alabama</td>\n",
       "      <td>34.23388</td>\n",
       "      <td>-87.18817</td>\n",
       "      <td>15.0</td>\n",
       "      <td>15.500000</td>\n",
       "      <td>14.0</td>\n",
       "      <td>1.0</td>\n",
       "    </tr>\n",
       "    <tr>\n",
       "      <th>3</th>\n",
       "      <td>3</td>\n",
       "      <td>3</td>\n",
       "      <td>3</td>\n",
       "      <td>Alabama</td>\n",
       "      <td>Akron</td>\n",
       "      <td>48.7</td>\n",
       "      <td>62.8</td>\n",
       "      <td>Akron, Alabama</td>\n",
       "      <td>35441</td>\n",
       "      <td>372</td>\n",
       "      <td>36731</td>\n",
       "      <td>1089</td>\n",
       "      <td>6.1</td>\n",
       "      <td>Akron</td>\n",
       "      <td>AL</td>\n",
       "      <td>Alabama</td>\n",
       "      <td>32.85374</td>\n",
       "      <td>-87.73861</td>\n",
       "      <td>NaN</td>\n",
       "      <td>NaN</td>\n",
       "      <td>NaN</td>\n",
       "      <td>NaN</td>\n",
       "    </tr>\n",
       "    <tr>\n",
       "      <th>4</th>\n",
       "      <td>4</td>\n",
       "      <td>4</td>\n",
       "      <td>4</td>\n",
       "      <td>Alabama</td>\n",
       "      <td>Alabaster</td>\n",
       "      <td>11.1</td>\n",
       "      <td>88.8</td>\n",
       "      <td>Alabaster, Alabama</td>\n",
       "      <td>35007</td>\n",
       "      <td>8628</td>\n",
       "      <td>69691</td>\n",
       "      <td>26328</td>\n",
       "      <td>270.8</td>\n",
       "      <td>Alabaster</td>\n",
       "      <td>AL</td>\n",
       "      <td>Alabama</td>\n",
       "      <td>33.21591</td>\n",
       "      <td>-86.79717</td>\n",
       "      <td>585.0</td>\n",
       "      <td>18.571429</td>\n",
       "      <td>488.0</td>\n",
       "      <td>97.0</td>\n",
       "    </tr>\n",
       "  </tbody>\n",
       "</table>\n",
       "</div>"
      ],
      "text/plain": [
       "   Unnamed: 0  Unnamed: 0.1  Unnamed: 0.1.1    state        town poverty  \\\n",
       "0           0             0               0  Alabama   Abbeville    20.7   \n",
       "1           1             1               1  Alabama  Adamsville      16   \n",
       "2           2             2               2  Alabama     Addison    34.2   \n",
       "3           3             3               3  Alabama       Akron    48.7   \n",
       "4           4             4               4  Alabama   Alabaster    11.1   \n",
       "\n",
       "  hs_completion            townstate   ZCTA  n_households  med_income  \\\n",
       "0          79.1   Abbeville, Alabama  36310          2555       40186   \n",
       "1          83.5  Adamsville, Alabama  35005          2792       50271   \n",
       "2          85.1     Addison, Alabama  35540          1075       45074   \n",
       "3          62.8       Akron, Alabama  35441           372       36731   \n",
       "4          88.8   Alabaster, Alabama  35007          8628       69691   \n",
       "\n",
       "   population  density        city state_id state_name       lat       lng  \\\n",
       "0        6055     12.2   Abbeville       AL    Alabama  31.60296 -85.21630   \n",
       "1        7528     89.3  Adamsville       AL    Alabama  33.59515 -87.00089   \n",
       "2        2436     12.6     Addison       AL    Alabama  34.23388 -87.18817   \n",
       "3        1089      6.1       Akron       AL    Alabama  32.85374 -87.73861   \n",
       "4       26328    270.8   Alabaster       AL    Alabama  33.21591 -86.79717   \n",
       "\n",
       "   crime_rate  students_per_teacher  property_crime  violent_crime  \n",
       "0        62.0             13.000000            51.0           11.0  \n",
       "1       269.0             17.666667           250.0           19.0  \n",
       "2        15.0             15.500000            14.0            1.0  \n",
       "3         NaN                   NaN             NaN            NaN  \n",
       "4       585.0             18.571429           488.0           97.0  "
      ]
     },
     "execution_count": 3,
     "metadata": {},
     "output_type": "execute_result"
    }
   ],
   "source": [
    "pd.set_option('display.max_columns', 30)\n",
    "inc.head()"
   ]
  },
  {
   "cell_type": "code",
   "execution_count": 4,
   "metadata": {},
   "outputs": [
    {
     "data": {
      "text/plain": [
       "Houston, Texas               97\n",
       "New York, New York           69\n",
       "Los Angeles, California      65\n",
       "San Antonio, Texas           59\n",
       "Chicago, Illinois            56\n",
       "                             ..\n",
       "Centerton, Arkansas           1\n",
       "Munster, Indiana              1\n",
       "Kelly, North Carolina         1\n",
       "Estill Springs, Tennessee     1\n",
       "Minersville, Utah             1\n",
       "Name: townstate, Length: 16187, dtype: int64"
      ]
     },
     "execution_count": 4,
     "metadata": {},
     "output_type": "execute_result"
    }
   ],
   "source": [
    "inc['townstate'].value_counts()"
   ]
  },
  {
   "cell_type": "markdown",
   "metadata": {},
   "source": [
    "### Get counties for gini index"
   ]
  },
  {
   "cell_type": "code",
   "execution_count": 5,
   "metadata": {},
   "outputs": [],
   "source": [
    "counties = pd.read_csv('./data/uscities.csv')"
   ]
  },
  {
   "cell_type": "code",
   "execution_count": 6,
   "metadata": {},
   "outputs": [
    {
     "data": {
      "text/html": [
       "<div>\n",
       "<style scoped>\n",
       "    .dataframe tbody tr th:only-of-type {\n",
       "        vertical-align: middle;\n",
       "    }\n",
       "\n",
       "    .dataframe tbody tr th {\n",
       "        vertical-align: top;\n",
       "    }\n",
       "\n",
       "    .dataframe thead th {\n",
       "        text-align: right;\n",
       "    }\n",
       "</style>\n",
       "<table border=\"1\" class=\"dataframe\">\n",
       "  <thead>\n",
       "    <tr style=\"text-align: right;\">\n",
       "      <th></th>\n",
       "      <th>city</th>\n",
       "      <th>city_ascii</th>\n",
       "      <th>state_id</th>\n",
       "      <th>state_name</th>\n",
       "      <th>county_fips</th>\n",
       "      <th>county_name</th>\n",
       "      <th>county_fips_all</th>\n",
       "      <th>county_name_all</th>\n",
       "      <th>lat</th>\n",
       "      <th>lng</th>\n",
       "      <th>population</th>\n",
       "      <th>density</th>\n",
       "      <th>source</th>\n",
       "      <th>military</th>\n",
       "      <th>incorporated</th>\n",
       "      <th>timezone</th>\n",
       "      <th>ranking</th>\n",
       "      <th>zips</th>\n",
       "      <th>id</th>\n",
       "    </tr>\n",
       "  </thead>\n",
       "  <tbody>\n",
       "    <tr>\n",
       "      <th>0</th>\n",
       "      <td>South Creek</td>\n",
       "      <td>South Creek</td>\n",
       "      <td>WA</td>\n",
       "      <td>Washington</td>\n",
       "      <td>53053</td>\n",
       "      <td>Pierce</td>\n",
       "      <td>53053</td>\n",
       "      <td>Pierce</td>\n",
       "      <td>46.9994</td>\n",
       "      <td>-122.3921</td>\n",
       "      <td>2500.0</td>\n",
       "      <td>125.0</td>\n",
       "      <td>polygon</td>\n",
       "      <td>False</td>\n",
       "      <td>True</td>\n",
       "      <td>America/Los_Angeles</td>\n",
       "      <td>3</td>\n",
       "      <td>98580 98387 98338</td>\n",
       "      <td>1840042075</td>\n",
       "    </tr>\n",
       "    <tr>\n",
       "      <th>1</th>\n",
       "      <td>Roslyn</td>\n",
       "      <td>Roslyn</td>\n",
       "      <td>WA</td>\n",
       "      <td>Washington</td>\n",
       "      <td>53037</td>\n",
       "      <td>Kittitas</td>\n",
       "      <td>53037</td>\n",
       "      <td>Kittitas</td>\n",
       "      <td>47.2507</td>\n",
       "      <td>-121.0989</td>\n",
       "      <td>947.0</td>\n",
       "      <td>84.0</td>\n",
       "      <td>polygon</td>\n",
       "      <td>False</td>\n",
       "      <td>True</td>\n",
       "      <td>America/Los_Angeles</td>\n",
       "      <td>3</td>\n",
       "      <td>98941 98068 98925</td>\n",
       "      <td>1840019842</td>\n",
       "    </tr>\n",
       "    <tr>\n",
       "      <th>2</th>\n",
       "      <td>Sprague</td>\n",
       "      <td>Sprague</td>\n",
       "      <td>WA</td>\n",
       "      <td>Washington</td>\n",
       "      <td>53043</td>\n",
       "      <td>Lincoln</td>\n",
       "      <td>53043</td>\n",
       "      <td>Lincoln</td>\n",
       "      <td>47.3048</td>\n",
       "      <td>-117.9713</td>\n",
       "      <td>441.0</td>\n",
       "      <td>163.0</td>\n",
       "      <td>polygon</td>\n",
       "      <td>False</td>\n",
       "      <td>True</td>\n",
       "      <td>America/Los_Angeles</td>\n",
       "      <td>3</td>\n",
       "      <td>99032</td>\n",
       "      <td>1840021107</td>\n",
       "    </tr>\n",
       "    <tr>\n",
       "      <th>3</th>\n",
       "      <td>Gig Harbor</td>\n",
       "      <td>Gig Harbor</td>\n",
       "      <td>WA</td>\n",
       "      <td>Washington</td>\n",
       "      <td>53053</td>\n",
       "      <td>Pierce</td>\n",
       "      <td>53053</td>\n",
       "      <td>Pierce</td>\n",
       "      <td>47.3352</td>\n",
       "      <td>-122.5968</td>\n",
       "      <td>9507.0</td>\n",
       "      <td>622.0</td>\n",
       "      <td>polygon</td>\n",
       "      <td>False</td>\n",
       "      <td>True</td>\n",
       "      <td>America/Los_Angeles</td>\n",
       "      <td>3</td>\n",
       "      <td>98332 98335</td>\n",
       "      <td>1840019855</td>\n",
       "    </tr>\n",
       "    <tr>\n",
       "      <th>4</th>\n",
       "      <td>Lake Cassidy</td>\n",
       "      <td>Lake Cassidy</td>\n",
       "      <td>WA</td>\n",
       "      <td>Washington</td>\n",
       "      <td>53061</td>\n",
       "      <td>Snohomish</td>\n",
       "      <td>53061</td>\n",
       "      <td>Snohomish</td>\n",
       "      <td>48.0639</td>\n",
       "      <td>-122.0920</td>\n",
       "      <td>3591.0</td>\n",
       "      <td>131.0</td>\n",
       "      <td>polygon</td>\n",
       "      <td>False</td>\n",
       "      <td>True</td>\n",
       "      <td>America/Los_Angeles</td>\n",
       "      <td>3</td>\n",
       "      <td>98223 98258 98270</td>\n",
       "      <td>1840041959</td>\n",
       "    </tr>\n",
       "  </tbody>\n",
       "</table>\n",
       "</div>"
      ],
      "text/plain": [
       "           city    city_ascii state_id  state_name  county_fips county_name  \\\n",
       "0   South Creek   South Creek       WA  Washington        53053      Pierce   \n",
       "1        Roslyn        Roslyn       WA  Washington        53037    Kittitas   \n",
       "2       Sprague       Sprague       WA  Washington        53043     Lincoln   \n",
       "3    Gig Harbor    Gig Harbor       WA  Washington        53053      Pierce   \n",
       "4  Lake Cassidy  Lake Cassidy       WA  Washington        53061   Snohomish   \n",
       "\n",
       "  county_fips_all county_name_all      lat       lng  population  density  \\\n",
       "0           53053          Pierce  46.9994 -122.3921      2500.0    125.0   \n",
       "1           53037        Kittitas  47.2507 -121.0989       947.0     84.0   \n",
       "2           53043         Lincoln  47.3048 -117.9713       441.0    163.0   \n",
       "3           53053          Pierce  47.3352 -122.5968      9507.0    622.0   \n",
       "4           53061       Snohomish  48.0639 -122.0920      3591.0    131.0   \n",
       "\n",
       "    source  military  incorporated             timezone  ranking  \\\n",
       "0  polygon     False          True  America/Los_Angeles        3   \n",
       "1  polygon     False          True  America/Los_Angeles        3   \n",
       "2  polygon     False          True  America/Los_Angeles        3   \n",
       "3  polygon     False          True  America/Los_Angeles        3   \n",
       "4  polygon     False          True  America/Los_Angeles        3   \n",
       "\n",
       "                zips          id  \n",
       "0  98580 98387 98338  1840042075  \n",
       "1  98941 98068 98925  1840019842  \n",
       "2              99032  1840021107  \n",
       "3        98332 98335  1840019855  \n",
       "4  98223 98258 98270  1840041959  "
      ]
     },
     "execution_count": 6,
     "metadata": {},
     "output_type": "execute_result"
    }
   ],
   "source": [
    "counties.head()"
   ]
  },
  {
   "cell_type": "code",
   "execution_count": 7,
   "metadata": {},
   "outputs": [],
   "source": [
    "counties['townstate'] = counties['city'] + ', ' + counties['state_name']"
   ]
  },
  {
   "cell_type": "code",
   "execution_count": 8,
   "metadata": {},
   "outputs": [],
   "source": [
    "tempcounties = counties[['county_name', 'townstate']]"
   ]
  },
  {
   "cell_type": "code",
   "execution_count": 9,
   "metadata": {},
   "outputs": [
    {
     "name": "stdout",
     "output_type": "stream",
     "text": [
      "(21167, 22)\n",
      "(20705, 23)\n"
     ]
    }
   ],
   "source": [
    "print(inc.shape)\n",
    "inc = pd.merge(inc, tempcounties, left_on = 'townstate', right_on = 'townstate')\n",
    "print(inc.shape)"
   ]
  },
  {
   "cell_type": "code",
   "execution_count": 10,
   "metadata": {},
   "outputs": [],
   "source": [
    "inc['countystate'] = inc['county_name'] + ', ' + inc['state']"
   ]
  },
  {
   "cell_type": "markdown",
   "metadata": {},
   "source": [
    "### Get Gini"
   ]
  },
  {
   "cell_type": "code",
   "execution_count": 11,
   "metadata": {},
   "outputs": [],
   "source": [
    "gini = pd.read_csv('./data/gini.csv')"
   ]
  },
  {
   "cell_type": "code",
   "execution_count": 12,
   "metadata": {},
   "outputs": [
    {
     "data": {
      "text/html": [
       "<div>\n",
       "<style scoped>\n",
       "    .dataframe tbody tr th:only-of-type {\n",
       "        vertical-align: middle;\n",
       "    }\n",
       "\n",
       "    .dataframe tbody tr th {\n",
       "        vertical-align: top;\n",
       "    }\n",
       "\n",
       "    .dataframe thead th {\n",
       "        text-align: right;\n",
       "    }\n",
       "</style>\n",
       "<table border=\"1\" class=\"dataframe\">\n",
       "  <thead>\n",
       "    <tr style=\"text-align: right;\">\n",
       "      <th></th>\n",
       "      <th>GEO_ID</th>\n",
       "      <th>NAME</th>\n",
       "      <th>B19083_001E</th>\n",
       "      <th>B19083_001M</th>\n",
       "    </tr>\n",
       "  </thead>\n",
       "  <tbody>\n",
       "    <tr>\n",
       "      <th>0</th>\n",
       "      <td>id</td>\n",
       "      <td>Geographic Area Name</td>\n",
       "      <td>Estimate!!Gini Index</td>\n",
       "      <td>Margin of Error!!Gini Index</td>\n",
       "    </tr>\n",
       "    <tr>\n",
       "      <th>1</th>\n",
       "      <td>0500000US01003</td>\n",
       "      <td>Baldwin County, Alabama</td>\n",
       "      <td>0.4725</td>\n",
       "      <td>0.0271</td>\n",
       "    </tr>\n",
       "    <tr>\n",
       "      <th>2</th>\n",
       "      <td>0500000US01015</td>\n",
       "      <td>Calhoun County, Alabama</td>\n",
       "      <td>0.4650</td>\n",
       "      <td>0.0292</td>\n",
       "    </tr>\n",
       "    <tr>\n",
       "      <th>3</th>\n",
       "      <td>0500000US01043</td>\n",
       "      <td>Cullman County, Alabama</td>\n",
       "      <td>0.4981</td>\n",
       "      <td>0.0572</td>\n",
       "    </tr>\n",
       "    <tr>\n",
       "      <th>4</th>\n",
       "      <td>0500000US01049</td>\n",
       "      <td>DeKalb County, Alabama</td>\n",
       "      <td>0.5003</td>\n",
       "      <td>0.0416</td>\n",
       "    </tr>\n",
       "  </tbody>\n",
       "</table>\n",
       "</div>"
      ],
      "text/plain": [
       "           GEO_ID                     NAME           B19083_001E  \\\n",
       "0              id     Geographic Area Name  Estimate!!Gini Index   \n",
       "1  0500000US01003  Baldwin County, Alabama                0.4725   \n",
       "2  0500000US01015  Calhoun County, Alabama                0.4650   \n",
       "3  0500000US01043  Cullman County, Alabama                0.4981   \n",
       "4  0500000US01049   DeKalb County, Alabama                0.5003   \n",
       "\n",
       "                   B19083_001M  \n",
       "0  Margin of Error!!Gini Index  \n",
       "1                       0.0271  \n",
       "2                       0.0292  \n",
       "3                       0.0572  \n",
       "4                       0.0416  "
      ]
     },
     "execution_count": 12,
     "metadata": {},
     "output_type": "execute_result"
    }
   ],
   "source": [
    "gini.head()"
   ]
  },
  {
   "cell_type": "code",
   "execution_count": 13,
   "metadata": {},
   "outputs": [
    {
     "data": {
      "text/plain": [
       "(839, 4)"
      ]
     },
     "execution_count": 13,
     "metadata": {},
     "output_type": "execute_result"
    }
   ],
   "source": [
    "gini.shape"
   ]
  },
  {
   "cell_type": "code",
   "execution_count": 14,
   "metadata": {},
   "outputs": [],
   "source": [
    "gini = gini[['NAME', 'B19083_001E']]"
   ]
  },
  {
   "cell_type": "code",
   "execution_count": 15,
   "metadata": {},
   "outputs": [],
   "source": [
    "gini.drop([0], inplace = True)\n",
    "gini.reset_index(drop = True, inplace = True)"
   ]
  },
  {
   "cell_type": "code",
   "execution_count": 16,
   "metadata": {},
   "outputs": [],
   "source": [
    "gini.columns = ['countystate', 'gini']"
   ]
  },
  {
   "cell_type": "code",
   "execution_count": 17,
   "metadata": {},
   "outputs": [
    {
     "data": {
      "text/html": [
       "<div>\n",
       "<style scoped>\n",
       "    .dataframe tbody tr th:only-of-type {\n",
       "        vertical-align: middle;\n",
       "    }\n",
       "\n",
       "    .dataframe tbody tr th {\n",
       "        vertical-align: top;\n",
       "    }\n",
       "\n",
       "    .dataframe thead th {\n",
       "        text-align: right;\n",
       "    }\n",
       "</style>\n",
       "<table border=\"1\" class=\"dataframe\">\n",
       "  <thead>\n",
       "    <tr style=\"text-align: right;\">\n",
       "      <th></th>\n",
       "      <th>countystate</th>\n",
       "      <th>gini</th>\n",
       "    </tr>\n",
       "  </thead>\n",
       "  <tbody>\n",
       "    <tr>\n",
       "      <th>0</th>\n",
       "      <td>Baldwin County, Alabama</td>\n",
       "      <td>0.4725</td>\n",
       "    </tr>\n",
       "    <tr>\n",
       "      <th>1</th>\n",
       "      <td>Calhoun County, Alabama</td>\n",
       "      <td>0.4650</td>\n",
       "    </tr>\n",
       "    <tr>\n",
       "      <th>2</th>\n",
       "      <td>Cullman County, Alabama</td>\n",
       "      <td>0.4981</td>\n",
       "    </tr>\n",
       "    <tr>\n",
       "      <th>3</th>\n",
       "      <td>DeKalb County, Alabama</td>\n",
       "      <td>0.5003</td>\n",
       "    </tr>\n",
       "    <tr>\n",
       "      <th>4</th>\n",
       "      <td>Elmore County, Alabama</td>\n",
       "      <td>0.4162</td>\n",
       "    </tr>\n",
       "  </tbody>\n",
       "</table>\n",
       "</div>"
      ],
      "text/plain": [
       "               countystate    gini\n",
       "0  Baldwin County, Alabama  0.4725\n",
       "1  Calhoun County, Alabama  0.4650\n",
       "2  Cullman County, Alabama  0.4981\n",
       "3   DeKalb County, Alabama  0.5003\n",
       "4   Elmore County, Alabama  0.4162"
      ]
     },
     "execution_count": 17,
     "metadata": {},
     "output_type": "execute_result"
    }
   ],
   "source": [
    "gini.head()"
   ]
  },
  {
   "cell_type": "code",
   "execution_count": 18,
   "metadata": {},
   "outputs": [],
   "source": [
    "def clean_county(county):\n",
    "    words = [' County', ' Parish', ' Municipio', ' city']\n",
    "    for word in words:\n",
    "        if word in county:\n",
    "            return county.replace(word, '')\n",
    "    return county"
   ]
  },
  {
   "cell_type": "code",
   "execution_count": 19,
   "metadata": {},
   "outputs": [],
   "source": [
    "gini['countystate'] = gini['countystate'].apply(clean_county)"
   ]
  },
  {
   "cell_type": "code",
   "execution_count": 20,
   "metadata": {},
   "outputs": [
    {
     "data": {
      "text/html": [
       "<div>\n",
       "<style scoped>\n",
       "    .dataframe tbody tr th:only-of-type {\n",
       "        vertical-align: middle;\n",
       "    }\n",
       "\n",
       "    .dataframe tbody tr th {\n",
       "        vertical-align: top;\n",
       "    }\n",
       "\n",
       "    .dataframe thead th {\n",
       "        text-align: right;\n",
       "    }\n",
       "</style>\n",
       "<table border=\"1\" class=\"dataframe\">\n",
       "  <thead>\n",
       "    <tr style=\"text-align: right;\">\n",
       "      <th></th>\n",
       "      <th>countystate</th>\n",
       "      <th>gini</th>\n",
       "    </tr>\n",
       "  </thead>\n",
       "  <tbody>\n",
       "    <tr>\n",
       "      <th>0</th>\n",
       "      <td>Baldwin, Alabama</td>\n",
       "      <td>0.4725</td>\n",
       "    </tr>\n",
       "    <tr>\n",
       "      <th>1</th>\n",
       "      <td>Calhoun, Alabama</td>\n",
       "      <td>0.4650</td>\n",
       "    </tr>\n",
       "    <tr>\n",
       "      <th>2</th>\n",
       "      <td>Cullman, Alabama</td>\n",
       "      <td>0.4981</td>\n",
       "    </tr>\n",
       "    <tr>\n",
       "      <th>3</th>\n",
       "      <td>DeKalb, Alabama</td>\n",
       "      <td>0.5003</td>\n",
       "    </tr>\n",
       "    <tr>\n",
       "      <th>4</th>\n",
       "      <td>Elmore, Alabama</td>\n",
       "      <td>0.4162</td>\n",
       "    </tr>\n",
       "  </tbody>\n",
       "</table>\n",
       "</div>"
      ],
      "text/plain": [
       "        countystate    gini\n",
       "0  Baldwin, Alabama  0.4725\n",
       "1  Calhoun, Alabama  0.4650\n",
       "2  Cullman, Alabama  0.4981\n",
       "3   DeKalb, Alabama  0.5003\n",
       "4   Elmore, Alabama  0.4162"
      ]
     },
     "execution_count": 20,
     "metadata": {},
     "output_type": "execute_result"
    }
   ],
   "source": [
    "gini.head()"
   ]
  },
  {
   "cell_type": "code",
   "execution_count": 21,
   "metadata": {},
   "outputs": [
    {
     "data": {
      "text/html": [
       "<div>\n",
       "<style scoped>\n",
       "    .dataframe tbody tr th:only-of-type {\n",
       "        vertical-align: middle;\n",
       "    }\n",
       "\n",
       "    .dataframe tbody tr th {\n",
       "        vertical-align: top;\n",
       "    }\n",
       "\n",
       "    .dataframe thead th {\n",
       "        text-align: right;\n",
       "    }\n",
       "</style>\n",
       "<table border=\"1\" class=\"dataframe\">\n",
       "  <thead>\n",
       "    <tr style=\"text-align: right;\">\n",
       "      <th></th>\n",
       "      <th>countystate</th>\n",
       "      <th>gini</th>\n",
       "    </tr>\n",
       "  </thead>\n",
       "  <tbody>\n",
       "    <tr>\n",
       "      <th>302</th>\n",
       "      <td>Baltimore, Maryland</td>\n",
       "      <td>0.4499</td>\n",
       "    </tr>\n",
       "    <tr>\n",
       "      <th>315</th>\n",
       "      <td>Baltimore, Maryland</td>\n",
       "      <td>0.5158</td>\n",
       "    </tr>\n",
       "    <tr>\n",
       "      <th>396</th>\n",
       "      <td>St. Louis, Missouri</td>\n",
       "      <td>0.4920</td>\n",
       "    </tr>\n",
       "    <tr>\n",
       "      <th>397</th>\n",
       "      <td>St. Louis, Missouri</td>\n",
       "      <td>0.5056</td>\n",
       "    </tr>\n",
       "    <tr>\n",
       "      <th>759</th>\n",
       "      <td>Roanoke, Virginia</td>\n",
       "      <td>0.4088</td>\n",
       "    </tr>\n",
       "    <tr>\n",
       "      <th>772</th>\n",
       "      <td>Roanoke, Virginia</td>\n",
       "      <td>0.5099</td>\n",
       "    </tr>\n",
       "  </tbody>\n",
       "</table>\n",
       "</div>"
      ],
      "text/plain": [
       "             countystate    gini\n",
       "302  Baltimore, Maryland  0.4499\n",
       "315  Baltimore, Maryland  0.5158\n",
       "396  St. Louis, Missouri  0.4920\n",
       "397  St. Louis, Missouri  0.5056\n",
       "759    Roanoke, Virginia  0.4088\n",
       "772    Roanoke, Virginia  0.5099"
      ]
     },
     "execution_count": 21,
     "metadata": {},
     "output_type": "execute_result"
    }
   ],
   "source": [
    "gini[gini['countystate'].duplicated(keep=False)]"
   ]
  },
  {
   "cell_type": "code",
   "execution_count": 22,
   "metadata": {},
   "outputs": [],
   "source": [
    "# todo: average among duplicates (few duplicates)\n",
    "gini = gini.drop_duplicates(subset='countystate', keep='first').reset_index(drop=True)"
   ]
  },
  {
   "cell_type": "code",
   "execution_count": 23,
   "metadata": {},
   "outputs": [
    {
     "name": "stdout",
     "output_type": "stream",
     "text": [
      "(20705, 24)\n",
      "(20705, 25)\n"
     ]
    }
   ],
   "source": [
    "print(inc.shape)\n",
    "inc = pd.merge(inc, gini, left_on = 'countystate', right_on = 'countystate', how='left')\n",
    "print(inc.shape)"
   ]
  },
  {
   "cell_type": "code",
   "execution_count": 24,
   "metadata": {},
   "outputs": [],
   "source": [
    "# impute missing gini\n",
    "# todo: use knn with lat/lon\n",
    "\n",
    "inc['gini'] = pd.to_numeric(inc['gini'])\n",
    "inc['gini_is_missing'] = inc['gini'].isnull().astype(int)\n",
    "inc['gini'] = inc['gini'].fillna(inc['gini'].mean())"
   ]
  },
  {
   "cell_type": "code",
   "execution_count": 27,
   "metadata": {},
   "outputs": [
    {
     "data": {
      "text/html": [
       "<div>\n",
       "<style scoped>\n",
       "    .dataframe tbody tr th:only-of-type {\n",
       "        vertical-align: middle;\n",
       "    }\n",
       "\n",
       "    .dataframe tbody tr th {\n",
       "        vertical-align: top;\n",
       "    }\n",
       "\n",
       "    .dataframe thead th {\n",
       "        text-align: right;\n",
       "    }\n",
       "</style>\n",
       "<table border=\"1\" class=\"dataframe\">\n",
       "  <thead>\n",
       "    <tr style=\"text-align: right;\">\n",
       "      <th></th>\n",
       "      <th>Unnamed: 0</th>\n",
       "      <th>Unnamed: 0.1</th>\n",
       "      <th>Unnamed: 0.1.1</th>\n",
       "      <th>state</th>\n",
       "      <th>town</th>\n",
       "      <th>poverty</th>\n",
       "      <th>hs_completion</th>\n",
       "      <th>townstate</th>\n",
       "      <th>ZCTA</th>\n",
       "      <th>n_households</th>\n",
       "      <th>med_income</th>\n",
       "      <th>population</th>\n",
       "      <th>density</th>\n",
       "      <th>city</th>\n",
       "      <th>state_id</th>\n",
       "      <th>state_name</th>\n",
       "      <th>lat</th>\n",
       "      <th>lng</th>\n",
       "      <th>crime_rate</th>\n",
       "      <th>students_per_teacher</th>\n",
       "      <th>property_crime</th>\n",
       "      <th>violent_crime</th>\n",
       "      <th>county_name</th>\n",
       "      <th>countystate</th>\n",
       "      <th>gini</th>\n",
       "      <th>gini_is_missing</th>\n",
       "    </tr>\n",
       "  </thead>\n",
       "  <tbody>\n",
       "    <tr>\n",
       "      <th>0</th>\n",
       "      <td>0</td>\n",
       "      <td>0</td>\n",
       "      <td>0</td>\n",
       "      <td>Alabama</td>\n",
       "      <td>Abbeville</td>\n",
       "      <td>20.7</td>\n",
       "      <td>79.1</td>\n",
       "      <td>Abbeville, Alabama</td>\n",
       "      <td>36310</td>\n",
       "      <td>2555</td>\n",
       "      <td>40186</td>\n",
       "      <td>6055</td>\n",
       "      <td>12.2</td>\n",
       "      <td>Abbeville</td>\n",
       "      <td>AL</td>\n",
       "      <td>Alabama</td>\n",
       "      <td>31.60296</td>\n",
       "      <td>-85.21630</td>\n",
       "      <td>62.0</td>\n",
       "      <td>13.000000</td>\n",
       "      <td>51.0</td>\n",
       "      <td>11.0</td>\n",
       "      <td>Henry</td>\n",
       "      <td>Henry, Alabama</td>\n",
       "      <td>0.462122</td>\n",
       "      <td>1</td>\n",
       "    </tr>\n",
       "    <tr>\n",
       "      <th>1</th>\n",
       "      <td>1</td>\n",
       "      <td>1</td>\n",
       "      <td>1</td>\n",
       "      <td>Alabama</td>\n",
       "      <td>Adamsville</td>\n",
       "      <td>16</td>\n",
       "      <td>83.5</td>\n",
       "      <td>Adamsville, Alabama</td>\n",
       "      <td>35005</td>\n",
       "      <td>2792</td>\n",
       "      <td>50271</td>\n",
       "      <td>7528</td>\n",
       "      <td>89.3</td>\n",
       "      <td>Adamsville</td>\n",
       "      <td>AL</td>\n",
       "      <td>Alabama</td>\n",
       "      <td>33.59515</td>\n",
       "      <td>-87.00089</td>\n",
       "      <td>269.0</td>\n",
       "      <td>17.666667</td>\n",
       "      <td>250.0</td>\n",
       "      <td>19.0</td>\n",
       "      <td>Jefferson</td>\n",
       "      <td>Jefferson, Alabama</td>\n",
       "      <td>0.495200</td>\n",
       "      <td>0</td>\n",
       "    </tr>\n",
       "    <tr>\n",
       "      <th>2</th>\n",
       "      <td>2</td>\n",
       "      <td>2</td>\n",
       "      <td>2</td>\n",
       "      <td>Alabama</td>\n",
       "      <td>Addison</td>\n",
       "      <td>34.2</td>\n",
       "      <td>85.1</td>\n",
       "      <td>Addison, Alabama</td>\n",
       "      <td>35540</td>\n",
       "      <td>1075</td>\n",
       "      <td>45074</td>\n",
       "      <td>2436</td>\n",
       "      <td>12.6</td>\n",
       "      <td>Addison</td>\n",
       "      <td>AL</td>\n",
       "      <td>Alabama</td>\n",
       "      <td>34.23388</td>\n",
       "      <td>-87.18817</td>\n",
       "      <td>15.0</td>\n",
       "      <td>15.500000</td>\n",
       "      <td>14.0</td>\n",
       "      <td>1.0</td>\n",
       "      <td>Winston</td>\n",
       "      <td>Winston, Alabama</td>\n",
       "      <td>0.462122</td>\n",
       "      <td>1</td>\n",
       "    </tr>\n",
       "    <tr>\n",
       "      <th>3</th>\n",
       "      <td>3</td>\n",
       "      <td>3</td>\n",
       "      <td>3</td>\n",
       "      <td>Alabama</td>\n",
       "      <td>Akron</td>\n",
       "      <td>48.7</td>\n",
       "      <td>62.8</td>\n",
       "      <td>Akron, Alabama</td>\n",
       "      <td>35441</td>\n",
       "      <td>372</td>\n",
       "      <td>36731</td>\n",
       "      <td>1089</td>\n",
       "      <td>6.1</td>\n",
       "      <td>Akron</td>\n",
       "      <td>AL</td>\n",
       "      <td>Alabama</td>\n",
       "      <td>32.85374</td>\n",
       "      <td>-87.73861</td>\n",
       "      <td>NaN</td>\n",
       "      <td>NaN</td>\n",
       "      <td>NaN</td>\n",
       "      <td>NaN</td>\n",
       "      <td>Hale</td>\n",
       "      <td>Hale, Alabama</td>\n",
       "      <td>0.462122</td>\n",
       "      <td>1</td>\n",
       "    </tr>\n",
       "    <tr>\n",
       "      <th>4</th>\n",
       "      <td>4</td>\n",
       "      <td>4</td>\n",
       "      <td>4</td>\n",
       "      <td>Alabama</td>\n",
       "      <td>Alabaster</td>\n",
       "      <td>11.1</td>\n",
       "      <td>88.8</td>\n",
       "      <td>Alabaster, Alabama</td>\n",
       "      <td>35007</td>\n",
       "      <td>8628</td>\n",
       "      <td>69691</td>\n",
       "      <td>26328</td>\n",
       "      <td>270.8</td>\n",
       "      <td>Alabaster</td>\n",
       "      <td>AL</td>\n",
       "      <td>Alabama</td>\n",
       "      <td>33.21591</td>\n",
       "      <td>-86.79717</td>\n",
       "      <td>585.0</td>\n",
       "      <td>18.571429</td>\n",
       "      <td>488.0</td>\n",
       "      <td>97.0</td>\n",
       "      <td>Shelby</td>\n",
       "      <td>Shelby, Alabama</td>\n",
       "      <td>0.458900</td>\n",
       "      <td>0</td>\n",
       "    </tr>\n",
       "  </tbody>\n",
       "</table>\n",
       "</div>"
      ],
      "text/plain": [
       "   Unnamed: 0  Unnamed: 0.1  Unnamed: 0.1.1    state        town poverty  \\\n",
       "0           0             0               0  Alabama   Abbeville    20.7   \n",
       "1           1             1               1  Alabama  Adamsville      16   \n",
       "2           2             2               2  Alabama     Addison    34.2   \n",
       "3           3             3               3  Alabama       Akron    48.7   \n",
       "4           4             4               4  Alabama   Alabaster    11.1   \n",
       "\n",
       "  hs_completion            townstate   ZCTA  n_households  med_income  \\\n",
       "0          79.1   Abbeville, Alabama  36310          2555       40186   \n",
       "1          83.5  Adamsville, Alabama  35005          2792       50271   \n",
       "2          85.1     Addison, Alabama  35540          1075       45074   \n",
       "3          62.8       Akron, Alabama  35441           372       36731   \n",
       "4          88.8   Alabaster, Alabama  35007          8628       69691   \n",
       "\n",
       "   population  density        city state_id state_name       lat       lng  \\\n",
       "0        6055     12.2   Abbeville       AL    Alabama  31.60296 -85.21630   \n",
       "1        7528     89.3  Adamsville       AL    Alabama  33.59515 -87.00089   \n",
       "2        2436     12.6     Addison       AL    Alabama  34.23388 -87.18817   \n",
       "3        1089      6.1       Akron       AL    Alabama  32.85374 -87.73861   \n",
       "4       26328    270.8   Alabaster       AL    Alabama  33.21591 -86.79717   \n",
       "\n",
       "   crime_rate  students_per_teacher  property_crime  violent_crime  \\\n",
       "0        62.0             13.000000            51.0           11.0   \n",
       "1       269.0             17.666667           250.0           19.0   \n",
       "2        15.0             15.500000            14.0            1.0   \n",
       "3         NaN                   NaN             NaN            NaN   \n",
       "4       585.0             18.571429           488.0           97.0   \n",
       "\n",
       "  county_name         countystate      gini  gini_is_missing  \n",
       "0       Henry      Henry, Alabama  0.462122                1  \n",
       "1   Jefferson  Jefferson, Alabama  0.495200                0  \n",
       "2     Winston    Winston, Alabama  0.462122                1  \n",
       "3        Hale       Hale, Alabama  0.462122                1  \n",
       "4      Shelby     Shelby, Alabama  0.458900                0  "
      ]
     },
     "execution_count": 27,
     "metadata": {},
     "output_type": "execute_result"
    }
   ],
   "source": [
    "inc.head()"
   ]
  },
  {
   "cell_type": "code",
   "execution_count": 31,
   "metadata": {},
   "outputs": [
    {
     "data": {
      "text/plain": [
       "(20705, 26)"
      ]
     },
     "execution_count": 31,
     "metadata": {},
     "output_type": "execute_result"
    }
   ],
   "source": [
    "inc.shape"
   ]
  },
  {
   "cell_type": "markdown",
   "metadata": {},
   "source": [
    "### Address the nulls"
   ]
  },
  {
   "cell_type": "code",
   "execution_count": 32,
   "metadata": {},
   "outputs": [
    {
     "data": {
      "text/plain": [
       "Unnamed: 0                  0\n",
       "Unnamed: 0.1                0\n",
       "Unnamed: 0.1.1              0\n",
       "state                       0\n",
       "town                        0\n",
       "poverty                     0\n",
       "hs_completion               0\n",
       "townstate                   0\n",
       "ZCTA                        0\n",
       "n_households                0\n",
       "med_income                  0\n",
       "population                  0\n",
       "density                     0\n",
       "city                        0\n",
       "state_id                    0\n",
       "state_name                  0\n",
       "lat                         0\n",
       "lng                         0\n",
       "crime_rate              14215\n",
       "students_per_teacher     4523\n",
       "property_crime          14216\n",
       "violent_crime           14215\n",
       "county_name                 0\n",
       "countystate                 0\n",
       "gini                        0\n",
       "gini_is_missing             0\n",
       "dtype: int64"
      ]
     },
     "execution_count": 32,
     "metadata": {},
     "output_type": "execute_result"
    }
   ],
   "source": [
    "inc.isnull().sum()"
   ]
  },
  {
   "cell_type": "code",
   "execution_count": 33,
   "metadata": {},
   "outputs": [],
   "source": [
    "inc.dropna(inplace = True)"
   ]
  },
  {
   "cell_type": "code",
   "execution_count": 34,
   "metadata": {
    "scrolled": true
   },
   "outputs": [
    {
     "data": {
      "text/plain": [
       "(6042, 26)"
      ]
     },
     "execution_count": 34,
     "metadata": {},
     "output_type": "execute_result"
    }
   ],
   "source": [
    "inc.shape"
   ]
  },
  {
   "cell_type": "code",
   "execution_count": 36,
   "metadata": {},
   "outputs": [],
   "source": [
    "# Drop unnecessary cols\n",
    "inc.drop(\n",
    "    columns = [\n",
    "        'Unnamed: 0', \n",
    "        'Unnamed: 0.1',\n",
    "        'Unnamed: 0.1.1',\n",
    "        'city',\n",
    "        'state_id'\n",
    "    ], \n",
    "    inplace = True)"
   ]
  },
  {
   "cell_type": "code",
   "execution_count": 37,
   "metadata": {},
   "outputs": [
    {
     "data": {
      "text/html": [
       "<div>\n",
       "<style scoped>\n",
       "    .dataframe tbody tr th:only-of-type {\n",
       "        vertical-align: middle;\n",
       "    }\n",
       "\n",
       "    .dataframe tbody tr th {\n",
       "        vertical-align: top;\n",
       "    }\n",
       "\n",
       "    .dataframe thead th {\n",
       "        text-align: right;\n",
       "    }\n",
       "</style>\n",
       "<table border=\"1\" class=\"dataframe\">\n",
       "  <thead>\n",
       "    <tr style=\"text-align: right;\">\n",
       "      <th></th>\n",
       "      <th>state</th>\n",
       "      <th>town</th>\n",
       "      <th>poverty</th>\n",
       "      <th>hs_completion</th>\n",
       "      <th>townstate</th>\n",
       "      <th>ZCTA</th>\n",
       "      <th>n_households</th>\n",
       "      <th>med_income</th>\n",
       "      <th>population</th>\n",
       "      <th>density</th>\n",
       "      <th>state_name</th>\n",
       "      <th>lat</th>\n",
       "      <th>lng</th>\n",
       "      <th>crime_rate</th>\n",
       "      <th>students_per_teacher</th>\n",
       "      <th>property_crime</th>\n",
       "      <th>violent_crime</th>\n",
       "      <th>county_name</th>\n",
       "      <th>countystate</th>\n",
       "      <th>gini</th>\n",
       "      <th>gini_is_missing</th>\n",
       "    </tr>\n",
       "  </thead>\n",
       "  <tbody>\n",
       "    <tr>\n",
       "      <th>0</th>\n",
       "      <td>Alabama</td>\n",
       "      <td>Abbeville</td>\n",
       "      <td>20.7</td>\n",
       "      <td>79.1</td>\n",
       "      <td>Abbeville, Alabama</td>\n",
       "      <td>36310</td>\n",
       "      <td>2555</td>\n",
       "      <td>40186</td>\n",
       "      <td>6055</td>\n",
       "      <td>12.2</td>\n",
       "      <td>Alabama</td>\n",
       "      <td>31.60296</td>\n",
       "      <td>-85.21630</td>\n",
       "      <td>62.0</td>\n",
       "      <td>13.000000</td>\n",
       "      <td>51.0</td>\n",
       "      <td>11.0</td>\n",
       "      <td>Henry</td>\n",
       "      <td>Henry, Alabama</td>\n",
       "      <td>0.462122</td>\n",
       "      <td>1</td>\n",
       "    </tr>\n",
       "    <tr>\n",
       "      <th>1</th>\n",
       "      <td>Alabama</td>\n",
       "      <td>Adamsville</td>\n",
       "      <td>16</td>\n",
       "      <td>83.5</td>\n",
       "      <td>Adamsville, Alabama</td>\n",
       "      <td>35005</td>\n",
       "      <td>2792</td>\n",
       "      <td>50271</td>\n",
       "      <td>7528</td>\n",
       "      <td>89.3</td>\n",
       "      <td>Alabama</td>\n",
       "      <td>33.59515</td>\n",
       "      <td>-87.00089</td>\n",
       "      <td>269.0</td>\n",
       "      <td>17.666667</td>\n",
       "      <td>250.0</td>\n",
       "      <td>19.0</td>\n",
       "      <td>Jefferson</td>\n",
       "      <td>Jefferson, Alabama</td>\n",
       "      <td>0.495200</td>\n",
       "      <td>0</td>\n",
       "    </tr>\n",
       "    <tr>\n",
       "      <th>2</th>\n",
       "      <td>Alabama</td>\n",
       "      <td>Addison</td>\n",
       "      <td>34.2</td>\n",
       "      <td>85.1</td>\n",
       "      <td>Addison, Alabama</td>\n",
       "      <td>35540</td>\n",
       "      <td>1075</td>\n",
       "      <td>45074</td>\n",
       "      <td>2436</td>\n",
       "      <td>12.6</td>\n",
       "      <td>Alabama</td>\n",
       "      <td>34.23388</td>\n",
       "      <td>-87.18817</td>\n",
       "      <td>15.0</td>\n",
       "      <td>15.500000</td>\n",
       "      <td>14.0</td>\n",
       "      <td>1.0</td>\n",
       "      <td>Winston</td>\n",
       "      <td>Winston, Alabama</td>\n",
       "      <td>0.462122</td>\n",
       "      <td>1</td>\n",
       "    </tr>\n",
       "    <tr>\n",
       "      <th>4</th>\n",
       "      <td>Alabama</td>\n",
       "      <td>Alabaster</td>\n",
       "      <td>11.1</td>\n",
       "      <td>88.8</td>\n",
       "      <td>Alabaster, Alabama</td>\n",
       "      <td>35007</td>\n",
       "      <td>8628</td>\n",
       "      <td>69691</td>\n",
       "      <td>26328</td>\n",
       "      <td>270.8</td>\n",
       "      <td>Alabama</td>\n",
       "      <td>33.21591</td>\n",
       "      <td>-86.79717</td>\n",
       "      <td>585.0</td>\n",
       "      <td>18.571429</td>\n",
       "      <td>488.0</td>\n",
       "      <td>97.0</td>\n",
       "      <td>Shelby</td>\n",
       "      <td>Shelby, Alabama</td>\n",
       "      <td>0.458900</td>\n",
       "      <td>0</td>\n",
       "    </tr>\n",
       "    <tr>\n",
       "      <th>5</th>\n",
       "      <td>Alabama</td>\n",
       "      <td>Alabaster</td>\n",
       "      <td>11.1</td>\n",
       "      <td>88.8</td>\n",
       "      <td>Alabaster, Alabama</td>\n",
       "      <td>35114</td>\n",
       "      <td>3022</td>\n",
       "      <td>80948</td>\n",
       "      <td>8624</td>\n",
       "      <td>223.3</td>\n",
       "      <td>Alabama</td>\n",
       "      <td>33.22306</td>\n",
       "      <td>-86.87245</td>\n",
       "      <td>585.0</td>\n",
       "      <td>18.571429</td>\n",
       "      <td>488.0</td>\n",
       "      <td>97.0</td>\n",
       "      <td>Shelby</td>\n",
       "      <td>Shelby, Alabama</td>\n",
       "      <td>0.458900</td>\n",
       "      <td>0</td>\n",
       "    </tr>\n",
       "  </tbody>\n",
       "</table>\n",
       "</div>"
      ],
      "text/plain": [
       "     state        town poverty hs_completion            townstate   ZCTA  \\\n",
       "0  Alabama   Abbeville    20.7          79.1   Abbeville, Alabama  36310   \n",
       "1  Alabama  Adamsville      16          83.5  Adamsville, Alabama  35005   \n",
       "2  Alabama     Addison    34.2          85.1     Addison, Alabama  35540   \n",
       "4  Alabama   Alabaster    11.1          88.8   Alabaster, Alabama  35007   \n",
       "5  Alabama   Alabaster    11.1          88.8   Alabaster, Alabama  35114   \n",
       "\n",
       "   n_households  med_income  population  density state_name       lat  \\\n",
       "0          2555       40186        6055     12.2    Alabama  31.60296   \n",
       "1          2792       50271        7528     89.3    Alabama  33.59515   \n",
       "2          1075       45074        2436     12.6    Alabama  34.23388   \n",
       "4          8628       69691       26328    270.8    Alabama  33.21591   \n",
       "5          3022       80948        8624    223.3    Alabama  33.22306   \n",
       "\n",
       "        lng  crime_rate  students_per_teacher  property_crime  violent_crime  \\\n",
       "0 -85.21630        62.0             13.000000            51.0           11.0   \n",
       "1 -87.00089       269.0             17.666667           250.0           19.0   \n",
       "2 -87.18817        15.0             15.500000            14.0            1.0   \n",
       "4 -86.79717       585.0             18.571429           488.0           97.0   \n",
       "5 -86.87245       585.0             18.571429           488.0           97.0   \n",
       "\n",
       "  county_name         countystate      gini  gini_is_missing  \n",
       "0       Henry      Henry, Alabama  0.462122                1  \n",
       "1   Jefferson  Jefferson, Alabama  0.495200                0  \n",
       "2     Winston    Winston, Alabama  0.462122                1  \n",
       "4      Shelby     Shelby, Alabama  0.458900                0  \n",
       "5      Shelby     Shelby, Alabama  0.458900                0  "
      ]
     },
     "execution_count": 37,
     "metadata": {},
     "output_type": "execute_result"
    }
   ],
   "source": [
    "inc.head()"
   ]
  },
  {
   "cell_type": "markdown",
   "metadata": {},
   "source": [
    "**Fix Types**"
   ]
  },
  {
   "cell_type": "code",
   "execution_count": 38,
   "metadata": {},
   "outputs": [],
   "source": [
    "inc['poverty'] = inc['poverty'].astype(float)"
   ]
  },
  {
   "cell_type": "code",
   "execution_count": 39,
   "metadata": {},
   "outputs": [],
   "source": [
    "inc['hs_completion'] = inc['hs_completion'].astype(float)"
   ]
  },
  {
   "cell_type": "markdown",
   "metadata": {},
   "source": [
    "### Fix 0 population"
   ]
  },
  {
   "cell_type": "code",
   "execution_count": 40,
   "metadata": {},
   "outputs": [
    {
     "data": {
      "text/plain": [
       "0        15\n",
       "3708      4\n",
       "1464      4\n",
       "2274      4\n",
       "6572      4\n",
       "         ..\n",
       "11387     1\n",
       "33111     1\n",
       "10489     1\n",
       "3012      1\n",
       "10237     1\n",
       "Name: population, Length: 5385, dtype: int64"
      ]
     },
     "execution_count": 40,
     "metadata": {},
     "output_type": "execute_result"
    }
   ],
   "source": [
    "# 15 rows have 0 for population which causes infinity crime rate per capita\n",
    "inc['population'].value_counts()"
   ]
  },
  {
   "cell_type": "code",
   "execution_count": 41,
   "metadata": {},
   "outputs": [
    {
     "data": {
      "text/plain": [
       "0        60\n",
       "5848      6\n",
       "1364      5\n",
       "798       5\n",
       "1033      5\n",
       "         ..\n",
       "3063      1\n",
       "7157      1\n",
       "10635     1\n",
       "3059      1\n",
       "2063      1\n",
       "Name: n_households, Length: 4560, dtype: int64"
      ]
     },
     "execution_count": 41,
     "metadata": {},
     "output_type": "execute_result"
    }
   ],
   "source": [
    "inc['n_households'].value_counts()"
   ]
  },
  {
   "cell_type": "code",
   "execution_count": 42,
   "metadata": {},
   "outputs": [],
   "source": [
    "# Fill the 0 population towns\n",
    "inc.loc[inc['population'] == 0, 'population'] = 100 #inc['population'].median()"
   ]
  },
  {
   "cell_type": "code",
   "execution_count": 43,
   "metadata": {},
   "outputs": [],
   "source": [
    "# Fill the 0 household towns\n",
    "inc.loc[inc['n_households'] == 0, 'n_households'] = 10"
   ]
  },
  {
   "cell_type": "code",
   "execution_count": 45,
   "metadata": {},
   "outputs": [],
   "source": [
    "# Target variable: crime rate per capita\n",
    "#inc['crime_rate_pc'] = inc['crime_rate'] / inc['n_households']\n",
    "inc['crime_rate_pc'] = inc['crime_rate'] / inc['population']"
   ]
  },
  {
   "cell_type": "markdown",
   "metadata": {},
   "source": [
    "### Grouping by town"
   ]
  },
  {
   "cell_type": "markdown",
   "metadata": {},
   "source": [
    "- dataframe is by zip so towns with multiple zips are counted multiple times\n",
    "- should be grouped by town\n",
    "\n",
    "- These should be averaged\n",
    " - med_income\n",
    " - hs_completion\n",
    " - poverty\n",
    " - density"
   ]
  },
  {
   "cell_type": "code",
   "execution_count": 21,
   "metadata": {
    "scrolled": true
   },
   "outputs": [
    {
     "data": {
      "text/plain": [
       "Naples, Florida            15\n",
       "Tyler, Texas                9\n",
       "Saginaw, Michigan           7\n",
       "Vero Beach, Florida         6\n",
       "Johnstown, Pennsylvania     6\n",
       "                           ..\n",
       "Sutherlin, Oregon           1\n",
       "Sullivan City, Texas        1\n",
       "Odenville, Alabama          1\n",
       "Social Circle, Georgia      1\n",
       "Avon Park, Florida          1\n",
       "Name: townstate, Length: 5771, dtype: int64"
      ]
     },
     "execution_count": 21,
     "metadata": {},
     "output_type": "execute_result"
    }
   ],
   "source": [
    "# dataframe is by zip so towns with multiple zips are counted multiple times\n",
    "# to rectify, we will groupby townstate, then re add the state col\n",
    "inc['townstate'].value_counts()"
   ]
  },
  {
   "cell_type": "code",
   "execution_count": 72,
   "metadata": {},
   "outputs": [],
   "source": [
    "testinc = inc.groupby('townstate', as_index=False).agg(\n",
    "    {\n",
    "        \"poverty\" : np.mean,\n",
    "        \"med_income\" : np.mean,\n",
    "        \"hs_completion\" : np.mean,\n",
    "        \"n_households\" : np.sum,\n",
    "        \"population\" : np.sum,\n",
    "        \"density\" : np.mean,\n",
    "        \"crime_rate\" : np.mean,\n",
    "        \"property_crime\" : np.mean,  # already at town-level\n",
    "        \"violent_crime\" : np.mean,\n",
    "        \"students_per_teacher\" : np.mean,\n",
    "        \"gini\" : np.mean,\n",
    "        \"lat\" : np.mean,\n",
    "        \"lng\" : np.mean,\n",
    "    }\n",
    ")"
   ]
  },
  {
   "cell_type": "code",
   "execution_count": 73,
   "metadata": {},
   "outputs": [],
   "source": [
    "testinc['crime_rate_pc'] = testinc['crime_rate'] / testinc['population']"
   ]
  },
  {
   "cell_type": "code",
   "execution_count": 140,
   "metadata": {},
   "outputs": [],
   "source": [
    "testinc['vcrime_rate_pc'] = testinc['violent_crime'] / testinc['population']\n",
    "testinc['pcrime_rate_pc'] = testinc['property_crime'] / testinc['population']"
   ]
  },
  {
   "cell_type": "code",
   "execution_count": 204,
   "metadata": {},
   "outputs": [],
   "source": [
    "testinc['people_per_household'] = testinc['population'] / testinc['n_households']"
   ]
  },
  {
   "cell_type": "code",
   "execution_count": 66,
   "metadata": {},
   "outputs": [],
   "source": [
    "#testinc = inc.groupby('townstate', as_index = False).mean()"
   ]
  },
  {
   "cell_type": "code",
   "execution_count": 141,
   "metadata": {},
   "outputs": [
    {
     "data": {
      "text/plain": [
       "(5516, 21)"
      ]
     },
     "execution_count": 141,
     "metadata": {},
     "output_type": "execute_result"
    }
   ],
   "source": [
    "testinc.shape"
   ]
  },
  {
   "cell_type": "code",
   "execution_count": 75,
   "metadata": {},
   "outputs": [],
   "source": [
    "testinc['state'] = testinc['townstate'].apply(lambda x: x.split(', ')[1])"
   ]
  },
  {
   "cell_type": "code",
   "execution_count": 40,
   "metadata": {},
   "outputs": [],
   "source": [
    "#testinc[['n_households', 'population']] = inc.groupby('townstate').sum()[['n_households', 'population']]"
   ]
  },
  {
   "cell_type": "code",
   "execution_count": 41,
   "metadata": {},
   "outputs": [],
   "source": [
    "### n_households & population must be summed by town\n",
    "#testinc[['n_households', 'population']] = inc.groupby('townstate', as_index = False).sum()[['n_households','population']]"
   ]
  },
  {
   "cell_type": "code",
   "execution_count": 22,
   "metadata": {},
   "outputs": [],
   "source": [
    "# Drop outliers\n",
    "#testinc = inc.loc[(inc['crime_rate_pc'] > 0) & (inc['crime_rate_pc'] < 1)]"
   ]
  },
  {
   "cell_type": "code",
   "execution_count": 206,
   "metadata": {},
   "outputs": [
    {
     "data": {
      "text/html": [
       "<div>\n",
       "<style scoped>\n",
       "    .dataframe tbody tr th:only-of-type {\n",
       "        vertical-align: middle;\n",
       "    }\n",
       "\n",
       "    .dataframe tbody tr th {\n",
       "        vertical-align: top;\n",
       "    }\n",
       "\n",
       "    .dataframe thead th {\n",
       "        text-align: right;\n",
       "    }\n",
       "</style>\n",
       "<table border=\"1\" class=\"dataframe\">\n",
       "  <thead>\n",
       "    <tr style=\"text-align: right;\">\n",
       "      <th></th>\n",
       "      <th>townstate</th>\n",
       "      <th>poverty</th>\n",
       "      <th>med_income</th>\n",
       "      <th>hs_completion</th>\n",
       "      <th>n_households</th>\n",
       "      <th>population</th>\n",
       "      <th>density</th>\n",
       "      <th>crime_rate</th>\n",
       "      <th>property_crime</th>\n",
       "      <th>violent_crime</th>\n",
       "      <th>students_per_teacher</th>\n",
       "      <th>gini</th>\n",
       "      <th>lat</th>\n",
       "      <th>lng</th>\n",
       "      <th>crime_rate_pc</th>\n",
       "      <th>state</th>\n",
       "      <th>cluster</th>\n",
       "      <th>color</th>\n",
       "      <th>log_density</th>\n",
       "      <th>vcrime_rate_pc</th>\n",
       "      <th>pcrime_rate_pc</th>\n",
       "      <th>people_per_household</th>\n",
       "    </tr>\n",
       "  </thead>\n",
       "  <tbody>\n",
       "    <tr>\n",
       "      <th>0</th>\n",
       "      <td>Abbeville, Alabama</td>\n",
       "      <td>20.7</td>\n",
       "      <td>40186.0</td>\n",
       "      <td>79.1</td>\n",
       "      <td>2555</td>\n",
       "      <td>6055</td>\n",
       "      <td>12.2</td>\n",
       "      <td>62.0</td>\n",
       "      <td>51.0</td>\n",
       "      <td>11.0</td>\n",
       "      <td>13.000000</td>\n",
       "      <td>0.462122</td>\n",
       "      <td>31.60296</td>\n",
       "      <td>-85.21630</td>\n",
       "      <td>0.010239</td>\n",
       "      <td>Alabama</td>\n",
       "      <td>1</td>\n",
       "      <td>green</td>\n",
       "      <td>2.501436</td>\n",
       "      <td>0.001817</td>\n",
       "      <td>0.008423</td>\n",
       "      <td>2.369863</td>\n",
       "    </tr>\n",
       "    <tr>\n",
       "      <th>1</th>\n",
       "      <td>Abbeville, Louisiana</td>\n",
       "      <td>31.5</td>\n",
       "      <td>47483.0</td>\n",
       "      <td>70.7</td>\n",
       "      <td>9292</td>\n",
       "      <td>25897</td>\n",
       "      <td>42.4</td>\n",
       "      <td>591.0</td>\n",
       "      <td>474.0</td>\n",
       "      <td>117.0</td>\n",
       "      <td>14.875000</td>\n",
       "      <td>0.462122</td>\n",
       "      <td>29.89813</td>\n",
       "      <td>-92.19967</td>\n",
       "      <td>0.022821</td>\n",
       "      <td>Louisiana</td>\n",
       "      <td>0</td>\n",
       "      <td>red</td>\n",
       "      <td>3.747148</td>\n",
       "      <td>0.004518</td>\n",
       "      <td>0.018303</td>\n",
       "      <td>2.787021</td>\n",
       "    </tr>\n",
       "    <tr>\n",
       "      <th>2</th>\n",
       "      <td>Abbeville, South Carolina</td>\n",
       "      <td>39.9</td>\n",
       "      <td>34292.0</td>\n",
       "      <td>75.3</td>\n",
       "      <td>4925</td>\n",
       "      <td>13006</td>\n",
       "      <td>19.9</td>\n",
       "      <td>229.0</td>\n",
       "      <td>199.0</td>\n",
       "      <td>30.0</td>\n",
       "      <td>14.600000</td>\n",
       "      <td>0.462122</td>\n",
       "      <td>34.17875</td>\n",
       "      <td>-82.42871</td>\n",
       "      <td>0.017607</td>\n",
       "      <td>South Carolina</td>\n",
       "      <td>1</td>\n",
       "      <td>green</td>\n",
       "      <td>2.990720</td>\n",
       "      <td>0.002307</td>\n",
       "      <td>0.015301</td>\n",
       "      <td>2.640812</td>\n",
       "    </tr>\n",
       "    <tr>\n",
       "      <th>3</th>\n",
       "      <td>Aberdeen, Idaho</td>\n",
       "      <td>13.8</td>\n",
       "      <td>43793.0</td>\n",
       "      <td>61.3</td>\n",
       "      <td>1127</td>\n",
       "      <td>3533</td>\n",
       "      <td>5.0</td>\n",
       "      <td>22.0</td>\n",
       "      <td>21.0</td>\n",
       "      <td>1.0</td>\n",
       "      <td>20.000000</td>\n",
       "      <td>0.462122</td>\n",
       "      <td>43.01939</td>\n",
       "      <td>-112.86185</td>\n",
       "      <td>0.006227</td>\n",
       "      <td>Idaho</td>\n",
       "      <td>1</td>\n",
       "      <td>green</td>\n",
       "      <td>1.609438</td>\n",
       "      <td>0.000283</td>\n",
       "      <td>0.005944</td>\n",
       "      <td>3.134871</td>\n",
       "    </tr>\n",
       "    <tr>\n",
       "      <th>4</th>\n",
       "      <td>Aberdeen, Maryland</td>\n",
       "      <td>17.2</td>\n",
       "      <td>60489.0</td>\n",
       "      <td>88.0</td>\n",
       "      <td>9538</td>\n",
       "      <td>24453</td>\n",
       "      <td>277.6</td>\n",
       "      <td>330.0</td>\n",
       "      <td>251.0</td>\n",
       "      <td>79.0</td>\n",
       "      <td>12.285714</td>\n",
       "      <td>0.410700</td>\n",
       "      <td>39.51075</td>\n",
       "      <td>-76.20061</td>\n",
       "      <td>0.013495</td>\n",
       "      <td>Maryland</td>\n",
       "      <td>0</td>\n",
       "      <td>red</td>\n",
       "      <td>5.626181</td>\n",
       "      <td>0.003231</td>\n",
       "      <td>0.010265</td>\n",
       "      <td>2.563745</td>\n",
       "    </tr>\n",
       "  </tbody>\n",
       "</table>\n",
       "</div>"
      ],
      "text/plain": [
       "                   townstate  poverty  med_income  hs_completion  \\\n",
       "0         Abbeville, Alabama     20.7     40186.0           79.1   \n",
       "1       Abbeville, Louisiana     31.5     47483.0           70.7   \n",
       "2  Abbeville, South Carolina     39.9     34292.0           75.3   \n",
       "3            Aberdeen, Idaho     13.8     43793.0           61.3   \n",
       "4         Aberdeen, Maryland     17.2     60489.0           88.0   \n",
       "\n",
       "   n_households  population  density  crime_rate  property_crime  \\\n",
       "0          2555        6055     12.2        62.0            51.0   \n",
       "1          9292       25897     42.4       591.0           474.0   \n",
       "2          4925       13006     19.9       229.0           199.0   \n",
       "3          1127        3533      5.0        22.0            21.0   \n",
       "4          9538       24453    277.6       330.0           251.0   \n",
       "\n",
       "   violent_crime  students_per_teacher      gini       lat        lng  \\\n",
       "0           11.0             13.000000  0.462122  31.60296  -85.21630   \n",
       "1          117.0             14.875000  0.462122  29.89813  -92.19967   \n",
       "2           30.0             14.600000  0.462122  34.17875  -82.42871   \n",
       "3            1.0             20.000000  0.462122  43.01939 -112.86185   \n",
       "4           79.0             12.285714  0.410700  39.51075  -76.20061   \n",
       "\n",
       "   crime_rate_pc           state  cluster  color  log_density  vcrime_rate_pc  \\\n",
       "0       0.010239         Alabama        1  green     2.501436        0.001817   \n",
       "1       0.022821       Louisiana        0    red     3.747148        0.004518   \n",
       "2       0.017607  South Carolina        1  green     2.990720        0.002307   \n",
       "3       0.006227           Idaho        1  green     1.609438        0.000283   \n",
       "4       0.013495        Maryland        0    red     5.626181        0.003231   \n",
       "\n",
       "   pcrime_rate_pc  people_per_household  \n",
       "0        0.008423              2.369863  \n",
       "1        0.018303              2.787021  \n",
       "2        0.015301              2.640812  \n",
       "3        0.005944              3.134871  \n",
       "4        0.010265              2.563745  "
      ]
     },
     "execution_count": 206,
     "metadata": {},
     "output_type": "execute_result"
    }
   ],
   "source": [
    "testinc.head()"
   ]
  },
  {
   "cell_type": "code",
   "execution_count": 205,
   "metadata": {},
   "outputs": [
    {
     "data": {
      "text/plain": [
       "(5516, 22)"
      ]
     },
     "execution_count": 205,
     "metadata": {},
     "output_type": "execute_result"
    }
   ],
   "source": [
    "testinc.shape"
   ]
  },
  {
   "cell_type": "markdown",
   "metadata": {},
   "source": [
    "### Modeling"
   ]
  },
  {
   "cell_type": "markdown",
   "metadata": {},
   "source": [
    "### K Means Clustering"
   ]
  },
  {
   "cell_type": "code",
   "execution_count": 129,
   "metadata": {},
   "outputs": [],
   "source": [
    "testinc['log_density'] = np.log(testinc['density'])"
   ]
  },
  {
   "cell_type": "code",
   "execution_count": 181,
   "metadata": {},
   "outputs": [],
   "source": [
    "features = [\n",
    "    'med_income',\n",
    "    'poverty',\n",
    "    'hs_completion',\n",
    "    # 'density',\n",
    "    'log_density',\n",
    "    'students_per_teacher',\n",
    "    'gini',\n",
    "    'crime_rate_pc',\n",
    "    'property_crime',\n",
    "    'violent_crime',\n",
    "]\n",
    "X = testinc[features].copy()"
   ]
  },
  {
   "cell_type": "code",
   "execution_count": 182,
   "metadata": {},
   "outputs": [
    {
     "data": {
      "text/html": [
       "<div>\n",
       "<style scoped>\n",
       "    .dataframe tbody tr th:only-of-type {\n",
       "        vertical-align: middle;\n",
       "    }\n",
       "\n",
       "    .dataframe tbody tr th {\n",
       "        vertical-align: top;\n",
       "    }\n",
       "\n",
       "    .dataframe thead th {\n",
       "        text-align: right;\n",
       "    }\n",
       "</style>\n",
       "<table border=\"1\" class=\"dataframe\">\n",
       "  <thead>\n",
       "    <tr style=\"text-align: right;\">\n",
       "      <th></th>\n",
       "      <th>med_income</th>\n",
       "      <th>poverty</th>\n",
       "      <th>hs_completion</th>\n",
       "      <th>log_density</th>\n",
       "      <th>students_per_teacher</th>\n",
       "      <th>gini</th>\n",
       "      <th>crime_rate_pc</th>\n",
       "      <th>property_crime</th>\n",
       "      <th>violent_crime</th>\n",
       "    </tr>\n",
       "  </thead>\n",
       "  <tbody>\n",
       "    <tr>\n",
       "      <th>med_income</th>\n",
       "      <td>1.000000</td>\n",
       "      <td>-0.664824</td>\n",
       "      <td>0.519270</td>\n",
       "      <td>0.394356</td>\n",
       "      <td>0.106864</td>\n",
       "      <td>-0.129972</td>\n",
       "      <td>-0.084023</td>\n",
       "      <td>0.157580</td>\n",
       "      <td>-0.002464</td>\n",
       "    </tr>\n",
       "    <tr>\n",
       "      <th>poverty</th>\n",
       "      <td>-0.664824</td>\n",
       "      <td>1.000000</td>\n",
       "      <td>-0.592654</td>\n",
       "      <td>-0.222356</td>\n",
       "      <td>-0.053481</td>\n",
       "      <td>0.147398</td>\n",
       "      <td>0.078584</td>\n",
       "      <td>-0.042072</td>\n",
       "      <td>0.093592</td>\n",
       "    </tr>\n",
       "    <tr>\n",
       "      <th>hs_completion</th>\n",
       "      <td>0.519270</td>\n",
       "      <td>-0.592654</td>\n",
       "      <td>1.000000</td>\n",
       "      <td>0.223617</td>\n",
       "      <td>0.046406</td>\n",
       "      <td>-0.089519</td>\n",
       "      <td>-0.022093</td>\n",
       "      <td>0.093931</td>\n",
       "      <td>-0.067604</td>\n",
       "    </tr>\n",
       "    <tr>\n",
       "      <th>log_density</th>\n",
       "      <td>0.394356</td>\n",
       "      <td>-0.222356</td>\n",
       "      <td>0.223617</td>\n",
       "      <td>1.000000</td>\n",
       "      <td>0.182749</td>\n",
       "      <td>-0.034824</td>\n",
       "      <td>0.220018</td>\n",
       "      <td>0.530762</td>\n",
       "      <td>0.382818</td>\n",
       "    </tr>\n",
       "    <tr>\n",
       "      <th>students_per_teacher</th>\n",
       "      <td>0.106864</td>\n",
       "      <td>-0.053481</td>\n",
       "      <td>0.046406</td>\n",
       "      <td>0.182749</td>\n",
       "      <td>1.000000</td>\n",
       "      <td>-0.034384</td>\n",
       "      <td>0.055284</td>\n",
       "      <td>0.127529</td>\n",
       "      <td>0.080939</td>\n",
       "    </tr>\n",
       "    <tr>\n",
       "      <th>gini</th>\n",
       "      <td>-0.129972</td>\n",
       "      <td>0.147398</td>\n",
       "      <td>-0.089519</td>\n",
       "      <td>-0.034824</td>\n",
       "      <td>-0.034384</td>\n",
       "      <td>1.000000</td>\n",
       "      <td>0.021286</td>\n",
       "      <td>-0.030591</td>\n",
       "      <td>0.053329</td>\n",
       "    </tr>\n",
       "    <tr>\n",
       "      <th>crime_rate_pc</th>\n",
       "      <td>-0.084023</td>\n",
       "      <td>0.078584</td>\n",
       "      <td>-0.022093</td>\n",
       "      <td>0.220018</td>\n",
       "      <td>0.055284</td>\n",
       "      <td>0.021286</td>\n",
       "      <td>1.000000</td>\n",
       "      <td>0.526533</td>\n",
       "      <td>0.397384</td>\n",
       "    </tr>\n",
       "    <tr>\n",
       "      <th>property_crime</th>\n",
       "      <td>0.157580</td>\n",
       "      <td>-0.042072</td>\n",
       "      <td>0.093931</td>\n",
       "      <td>0.530762</td>\n",
       "      <td>0.127529</td>\n",
       "      <td>-0.030591</td>\n",
       "      <td>0.526533</td>\n",
       "      <td>1.000000</td>\n",
       "      <td>0.702131</td>\n",
       "    </tr>\n",
       "    <tr>\n",
       "      <th>violent_crime</th>\n",
       "      <td>-0.002464</td>\n",
       "      <td>0.093592</td>\n",
       "      <td>-0.067604</td>\n",
       "      <td>0.382818</td>\n",
       "      <td>0.080939</td>\n",
       "      <td>0.053329</td>\n",
       "      <td>0.397384</td>\n",
       "      <td>0.702131</td>\n",
       "      <td>1.000000</td>\n",
       "    </tr>\n",
       "  </tbody>\n",
       "</table>\n",
       "</div>"
      ],
      "text/plain": [
       "                      med_income   poverty  hs_completion  log_density  \\\n",
       "med_income              1.000000 -0.664824       0.519270     0.394356   \n",
       "poverty                -0.664824  1.000000      -0.592654    -0.222356   \n",
       "hs_completion           0.519270 -0.592654       1.000000     0.223617   \n",
       "log_density             0.394356 -0.222356       0.223617     1.000000   \n",
       "students_per_teacher    0.106864 -0.053481       0.046406     0.182749   \n",
       "gini                   -0.129972  0.147398      -0.089519    -0.034824   \n",
       "crime_rate_pc          -0.084023  0.078584      -0.022093     0.220018   \n",
       "property_crime          0.157580 -0.042072       0.093931     0.530762   \n",
       "violent_crime          -0.002464  0.093592      -0.067604     0.382818   \n",
       "\n",
       "                      students_per_teacher      gini  crime_rate_pc  \\\n",
       "med_income                        0.106864 -0.129972      -0.084023   \n",
       "poverty                          -0.053481  0.147398       0.078584   \n",
       "hs_completion                     0.046406 -0.089519      -0.022093   \n",
       "log_density                       0.182749 -0.034824       0.220018   \n",
       "students_per_teacher              1.000000 -0.034384       0.055284   \n",
       "gini                             -0.034384  1.000000       0.021286   \n",
       "crime_rate_pc                     0.055284  0.021286       1.000000   \n",
       "property_crime                    0.127529 -0.030591       0.526533   \n",
       "violent_crime                     0.080939  0.053329       0.397384   \n",
       "\n",
       "                      property_crime  violent_crime  \n",
       "med_income                  0.157580      -0.002464  \n",
       "poverty                    -0.042072       0.093592  \n",
       "hs_completion               0.093931      -0.067604  \n",
       "log_density                 0.530762       0.382818  \n",
       "students_per_teacher        0.127529       0.080939  \n",
       "gini                       -0.030591       0.053329  \n",
       "crime_rate_pc               0.526533       0.397384  \n",
       "property_crime              1.000000       0.702131  \n",
       "violent_crime               0.702131       1.000000  "
      ]
     },
     "execution_count": 182,
     "metadata": {},
     "output_type": "execute_result"
    }
   ],
   "source": [
    "X.corr()"
   ]
  },
  {
   "cell_type": "code",
   "execution_count": 183,
   "metadata": {},
   "outputs": [],
   "source": [
    "ss = StandardScaler()\n",
    "X_scaled = ss.fit_transform(X)"
   ]
  },
  {
   "cell_type": "code",
   "execution_count": 184,
   "metadata": {},
   "outputs": [],
   "source": [
    "km = KMeans(n_clusters = 2, random_state = 42)"
   ]
  },
  {
   "cell_type": "code",
   "execution_count": 185,
   "metadata": {},
   "outputs": [
    {
     "data": {
      "text/plain": [
       "KMeans(algorithm='auto', copy_x=True, init='k-means++', max_iter=300,\n",
       "       n_clusters=2, n_init=10, n_jobs=None, precompute_distances='auto',\n",
       "       random_state=42, tol=0.0001, verbose=0)"
      ]
     },
     "execution_count": 185,
     "metadata": {},
     "output_type": "execute_result"
    }
   ],
   "source": [
    "km.fit(X_scaled)"
   ]
  },
  {
   "cell_type": "code",
   "execution_count": 186,
   "metadata": {},
   "outputs": [],
   "source": [
    "testinc['cluster'] = km.labels_"
   ]
  },
  {
   "cell_type": "code",
   "execution_count": 187,
   "metadata": {},
   "outputs": [
    {
     "data": {
      "text/html": [
       "<div>\n",
       "<style scoped>\n",
       "    .dataframe tbody tr th:only-of-type {\n",
       "        vertical-align: middle;\n",
       "    }\n",
       "\n",
       "    .dataframe tbody tr th {\n",
       "        vertical-align: top;\n",
       "    }\n",
       "\n",
       "    .dataframe thead th {\n",
       "        text-align: right;\n",
       "    }\n",
       "</style>\n",
       "<table border=\"1\" class=\"dataframe\">\n",
       "  <thead>\n",
       "    <tr style=\"text-align: right;\">\n",
       "      <th></th>\n",
       "      <th>med_income</th>\n",
       "      <th>poverty</th>\n",
       "      <th>hs_completion</th>\n",
       "      <th>log_density</th>\n",
       "      <th>students_per_teacher</th>\n",
       "      <th>gini</th>\n",
       "      <th>crime_rate_pc</th>\n",
       "      <th>property_crime</th>\n",
       "      <th>violent_crime</th>\n",
       "    </tr>\n",
       "    <tr>\n",
       "      <th>cluster</th>\n",
       "      <th></th>\n",
       "      <th></th>\n",
       "      <th></th>\n",
       "      <th></th>\n",
       "      <th></th>\n",
       "      <th></th>\n",
       "      <th></th>\n",
       "      <th></th>\n",
       "      <th></th>\n",
       "    </tr>\n",
       "  </thead>\n",
       "  <tbody>\n",
       "    <tr>\n",
       "      <th>0</th>\n",
       "      <td>64902.364726</td>\n",
       "      <td>14.062113</td>\n",
       "      <td>88.997634</td>\n",
       "      <td>5.307113</td>\n",
       "      <td>17.419034</td>\n",
       "      <td>0.453796</td>\n",
       "      <td>0.020958</td>\n",
       "      <td>428.846197</td>\n",
       "      <td>52.624225</td>\n",
       "    </tr>\n",
       "    <tr>\n",
       "      <th>1</th>\n",
       "      <td>46932.364925</td>\n",
       "      <td>20.368498</td>\n",
       "      <td>83.213098</td>\n",
       "      <td>2.889688</td>\n",
       "      <td>14.702108</td>\n",
       "      <td>0.459107</td>\n",
       "      <td>0.010292</td>\n",
       "      <td>74.265170</td>\n",
       "      <td>9.582732</td>\n",
       "    </tr>\n",
       "  </tbody>\n",
       "</table>\n",
       "</div>"
      ],
      "text/plain": [
       "           med_income    poverty  hs_completion  log_density  \\\n",
       "cluster                                                        \n",
       "0        64902.364726  14.062113      88.997634     5.307113   \n",
       "1        46932.364925  20.368498      83.213098     2.889688   \n",
       "\n",
       "         students_per_teacher      gini  crime_rate_pc  property_crime  \\\n",
       "cluster                                                                  \n",
       "0                   17.419034  0.453796       0.020958      428.846197   \n",
       "1                   14.702108  0.459107       0.010292       74.265170   \n",
       "\n",
       "         violent_crime  \n",
       "cluster                 \n",
       "0            52.624225  \n",
       "1             9.582732  "
      ]
     },
     "execution_count": 187,
     "metadata": {},
     "output_type": "execute_result"
    }
   ],
   "source": [
    "centroids = testinc.groupby('cluster')[features].mean()\n",
    "centroids"
   ]
  },
  {
   "cell_type": "code",
   "execution_count": 137,
   "metadata": {},
   "outputs": [
    {
     "data": {
      "text/plain": [
       "array([[6.48938165e+04, 1.40638952e+01, 8.89997182e+01, 5.31000136e+00,\n",
       "        1.74170155e+01, 4.53791505e-01, 2.09555915e-02, 4.28937993e+02,\n",
       "        5.26189402e+01],\n",
       "       [4.69412197e+04, 2.03659674e+01, 8.32136558e+01, 2.88896426e+00,\n",
       "        1.47037913e+01, 4.59108185e-01, 1.02964720e-02, 7.43164083e+01,\n",
       "        9.59673971e+00]])"
      ]
     },
     "execution_count": 137,
     "metadata": {},
     "output_type": "execute_result"
    }
   ],
   "source": [
    "ss.inverse_transform(km.cluster_centers_)"
   ]
  },
  {
   "cell_type": "code",
   "execution_count": 139,
   "metadata": {},
   "outputs": [
    {
     "data": {
      "image/png": "[encoded data removed]",
      "text/plain": [
       "<Figure size 720x576 with 1 Axes>"
      ]
     },
     "metadata": {
      "needs_background": "light"
     },
     "output_type": "display_data"
    }
   ],
   "source": [
    "colors = ['red', 'green']\n",
    "testinc['color'] = testinc['cluster'].map(lambda p: colors[p])\n",
    "\n",
    "axis_1 = 'hs_completion'\n",
    "axis_2 = 'log_density'\n",
    "\n",
    "ax = testinc.plot(    \n",
    "    kind = 'scatter', \n",
    "    x = axis_1, y = axis_2,\n",
    "    figsize = (10,8),\n",
    "    alpha = .5,\n",
    "    c = testinc['color']\n",
    ")\n",
    "\n",
    "centroids.plot(\n",
    "    kind = 'scatter', \n",
    "    x = axis_1, y = axis_2, \n",
    "    marker = '*', c = 'yellow', s = 550,\n",
    "    ax = ax\n",
    ");"
   ]
  },
  {
   "cell_type": "code",
   "execution_count": 36,
   "metadata": {},
   "outputs": [
    {
     "data": {
      "text/plain": [
       "0.23306570650606084"
      ]
     },
     "execution_count": 36,
     "metadata": {},
     "output_type": "execute_result"
    }
   ],
   "source": [
    "silhouette_score(X_scaled, km.labels_)"
   ]
  },
  {
   "cell_type": "code",
   "execution_count": 82,
   "metadata": {},
   "outputs": [],
   "source": [
    "scores = []\n",
    "for k in range(2, 30):\n",
    "    cl = KMeans(n_clusters = k, random_state = 42)\n",
    "    cl.fit(X_scaled)\n",
    "    inertia = cl.inertia_\n",
    "    sil = silhouette_score(X_scaled, cl.labels_)\n",
    "    scores.append((k, inertia, sil))"
   ]
  },
  {
   "cell_type": "code",
   "execution_count": 83,
   "metadata": {},
   "outputs": [
    {
     "data": {
      "text/html": [
       "<div>\n",
       "<style scoped>\n",
       "    .dataframe tbody tr th:only-of-type {\n",
       "        vertical-align: middle;\n",
       "    }\n",
       "\n",
       "    .dataframe tbody tr th {\n",
       "        vertical-align: top;\n",
       "    }\n",
       "\n",
       "    .dataframe thead th {\n",
       "        text-align: right;\n",
       "    }\n",
       "</style>\n",
       "<table border=\"1\" class=\"dataframe\">\n",
       "  <thead>\n",
       "    <tr style=\"text-align: right;\">\n",
       "      <th></th>\n",
       "      <th>k</th>\n",
       "      <th>inertia</th>\n",
       "      <th>sil</th>\n",
       "    </tr>\n",
       "  </thead>\n",
       "  <tbody>\n",
       "    <tr>\n",
       "      <th>0</th>\n",
       "      <td>2</td>\n",
       "      <td>32550.476542</td>\n",
       "      <td>0.260867</td>\n",
       "    </tr>\n",
       "    <tr>\n",
       "      <th>1</th>\n",
       "      <td>3</td>\n",
       "      <td>27569.622517</td>\n",
       "      <td>0.266670</td>\n",
       "    </tr>\n",
       "    <tr>\n",
       "      <th>2</th>\n",
       "      <td>4</td>\n",
       "      <td>23671.509800</td>\n",
       "      <td>0.248402</td>\n",
       "    </tr>\n",
       "    <tr>\n",
       "      <th>3</th>\n",
       "      <td>5</td>\n",
       "      <td>20316.041168</td>\n",
       "      <td>0.249393</td>\n",
       "    </tr>\n",
       "    <tr>\n",
       "      <th>4</th>\n",
       "      <td>6</td>\n",
       "      <td>18593.754376</td>\n",
       "      <td>0.253709</td>\n",
       "    </tr>\n",
       "  </tbody>\n",
       "</table>\n",
       "</div>"
      ],
      "text/plain": [
       "   k       inertia       sil\n",
       "0  2  32550.476542  0.260867\n",
       "1  3  27569.622517  0.266670\n",
       "2  4  23671.509800  0.248402\n",
       "3  5  20316.041168  0.249393\n",
       "4  6  18593.754376  0.253709"
      ]
     },
     "execution_count": 83,
     "metadata": {},
     "output_type": "execute_result"
    }
   ],
   "source": [
    "score_df = pd.DataFrame(scores, columns = ['k', 'inertia', 'sil'])\n",
    "score_df.head()"
   ]
  },
  {
   "cell_type": "markdown",
   "metadata": {},
   "source": [
    "### Regression"
   ]
  },
  {
   "cell_type": "code",
   "execution_count": 208,
   "metadata": {},
   "outputs": [],
   "source": [
    "features = [\n",
    "    'med_income',\n",
    "    'poverty',\n",
    "    'hs_completion',\n",
    "    'density',\n",
    "    'students_per_teacher',\n",
    "    'people_per_household',\n",
    "    'lat',\n",
    "    'lng',\n",
    "    'gini',\n",
    "]\n",
    "X = testinc[features]\n",
    "y = testinc['crime_rate_pc']"
   ]
  },
  {
   "cell_type": "code",
   "execution_count": 209,
   "metadata": {},
   "outputs": [],
   "source": [
    "# pf = PolynomialFeatures()\n",
    "# X_poly = pf.fit_transform(X)\n",
    "X_poly = X.copy()"
   ]
  },
  {
   "cell_type": "code",
   "execution_count": 210,
   "metadata": {},
   "outputs": [],
   "source": [
    "ss = StandardScaler()\n",
    "X_scaled = ss.fit_transform(X_poly)"
   ]
  },
  {
   "cell_type": "code",
   "execution_count": 211,
   "metadata": {},
   "outputs": [],
   "source": [
    "X_train, X_test, y_train, y_test = train_test_split(X_scaled, y, random_state = 42)"
   ]
  },
  {
   "cell_type": "code",
   "execution_count": 212,
   "metadata": {
    "scrolled": true
   },
   "outputs": [
    {
     "data": {
      "text/plain": [
       "0.22687358697944637"
      ]
     },
     "execution_count": 212,
     "metadata": {},
     "output_type": "execute_result"
    }
   ],
   "source": [
    "rf = RandomForestRegressor(max_depth = 8, n_estimators = 25, random_state=1) # random_state = 27\n",
    "rf.fit(X_train, y_train)\n",
    "pred = np.exp(rf.predict(X_test))\n",
    "r2_score(np.exp(y_test), pred)"
   ]
  },
  {
   "cell_type": "code",
   "execution_count": 217,
   "metadata": {},
   "outputs": [],
   "source": [
    "### Feature importance ###\n",
    "# Residuals, missing data\n",
    "# Feature relationships (student ratio is proxy for density?), education proxy for income?\n",
    "# Joining data sources\n",
    "# Ratio of crime types\n",
    "# Under budget police towns have big erros\n",
    "# Can model fill in blanks for places with non reported crimes?"
   ]
  },
  {
   "cell_type": "code",
   "execution_count": 218,
   "metadata": {},
   "outputs": [
    {
     "data": {
      "text/plain": [
       "gini                    0.028926\n",
       "students_per_teacher    0.053590\n",
       "poverty                 0.069757\n",
       "hs_completion           0.091465\n",
       "people_per_household    0.119536\n",
       "lat                     0.126952\n",
       "med_income              0.152499\n",
       "lng                     0.162692\n",
       "density                 0.194583\n",
       "dtype: float64"
      ]
     },
     "execution_count": 218,
     "metadata": {},
     "output_type": "execute_result"
    }
   ],
   "source": [
    "pd.Series(rf.feature_importances_, features).sort_values()"
   ]
  },
  {
   "cell_type": "code",
   "execution_count": 91,
   "metadata": {},
   "outputs": [
    {
     "data": {
      "text/plain": [
       "<matplotlib.axes._subplots.AxesSubplot at 0x12e2a0750>"
      ]
     },
     "execution_count": 91,
     "metadata": {},
     "output_type": "execute_result"
    },
    {
     "data": {
      "image/png": "[encoded data removed]",
      "text/plain": [
       "<Figure size 432x288 with 1 Axes>"
      ]
     },
     "metadata": {
      "needs_background": "light"
     },
     "output_type": "display_data"
    }
   ],
   "source": [
    "pd.Series(scores, index=max_depths).plot()"
   ]
  },
  {
   "cell_type": "code",
   "execution_count": 161,
   "metadata": {},
   "outputs": [
    {
     "name": "stderr",
     "output_type": "stream",
     "text": [
      "/opt/anaconda3/lib/python3.7/site-packages/pandas/core/series.py:856: RuntimeWarning: divide by zero encountered in log\n",
      "  result = getattr(ufunc, method)(*inputs, **kwargs)\n"
     ]
    },
    {
     "data": {
      "text/plain": [
       "<matplotlib.axes._subplots.AxesSubplot at 0x12e433090>"
      ]
     },
     "execution_count": 161,
     "metadata": {},
     "output_type": "execute_result"
    },
    {
     "data": {
      "image/png": "[encoded data removed]",
      "text/plain": [
       "<Figure size 432x288 with 1 Axes>"
      ]
     },
     "metadata": {
      "needs_background": "light"
     },
     "output_type": "display_data"
    }
   ],
   "source": [
    "results = pd.DataFrame({\n",
    "    \"pred\": rf.predict(X_test),\n",
    "    \"actual\": y_test\n",
    "})\n",
    "results['pred'] = np.log(results['pred'])\n",
    "results['actual'] = np.log(results['actual'])\n",
    "results.plot(kind='scatter', x='pred', y='actual')"
   ]
  },
  {
   "cell_type": "code",
   "execution_count": 214,
   "metadata": {},
   "outputs": [
    {
     "data": {
      "text/plain": [
       "0.029957381818578984"
      ]
     },
     "execution_count": 214,
     "metadata": {},
     "output_type": "execute_result"
    }
   ],
   "source": [
    "lr = LinearRegression()\n",
    "lr.fit(X_train, y_train)\n",
    "lr.score(X_test, y_test)"
   ]
  },
  {
   "cell_type": "code",
   "execution_count": 215,
   "metadata": {},
   "outputs": [
    {
     "data": {
      "text/plain": [
       "array([-0.00154351,  0.00111277,  0.00134262,  0.00167081,  0.00123572,\n",
       "        0.00085033, -0.00102136, -0.00143991, -0.00018204])"
      ]
     },
     "execution_count": 215,
     "metadata": {},
     "output_type": "execute_result"
    }
   ],
   "source": [
    "lr.coef_"
   ]
  },
  {
   "cell_type": "code",
   "execution_count": null,
   "metadata": {},
   "outputs": [],
   "source": []
  }
 ],
 "metadata": {
  "kernelspec": {
   "display_name": "Python 3",
   "language": "python",
   "name": "python3"
  },
  "language_info": {
   "codemirror_mode": {
    "name": "ipython",
    "version": 3
   },
   "file_extension": ".py",
   "mimetype": "text/x-python",
   "name": "python",
   "nbconvert_exporter": "python",
   "pygments_lexer": "ipython3",
   "version": "3.7.4"
  }
 },
 "nbformat": 4,
 "nbformat_minor": 2
}
