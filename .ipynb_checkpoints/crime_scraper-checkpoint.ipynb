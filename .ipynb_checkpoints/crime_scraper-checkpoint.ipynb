{
 "cells": [
  {
   "cell_type": "markdown",
   "metadata": {},
   "source": [
    "cost of living by town <br>\n",
    "https://www.cityrating.com/costofliving.asp <br> \n",
    "crime stats by town <br>\n",
    "https://www.cityrating.com/crime-statistics/ <br>\n",
    "income, education, age data by town <br>\n",
    "https://factfinder.census.gov/faces/nav/jsf/pages/community_facts.xhtml"
   ]
  },
  {
   "cell_type": "code",
   "execution_count": 2,
   "metadata": {},
   "outputs": [],
   "source": [
    "import pandas as pd\n",
    "import numpy as np\n",
    "import matplotlib.pyplot as plt\n",
    "\n",
    "from sklearn.preprocessing import StandardScaler\n",
    "from sklearn.linear_model import LinearRegression\n",
    "from sklearn.model_selection import train_test_split\n",
    "\n",
    "import requests\n",
    "from bs4 import BeautifulSoup\n",
    "\n",
    "import pickle\n",
    "import time"
   ]
  },
  {
   "cell_type": "markdown",
   "metadata": {},
   "source": [
    "## Gather census data, then scrape crime data"
   ]
  },
  {
   "cell_type": "markdown",
   "metadata": {},
   "source": [
    "### Clean poverty stats"
   ]
  },
  {
   "cell_type": "code",
   "execution_count": 2,
   "metadata": {},
   "outputs": [],
   "source": [
    "pov = pd.read_csv('./data/poverty_rates.csv', encoding = 'ISO-8859-1')"
   ]
  },
  {
   "cell_type": "code",
   "execution_count": 3,
   "metadata": {},
   "outputs": [],
   "source": [
    "pov.columns = ['state', 'town', 'poverty']"
   ]
  },
  {
   "cell_type": "code",
   "execution_count": 4,
   "metadata": {},
   "outputs": [],
   "source": [
    "pov.drop([0,1], inplace = True)\n",
    "pov.reset_index(drop = True, inplace = True)"
   ]
  },
  {
   "cell_type": "code",
   "execution_count": 5,
   "metadata": {},
   "outputs": [],
   "source": [
    "# Only for Puerto Rico\n",
    "for i in range(pov.shape[0]):\n",
    "    flip = pov.loc[i, 'state']\n",
    "    if '-' not in flip:\n",
    "        pov.loc[i, 'state'] = f\"-{flip}\""
   ]
  },
  {
   "cell_type": "code",
   "execution_count": 6,
   "metadata": {},
   "outputs": [],
   "source": [
    "pov['state'] = pov['state'].apply(lambda x: x.split('-')[1].strip())"
   ]
  },
  {
   "cell_type": "code",
   "execution_count": 7,
   "metadata": {},
   "outputs": [],
   "source": [
    "def clean_towns(town):\n",
    "    if town[-4:] == ' CDP':\n",
    "        return town[:-4]\n",
    "    elif town[-5:] == ' town':\n",
    "        return town[:-5]\n",
    "    elif town[-5:] == ' city':\n",
    "        return town[:-5]"
   ]
  },
  {
   "cell_type": "code",
   "execution_count": 8,
   "metadata": {},
   "outputs": [],
   "source": [
    "pov['town'] = pov['town'].apply(clean_towns)"
   ]
  },
  {
   "cell_type": "code",
   "execution_count": 9,
   "metadata": {},
   "outputs": [
    {
     "data": {
      "text/html": [
       "<div>\n",
       "<style scoped>\n",
       "    .dataframe tbody tr th:only-of-type {\n",
       "        vertical-align: middle;\n",
       "    }\n",
       "\n",
       "    .dataframe tbody tr th {\n",
       "        vertical-align: top;\n",
       "    }\n",
       "\n",
       "    .dataframe thead th {\n",
       "        text-align: right;\n",
       "    }\n",
       "</style>\n",
       "<table border=\"1\" class=\"dataframe\">\n",
       "  <thead>\n",
       "    <tr style=\"text-align: right;\">\n",
       "      <th></th>\n",
       "      <th>state</th>\n",
       "      <th>town</th>\n",
       "      <th>poverty</th>\n",
       "    </tr>\n",
       "  </thead>\n",
       "  <tbody>\n",
       "    <tr>\n",
       "      <th>0</th>\n",
       "      <td>Alabama</td>\n",
       "      <td>None</td>\n",
       "      <td>18</td>\n",
       "    </tr>\n",
       "    <tr>\n",
       "      <th>1</th>\n",
       "      <td>Alabama</td>\n",
       "      <td>Abanda</td>\n",
       "      <td>25.9</td>\n",
       "    </tr>\n",
       "    <tr>\n",
       "      <th>2</th>\n",
       "      <td>Alabama</td>\n",
       "      <td>Abbeville</td>\n",
       "      <td>20.7</td>\n",
       "    </tr>\n",
       "    <tr>\n",
       "      <th>3</th>\n",
       "      <td>Alabama</td>\n",
       "      <td>Adamsville</td>\n",
       "      <td>16</td>\n",
       "    </tr>\n",
       "    <tr>\n",
       "      <th>4</th>\n",
       "      <td>Alabama</td>\n",
       "      <td>Addison</td>\n",
       "      <td>34.2</td>\n",
       "    </tr>\n",
       "  </tbody>\n",
       "</table>\n",
       "</div>"
      ],
      "text/plain": [
       "     state        town poverty\n",
       "0  Alabama        None      18\n",
       "1  Alabama      Abanda    25.9\n",
       "2  Alabama   Abbeville    20.7\n",
       "3  Alabama  Adamsville      16\n",
       "4  Alabama     Addison    34.2"
      ]
     },
     "execution_count": 9,
     "metadata": {},
     "output_type": "execute_result"
    }
   ],
   "source": [
    "pov.head()"
   ]
  },
  {
   "cell_type": "markdown",
   "metadata": {},
   "source": [
    "### Merge HS completion stats"
   ]
  },
  {
   "cell_type": "code",
   "execution_count": 10,
   "metadata": {},
   "outputs": [],
   "source": [
    "hs = pd.read_csv('./data/hs_completion.csv', encoding = 'ISO-8859-1')"
   ]
  },
  {
   "cell_type": "code",
   "execution_count": 11,
   "metadata": {},
   "outputs": [],
   "source": [
    "hs = hs[['GCT_STUB.display-label', 'GCT_STUB.display-label.1', 'HC01']]"
   ]
  },
  {
   "cell_type": "code",
   "execution_count": 12,
   "metadata": {},
   "outputs": [],
   "source": [
    "hs.columns = ['state', 'town', 'hs_completion']"
   ]
  },
  {
   "cell_type": "code",
   "execution_count": 13,
   "metadata": {},
   "outputs": [],
   "source": [
    "hs.drop([0,1], inplace = True)\n",
    "hs.reset_index(drop = True, inplace = True)"
   ]
  },
  {
   "cell_type": "code",
   "execution_count": 14,
   "metadata": {},
   "outputs": [
    {
     "data": {
      "text/html": [
       "<div>\n",
       "<style scoped>\n",
       "    .dataframe tbody tr th:only-of-type {\n",
       "        vertical-align: middle;\n",
       "    }\n",
       "\n",
       "    .dataframe tbody tr th {\n",
       "        vertical-align: top;\n",
       "    }\n",
       "\n",
       "    .dataframe thead th {\n",
       "        text-align: right;\n",
       "    }\n",
       "</style>\n",
       "<table border=\"1\" class=\"dataframe\">\n",
       "  <thead>\n",
       "    <tr style=\"text-align: right;\">\n",
       "      <th></th>\n",
       "      <th>state</th>\n",
       "      <th>town</th>\n",
       "      <th>hs_completion</th>\n",
       "    </tr>\n",
       "  </thead>\n",
       "  <tbody>\n",
       "    <tr>\n",
       "      <th>0</th>\n",
       "      <td>United States - Alabama</td>\n",
       "      <td>Alabama</td>\n",
       "      <td>85.3</td>\n",
       "    </tr>\n",
       "    <tr>\n",
       "      <th>1</th>\n",
       "      <td>United States - Alabama - Abanda CDP</td>\n",
       "      <td>Abanda CDP</td>\n",
       "      <td>8.4</td>\n",
       "    </tr>\n",
       "    <tr>\n",
       "      <th>2</th>\n",
       "      <td>United States - Alabama - Abbeville city</td>\n",
       "      <td>Abbeville city</td>\n",
       "      <td>79.1</td>\n",
       "    </tr>\n",
       "    <tr>\n",
       "      <th>3</th>\n",
       "      <td>United States - Alabama - Adamsville city</td>\n",
       "      <td>Adamsville city</td>\n",
       "      <td>83.5</td>\n",
       "    </tr>\n",
       "    <tr>\n",
       "      <th>4</th>\n",
       "      <td>United States - Alabama - Addison town</td>\n",
       "      <td>Addison town</td>\n",
       "      <td>85.1</td>\n",
       "    </tr>\n",
       "  </tbody>\n",
       "</table>\n",
       "</div>"
      ],
      "text/plain": [
       "                                       state             town hs_completion\n",
       "0                    United States - Alabama          Alabama          85.3\n",
       "1       United States - Alabama - Abanda CDP       Abanda CDP           8.4\n",
       "2   United States - Alabama - Abbeville city   Abbeville city          79.1\n",
       "3  United States - Alabama - Adamsville city  Adamsville city          83.5\n",
       "4     United States - Alabama - Addison town     Addison town          85.1"
      ]
     },
     "execution_count": 14,
     "metadata": {},
     "output_type": "execute_result"
    }
   ],
   "source": [
    "hs.head()"
   ]
  },
  {
   "cell_type": "markdown",
   "metadata": {},
   "source": [
    "hs national average: 87.3 <br>\n",
    "poverty national average: 14.6"
   ]
  },
  {
   "cell_type": "code",
   "execution_count": 15,
   "metadata": {},
   "outputs": [
    {
     "data": {
      "text/plain": [
       "((29636, 3), (29636, 3))"
      ]
     },
     "execution_count": 15,
     "metadata": {},
     "output_type": "execute_result"
    }
   ],
   "source": [
    "pov.shape, hs.shape"
   ]
  },
  {
   "cell_type": "code",
   "execution_count": 16,
   "metadata": {},
   "outputs": [],
   "source": [
    "pov['hs_completion'] = hs['hs_completion']"
   ]
  },
  {
   "cell_type": "code",
   "execution_count": 17,
   "metadata": {},
   "outputs": [],
   "source": [
    "# Both town and state have to match with income data\n",
    "pov['townstate'] = pov['town'] + ', ' + pov['state']"
   ]
  },
  {
   "cell_type": "code",
   "execution_count": 18,
   "metadata": {},
   "outputs": [
    {
     "data": {
      "text/html": [
       "<div>\n",
       "<style scoped>\n",
       "    .dataframe tbody tr th:only-of-type {\n",
       "        vertical-align: middle;\n",
       "    }\n",
       "\n",
       "    .dataframe tbody tr th {\n",
       "        vertical-align: top;\n",
       "    }\n",
       "\n",
       "    .dataframe thead th {\n",
       "        text-align: right;\n",
       "    }\n",
       "</style>\n",
       "<table border=\"1\" class=\"dataframe\">\n",
       "  <thead>\n",
       "    <tr style=\"text-align: right;\">\n",
       "      <th></th>\n",
       "      <th>state</th>\n",
       "      <th>town</th>\n",
       "      <th>poverty</th>\n",
       "      <th>hs_completion</th>\n",
       "      <th>townstate</th>\n",
       "    </tr>\n",
       "  </thead>\n",
       "  <tbody>\n",
       "    <tr>\n",
       "      <th>0</th>\n",
       "      <td>Alabama</td>\n",
       "      <td>None</td>\n",
       "      <td>18</td>\n",
       "      <td>85.3</td>\n",
       "      <td>NaN</td>\n",
       "    </tr>\n",
       "    <tr>\n",
       "      <th>1</th>\n",
       "      <td>Alabama</td>\n",
       "      <td>Abanda</td>\n",
       "      <td>25.9</td>\n",
       "      <td>8.4</td>\n",
       "      <td>Abanda, Alabama</td>\n",
       "    </tr>\n",
       "    <tr>\n",
       "      <th>2</th>\n",
       "      <td>Alabama</td>\n",
       "      <td>Abbeville</td>\n",
       "      <td>20.7</td>\n",
       "      <td>79.1</td>\n",
       "      <td>Abbeville, Alabama</td>\n",
       "    </tr>\n",
       "    <tr>\n",
       "      <th>3</th>\n",
       "      <td>Alabama</td>\n",
       "      <td>Adamsville</td>\n",
       "      <td>16</td>\n",
       "      <td>83.5</td>\n",
       "      <td>Adamsville, Alabama</td>\n",
       "    </tr>\n",
       "    <tr>\n",
       "      <th>4</th>\n",
       "      <td>Alabama</td>\n",
       "      <td>Addison</td>\n",
       "      <td>34.2</td>\n",
       "      <td>85.1</td>\n",
       "      <td>Addison, Alabama</td>\n",
       "    </tr>\n",
       "  </tbody>\n",
       "</table>\n",
       "</div>"
      ],
      "text/plain": [
       "     state        town poverty hs_completion            townstate\n",
       "0  Alabama        None      18          85.3                  NaN\n",
       "1  Alabama      Abanda    25.9           8.4      Abanda, Alabama\n",
       "2  Alabama   Abbeville    20.7          79.1   Abbeville, Alabama\n",
       "3  Alabama  Adamsville      16          83.5  Adamsville, Alabama\n",
       "4  Alabama     Addison    34.2          85.1     Addison, Alabama"
      ]
     },
     "execution_count": 18,
     "metadata": {},
     "output_type": "execute_result"
    }
   ],
   "source": [
    "pov.head()"
   ]
  },
  {
   "cell_type": "markdown",
   "metadata": {},
   "source": [
    "### Clean income & household data"
   ]
  },
  {
   "cell_type": "code",
   "execution_count": 19,
   "metadata": {},
   "outputs": [],
   "source": [
    "#inc = pd.read_csv('./data/income_data_copy.csv')"
   ]
  },
  {
   "cell_type": "code",
   "execution_count": 20,
   "metadata": {},
   "outputs": [
    {
     "name": "stderr",
     "output_type": "stream",
     "text": [
      "/opt/anaconda3/lib/python3.7/site-packages/IPython/core/interactiveshell.py:3058: DtypeWarning: Columns (1,3,4,5,6,9,10,15,16,21,22,27,28,33,34,39,40,45,46,51,52,57,58,63,64,69,70,75,76,81,82,87,88,89,90,93,94,99,100,105,106,111,112,117,118,123,124,129,130,135,136,177,178,183,184,189,190,195,196,201,202,203,204,207,208,213,214,219,220,225,226,231,232,237,238) have mixed types. Specify dtype option on import or set low_memory=False.\n",
      "  interactivity=interactivity, compiler=compiler, result=result)\n"
     ]
    }
   ],
   "source": [
    "inc = pd.read_csv('./data/census_data.csv')"
   ]
  },
  {
   "cell_type": "code",
   "execution_count": 21,
   "metadata": {},
   "outputs": [
    {
     "data": {
      "text/html": [
       "<div>\n",
       "<style scoped>\n",
       "    .dataframe tbody tr th:only-of-type {\n",
       "        vertical-align: middle;\n",
       "    }\n",
       "\n",
       "    .dataframe tbody tr th {\n",
       "        vertical-align: top;\n",
       "    }\n",
       "\n",
       "    .dataframe thead th {\n",
       "        text-align: right;\n",
       "    }\n",
       "</style>\n",
       "<table border=\"1\" class=\"dataframe\">\n",
       "  <thead>\n",
       "    <tr style=\"text-align: right;\">\n",
       "      <th></th>\n",
       "      <th>GEO.id</th>\n",
       "      <th>GEO.id2</th>\n",
       "      <th>GEO.display-label</th>\n",
       "      <th>HC01_EST_VC02</th>\n",
       "      <th>HC01_MOE_VC02</th>\n",
       "      <th>HC02_EST_VC02</th>\n",
       "      <th>HC02_MOE_VC02</th>\n",
       "      <th>HC03_EST_VC02</th>\n",
       "      <th>HC03_MOE_VC02</th>\n",
       "      <th>HC01_EST_VC04</th>\n",
       "      <th>...</th>\n",
       "      <th>HC02_EST_VC52</th>\n",
       "      <th>HC02_MOE_VC52</th>\n",
       "      <th>HC03_EST_VC52</th>\n",
       "      <th>HC03_MOE_VC52</th>\n",
       "      <th>HC01_EST_VC53</th>\n",
       "      <th>HC01_MOE_VC53</th>\n",
       "      <th>HC02_EST_VC53</th>\n",
       "      <th>HC02_MOE_VC53</th>\n",
       "      <th>HC03_EST_VC53</th>\n",
       "      <th>HC03_MOE_VC53</th>\n",
       "    </tr>\n",
       "  </thead>\n",
       "  <tbody>\n",
       "    <tr>\n",
       "      <th>0</th>\n",
       "      <td>Id</td>\n",
       "      <td>Id2</td>\n",
       "      <td>Geography</td>\n",
       "      <td>Number; Estimate; Households</td>\n",
       "      <td>Number; Margin of Error; Households</td>\n",
       "      <td>Percent Distribution; Estimate; Households</td>\n",
       "      <td>Percent Distribution; Margin of Error; Households</td>\n",
       "      <td>Median income (dollars); Estimate; Households</td>\n",
       "      <td>Median income (dollars); Margin of Error; Hous...</td>\n",
       "      <td>Number; Estimate; Households - One race-- - White</td>\n",
       "      <td>...</td>\n",
       "      <td>Percent Distribution; Estimate; NONFAMILY HOUS...</td>\n",
       "      <td>Percent Distribution; Margin of Error; NONFAMI...</td>\n",
       "      <td>Median income (dollars); Estimate; NONFAMILY H...</td>\n",
       "      <td>Median income (dollars); Margin of Error; NONF...</td>\n",
       "      <td>Number; Estimate; NONFAMILY HOUSEHOLDS - Nonfa...</td>\n",
       "      <td>Number; Margin of Error; NONFAMILY HOUSEHOLDS ...</td>\n",
       "      <td>Percent Distribution; Estimate; NONFAMILY HOUS...</td>\n",
       "      <td>Percent Distribution; Margin of Error; NONFAMI...</td>\n",
       "      <td>Median income (dollars); Estimate; NONFAMILY H...</td>\n",
       "      <td>Median income (dollars); Margin of Error; NONF...</td>\n",
       "    </tr>\n",
       "    <tr>\n",
       "      <th>1</th>\n",
       "      <td>8600000US00601</td>\n",
       "      <td>00601</td>\n",
       "      <td>ZCTA5 00601</td>\n",
       "      <td>5818</td>\n",
       "      <td>249</td>\n",
       "      <td>5818</td>\n",
       "      <td>249</td>\n",
       "      <td>11757</td>\n",
       "      <td>1287</td>\n",
       "      <td>4614</td>\n",
       "      <td>...</td>\n",
       "      <td>38.1</td>\n",
       "      <td>6.9</td>\n",
       "      <td>9919</td>\n",
       "      <td>5162</td>\n",
       "      <td>90</td>\n",
       "      <td>49</td>\n",
       "      <td>5.7</td>\n",
       "      <td>3.0</td>\n",
       "      <td>-</td>\n",
       "      <td>**</td>\n",
       "    </tr>\n",
       "    <tr>\n",
       "      <th>2</th>\n",
       "      <td>8600000US00602</td>\n",
       "      <td>00602</td>\n",
       "      <td>ZCTA5 00602</td>\n",
       "      <td>12719</td>\n",
       "      <td>374</td>\n",
       "      <td>12719</td>\n",
       "      <td>374</td>\n",
       "      <td>16190</td>\n",
       "      <td>1499</td>\n",
       "      <td>8600</td>\n",
       "      <td>...</td>\n",
       "      <td>43.7</td>\n",
       "      <td>5.3</td>\n",
       "      <td>8531</td>\n",
       "      <td>2734</td>\n",
       "      <td>206</td>\n",
       "      <td>91</td>\n",
       "      <td>6.3</td>\n",
       "      <td>2.7</td>\n",
       "      <td>16563</td>\n",
       "      <td>10559</td>\n",
       "    </tr>\n",
       "    <tr>\n",
       "      <th>3</th>\n",
       "      <td>8600000US00603</td>\n",
       "      <td>00603</td>\n",
       "      <td>ZCTA5 00603</td>\n",
       "      <td>19009</td>\n",
       "      <td>503</td>\n",
       "      <td>19009</td>\n",
       "      <td>503</td>\n",
       "      <td>16645</td>\n",
       "      <td>952</td>\n",
       "      <td>13697</td>\n",
       "      <td>...</td>\n",
       "      <td>35.8</td>\n",
       "      <td>3.4</td>\n",
       "      <td>12473</td>\n",
       "      <td>1826</td>\n",
       "      <td>337</td>\n",
       "      <td>141</td>\n",
       "      <td>5.9</td>\n",
       "      <td>2.4</td>\n",
       "      <td>-</td>\n",
       "      <td>**</td>\n",
       "    </tr>\n",
       "    <tr>\n",
       "      <th>4</th>\n",
       "      <td>8600000US00606</td>\n",
       "      <td>00606</td>\n",
       "      <td>ZCTA5 00606</td>\n",
       "      <td>1959</td>\n",
       "      <td>154</td>\n",
       "      <td>1959</td>\n",
       "      <td>154</td>\n",
       "      <td>13387</td>\n",
       "      <td>2659</td>\n",
       "      <td>1034</td>\n",
       "      <td>...</td>\n",
       "      <td>48.7</td>\n",
       "      <td>11.9</td>\n",
       "      <td>9152</td>\n",
       "      <td>3842</td>\n",
       "      <td>101</td>\n",
       "      <td>59</td>\n",
       "      <td>18.2</td>\n",
       "      <td>9.6</td>\n",
       "      <td>9181</td>\n",
       "      <td>4828</td>\n",
       "    </tr>\n",
       "  </tbody>\n",
       "</table>\n",
       "<p>5 rows × 243 columns</p>\n",
       "</div>"
      ],
      "text/plain": [
       "           GEO.id GEO.id2 GEO.display-label                 HC01_EST_VC02  \\\n",
       "0              Id     Id2         Geography  Number; Estimate; Households   \n",
       "1  8600000US00601   00601       ZCTA5 00601                          5818   \n",
       "2  8600000US00602   00602       ZCTA5 00602                         12719   \n",
       "3  8600000US00603   00603       ZCTA5 00603                         19009   \n",
       "4  8600000US00606   00606       ZCTA5 00606                          1959   \n",
       "\n",
       "                         HC01_MOE_VC02  \\\n",
       "0  Number; Margin of Error; Households   \n",
       "1                                  249   \n",
       "2                                  374   \n",
       "3                                  503   \n",
       "4                                  154   \n",
       "\n",
       "                                HC02_EST_VC02  \\\n",
       "0  Percent Distribution; Estimate; Households   \n",
       "1                                        5818   \n",
       "2                                       12719   \n",
       "3                                       19009   \n",
       "4                                        1959   \n",
       "\n",
       "                                       HC02_MOE_VC02  \\\n",
       "0  Percent Distribution; Margin of Error; Households   \n",
       "1                                                249   \n",
       "2                                                374   \n",
       "3                                                503   \n",
       "4                                                154   \n",
       "\n",
       "                                   HC03_EST_VC02  \\\n",
       "0  Median income (dollars); Estimate; Households   \n",
       "1                                          11757   \n",
       "2                                          16190   \n",
       "3                                          16645   \n",
       "4                                          13387   \n",
       "\n",
       "                                       HC03_MOE_VC02  \\\n",
       "0  Median income (dollars); Margin of Error; Hous...   \n",
       "1                                               1287   \n",
       "2                                               1499   \n",
       "3                                                952   \n",
       "4                                               2659   \n",
       "\n",
       "                                       HC01_EST_VC04  ...  \\\n",
       "0  Number; Estimate; Households - One race-- - White  ...   \n",
       "1                                               4614  ...   \n",
       "2                                               8600  ...   \n",
       "3                                              13697  ...   \n",
       "4                                               1034  ...   \n",
       "\n",
       "                                       HC02_EST_VC52  \\\n",
       "0  Percent Distribution; Estimate; NONFAMILY HOUS...   \n",
       "1                                               38.1   \n",
       "2                                               43.7   \n",
       "3                                               35.8   \n",
       "4                                               48.7   \n",
       "\n",
       "                                       HC02_MOE_VC52  \\\n",
       "0  Percent Distribution; Margin of Error; NONFAMI...   \n",
       "1                                                6.9   \n",
       "2                                                5.3   \n",
       "3                                                3.4   \n",
       "4                                               11.9   \n",
       "\n",
       "                                       HC03_EST_VC52  \\\n",
       "0  Median income (dollars); Estimate; NONFAMILY H...   \n",
       "1                                               9919   \n",
       "2                                               8531   \n",
       "3                                              12473   \n",
       "4                                               9152   \n",
       "\n",
       "                                       HC03_MOE_VC52  \\\n",
       "0  Median income (dollars); Margin of Error; NONF...   \n",
       "1                                               5162   \n",
       "2                                               2734   \n",
       "3                                               1826   \n",
       "4                                               3842   \n",
       "\n",
       "                                       HC01_EST_VC53  \\\n",
       "0  Number; Estimate; NONFAMILY HOUSEHOLDS - Nonfa...   \n",
       "1                                                 90   \n",
       "2                                                206   \n",
       "3                                                337   \n",
       "4                                                101   \n",
       "\n",
       "                                       HC01_MOE_VC53  \\\n",
       "0  Number; Margin of Error; NONFAMILY HOUSEHOLDS ...   \n",
       "1                                                 49   \n",
       "2                                                 91   \n",
       "3                                                141   \n",
       "4                                                 59   \n",
       "\n",
       "                                       HC02_EST_VC53  \\\n",
       "0  Percent Distribution; Estimate; NONFAMILY HOUS...   \n",
       "1                                                5.7   \n",
       "2                                                6.3   \n",
       "3                                                5.9   \n",
       "4                                               18.2   \n",
       "\n",
       "                                       HC02_MOE_VC53  \\\n",
       "0  Percent Distribution; Margin of Error; NONFAMI...   \n",
       "1                                                3.0   \n",
       "2                                                2.7   \n",
       "3                                                2.4   \n",
       "4                                                9.6   \n",
       "\n",
       "                                       HC03_EST_VC53  \\\n",
       "0  Median income (dollars); Estimate; NONFAMILY H...   \n",
       "1                                                  -   \n",
       "2                                              16563   \n",
       "3                                                  -   \n",
       "4                                               9181   \n",
       "\n",
       "                                       HC03_MOE_VC53  \n",
       "0  Median income (dollars); Margin of Error; NONF...  \n",
       "1                                                 **  \n",
       "2                                              10559  \n",
       "3                                                 **  \n",
       "4                                               4828  \n",
       "\n",
       "[5 rows x 243 columns]"
      ]
     },
     "execution_count": 21,
     "metadata": {},
     "output_type": "execute_result"
    }
   ],
   "source": [
    "inc.head()"
   ]
  },
  {
   "cell_type": "code",
   "execution_count": 22,
   "metadata": {},
   "outputs": [],
   "source": [
    "inc = inc[['GEO.id2', 'HC01_EST_VC02', 'HC03_EST_VC02']]"
   ]
  },
  {
   "cell_type": "code",
   "execution_count": 23,
   "metadata": {},
   "outputs": [],
   "source": [
    "inc.columns = ['ZCTA', 'n_households', 'med_income']"
   ]
  },
  {
   "cell_type": "code",
   "execution_count": 24,
   "metadata": {},
   "outputs": [],
   "source": [
    "inc.drop([0], inplace = True)\n",
    "inc.reset_index(drop = True, inplace = True)"
   ]
  },
  {
   "cell_type": "code",
   "execution_count": 25,
   "metadata": {},
   "outputs": [
    {
     "data": {
      "text/html": [
       "<div>\n",
       "<style scoped>\n",
       "    .dataframe tbody tr th:only-of-type {\n",
       "        vertical-align: middle;\n",
       "    }\n",
       "\n",
       "    .dataframe tbody tr th {\n",
       "        vertical-align: top;\n",
       "    }\n",
       "\n",
       "    .dataframe thead th {\n",
       "        text-align: right;\n",
       "    }\n",
       "</style>\n",
       "<table border=\"1\" class=\"dataframe\">\n",
       "  <thead>\n",
       "    <tr style=\"text-align: right;\">\n",
       "      <th></th>\n",
       "      <th>ZCTA</th>\n",
       "      <th>n_households</th>\n",
       "      <th>med_income</th>\n",
       "    </tr>\n",
       "  </thead>\n",
       "  <tbody>\n",
       "    <tr>\n",
       "      <th>0</th>\n",
       "      <td>00601</td>\n",
       "      <td>5818</td>\n",
       "      <td>11757</td>\n",
       "    </tr>\n",
       "    <tr>\n",
       "      <th>1</th>\n",
       "      <td>00602</td>\n",
       "      <td>12719</td>\n",
       "      <td>16190</td>\n",
       "    </tr>\n",
       "    <tr>\n",
       "      <th>2</th>\n",
       "      <td>00603</td>\n",
       "      <td>19009</td>\n",
       "      <td>16645</td>\n",
       "    </tr>\n",
       "    <tr>\n",
       "      <th>3</th>\n",
       "      <td>00606</td>\n",
       "      <td>1959</td>\n",
       "      <td>13387</td>\n",
       "    </tr>\n",
       "    <tr>\n",
       "      <th>4</th>\n",
       "      <td>00610</td>\n",
       "      <td>9120</td>\n",
       "      <td>18741</td>\n",
       "    </tr>\n",
       "  </tbody>\n",
       "</table>\n",
       "</div>"
      ],
      "text/plain": [
       "    ZCTA n_households med_income\n",
       "0  00601         5818      11757\n",
       "1  00602        12719      16190\n",
       "2  00603        19009      16645\n",
       "3  00606         1959      13387\n",
       "4  00610         9120      18741"
      ]
     },
     "execution_count": 25,
     "metadata": {},
     "output_type": "execute_result"
    }
   ],
   "source": [
    "inc.head()"
   ]
  },
  {
   "cell_type": "code",
   "execution_count": 26,
   "metadata": {},
   "outputs": [
    {
     "data": {
      "text/plain": [
       "-        2164\n",
       "51250      76\n",
       "46250      72\n",
       "48750      72\n",
       "41250      66\n",
       "         ... \n",
       "65815       1\n",
       "34970       1\n",
       "51687       1\n",
       "91824       1\n",
       "27123       1\n",
       "Name: med_income, Length: 19651, dtype: int64"
      ]
     },
     "execution_count": 26,
     "metadata": {},
     "output_type": "execute_result"
    }
   ],
   "source": [
    "inc['med_income'].value_counts()"
   ]
  },
  {
   "cell_type": "code",
   "execution_count": 27,
   "metadata": {},
   "outputs": [],
   "source": [
    "# Clean commas\n",
    "inc['med_income'] = inc['med_income'].apply(lambda x: x.replace(',', ''))"
   ]
  },
  {
   "cell_type": "code",
   "execution_count": 28,
   "metadata": {},
   "outputs": [],
   "source": [
    "# Clean 2500-. These will be treated as 2500\n",
    "def clean_2500(income):\n",
    "    if (income == '2500-'):\n",
    "        return '2500'\n",
    "    else:\n",
    "        return income\n",
    "    \n",
    "inc['med_income'] = inc['med_income'].apply(clean_2500)"
   ]
  },
  {
   "cell_type": "code",
   "execution_count": 29,
   "metadata": {},
   "outputs": [],
   "source": [
    "# Clean 250000+. These will be treated as 250000\n",
    "inc['med_income'] = inc['med_income'].apply(lambda x: x.replace('+', ''))"
   ]
  },
  {
   "cell_type": "code",
   "execution_count": 30,
   "metadata": {},
   "outputs": [],
   "source": [
    "# Interpolate hyphens: hyphens will adopt the value of the nearest numeric zip\n",
    "for i in range(len(inc['med_income'])):\n",
    "    if (inc.loc[i, 'med_income'] == '-'):\n",
    "        numeric_neighbor = False\n",
    "        neighbor_dist = 0\n",
    "        while not numeric_neighbor:\n",
    "            neighbor_dist += 1\n",
    "            neighbor = inc.loc[i - neighbor_dist, 'med_income']\n",
    "            if (neighbor != '-'):\n",
    "                numeric_neighbor = True\n",
    "               \n",
    "        inc.loc[i, 'med_income'] = neighbor"
   ]
  },
  {
   "cell_type": "code",
   "execution_count": 31,
   "metadata": {},
   "outputs": [
    {
     "data": {
      "text/plain": [
       "ZCTA            object\n",
       "n_households    object\n",
       "med_income      object\n",
       "dtype: object"
      ]
     },
     "execution_count": 31,
     "metadata": {},
     "output_type": "execute_result"
    }
   ],
   "source": [
    "inc.dtypes"
   ]
  },
  {
   "cell_type": "code",
   "execution_count": 32,
   "metadata": {},
   "outputs": [],
   "source": [
    "inc['n_households'] = pd.to_numeric(inc['n_households'])\n",
    "inc['med_income'] = pd.to_numeric(inc['med_income'])\n",
    "inc['ZCTA'] = pd.to_numeric(inc['ZCTA'])"
   ]
  },
  {
   "cell_type": "code",
   "execution_count": 33,
   "metadata": {},
   "outputs": [
    {
     "data": {
      "text/plain": [
       "ZCTA            int64\n",
       "n_households    int64\n",
       "med_income      int64\n",
       "dtype: object"
      ]
     },
     "execution_count": 33,
     "metadata": {},
     "output_type": "execute_result"
    }
   ],
   "source": [
    "inc.dtypes"
   ]
  },
  {
   "cell_type": "markdown",
   "metadata": {},
   "source": [
    "### Merge zips data"
   ]
  },
  {
   "cell_type": "code",
   "execution_count": 34,
   "metadata": {},
   "outputs": [],
   "source": [
    "zips = pd.read_csv('./data/uszips_data.csv')"
   ]
  },
  {
   "cell_type": "code",
   "execution_count": 35,
   "metadata": {},
   "outputs": [
    {
     "data": {
      "text/html": [
       "<div>\n",
       "<style scoped>\n",
       "    .dataframe tbody tr th:only-of-type {\n",
       "        vertical-align: middle;\n",
       "    }\n",
       "\n",
       "    .dataframe tbody tr th {\n",
       "        vertical-align: top;\n",
       "    }\n",
       "\n",
       "    .dataframe thead th {\n",
       "        text-align: right;\n",
       "    }\n",
       "</style>\n",
       "<table border=\"1\" class=\"dataframe\">\n",
       "  <thead>\n",
       "    <tr style=\"text-align: right;\">\n",
       "      <th></th>\n",
       "      <th>zip</th>\n",
       "      <th>lat</th>\n",
       "      <th>lng</th>\n",
       "      <th>city</th>\n",
       "      <th>state_id</th>\n",
       "      <th>state_name</th>\n",
       "      <th>zcta</th>\n",
       "      <th>parent_zcta</th>\n",
       "      <th>population</th>\n",
       "      <th>density</th>\n",
       "      <th>county_fips</th>\n",
       "      <th>county_name</th>\n",
       "      <th>county_weights</th>\n",
       "      <th>county_names_all</th>\n",
       "      <th>county_fips_all</th>\n",
       "      <th>imprecise</th>\n",
       "      <th>military</th>\n",
       "      <th>timezone</th>\n",
       "    </tr>\n",
       "  </thead>\n",
       "  <tbody>\n",
       "    <tr>\n",
       "      <th>0</th>\n",
       "      <td>601</td>\n",
       "      <td>18.18004</td>\n",
       "      <td>-66.75218</td>\n",
       "      <td>Adjuntas</td>\n",
       "      <td>PR</td>\n",
       "      <td>Puerto Rico</td>\n",
       "      <td>True</td>\n",
       "      <td>NaN</td>\n",
       "      <td>17242</td>\n",
       "      <td>111.4</td>\n",
       "      <td>72001</td>\n",
       "      <td>Adjuntas</td>\n",
       "      <td>{'72001':99.43,'72141':0.57}</td>\n",
       "      <td>Adjuntas|Utuado</td>\n",
       "      <td>72001|72141</td>\n",
       "      <td>False</td>\n",
       "      <td>False</td>\n",
       "      <td>America/Puerto_Rico</td>\n",
       "    </tr>\n",
       "    <tr>\n",
       "      <th>1</th>\n",
       "      <td>602</td>\n",
       "      <td>18.36073</td>\n",
       "      <td>-67.17517</td>\n",
       "      <td>Aguada</td>\n",
       "      <td>PR</td>\n",
       "      <td>Puerto Rico</td>\n",
       "      <td>True</td>\n",
       "      <td>NaN</td>\n",
       "      <td>38442</td>\n",
       "      <td>523.5</td>\n",
       "      <td>72003</td>\n",
       "      <td>Aguada</td>\n",
       "      <td>{'72003':100}</td>\n",
       "      <td>Aguada</td>\n",
       "      <td>72003</td>\n",
       "      <td>False</td>\n",
       "      <td>False</td>\n",
       "      <td>America/Puerto_Rico</td>\n",
       "    </tr>\n",
       "    <tr>\n",
       "      <th>2</th>\n",
       "      <td>603</td>\n",
       "      <td>18.45439</td>\n",
       "      <td>-67.12202</td>\n",
       "      <td>Aguadilla</td>\n",
       "      <td>PR</td>\n",
       "      <td>Puerto Rico</td>\n",
       "      <td>True</td>\n",
       "      <td>NaN</td>\n",
       "      <td>48814</td>\n",
       "      <td>667.9</td>\n",
       "      <td>72005</td>\n",
       "      <td>Aguadilla</td>\n",
       "      <td>{'72005':100}</td>\n",
       "      <td>Aguadilla</td>\n",
       "      <td>72005</td>\n",
       "      <td>False</td>\n",
       "      <td>False</td>\n",
       "      <td>America/Puerto_Rico</td>\n",
       "    </tr>\n",
       "    <tr>\n",
       "      <th>3</th>\n",
       "      <td>606</td>\n",
       "      <td>18.16724</td>\n",
       "      <td>-66.93828</td>\n",
       "      <td>Maricao</td>\n",
       "      <td>PR</td>\n",
       "      <td>Puerto Rico</td>\n",
       "      <td>True</td>\n",
       "      <td>NaN</td>\n",
       "      <td>6437</td>\n",
       "      <td>60.4</td>\n",
       "      <td>72093</td>\n",
       "      <td>Maricao</td>\n",
       "      <td>{'72093':94.88,'72121':1.35,'72153':3.78}</td>\n",
       "      <td>Maricao|Yauco|Sabana Grande</td>\n",
       "      <td>72093|72153|72121</td>\n",
       "      <td>False</td>\n",
       "      <td>False</td>\n",
       "      <td>America/Puerto_Rico</td>\n",
       "    </tr>\n",
       "    <tr>\n",
       "      <th>4</th>\n",
       "      <td>610</td>\n",
       "      <td>18.29032</td>\n",
       "      <td>-67.12243</td>\n",
       "      <td>Anasco</td>\n",
       "      <td>PR</td>\n",
       "      <td>Puerto Rico</td>\n",
       "      <td>True</td>\n",
       "      <td>NaN</td>\n",
       "      <td>27073</td>\n",
       "      <td>312.0</td>\n",
       "      <td>72011</td>\n",
       "      <td>Añasco</td>\n",
       "      <td>{'72003':0.55,'72011':99.45}</td>\n",
       "      <td>Añasco|Aguada</td>\n",
       "      <td>72011|72003</td>\n",
       "      <td>False</td>\n",
       "      <td>False</td>\n",
       "      <td>America/Puerto_Rico</td>\n",
       "    </tr>\n",
       "  </tbody>\n",
       "</table>\n",
       "</div>"
      ],
      "text/plain": [
       "   zip       lat       lng       city state_id   state_name  zcta  \\\n",
       "0  601  18.18004 -66.75218   Adjuntas       PR  Puerto Rico  True   \n",
       "1  602  18.36073 -67.17517     Aguada       PR  Puerto Rico  True   \n",
       "2  603  18.45439 -67.12202  Aguadilla       PR  Puerto Rico  True   \n",
       "3  606  18.16724 -66.93828    Maricao       PR  Puerto Rico  True   \n",
       "4  610  18.29032 -67.12243     Anasco       PR  Puerto Rico  True   \n",
       "\n",
       "   parent_zcta  population  density  county_fips county_name  \\\n",
       "0          NaN       17242    111.4        72001    Adjuntas   \n",
       "1          NaN       38442    523.5        72003      Aguada   \n",
       "2          NaN       48814    667.9        72005   Aguadilla   \n",
       "3          NaN        6437     60.4        72093     Maricao   \n",
       "4          NaN       27073    312.0        72011      Añasco   \n",
       "\n",
       "                              county_weights             county_names_all  \\\n",
       "0               {'72001':99.43,'72141':0.57}              Adjuntas|Utuado   \n",
       "1                              {'72003':100}                       Aguada   \n",
       "2                              {'72005':100}                    Aguadilla   \n",
       "3  {'72093':94.88,'72121':1.35,'72153':3.78}  Maricao|Yauco|Sabana Grande   \n",
       "4               {'72003':0.55,'72011':99.45}                Añasco|Aguada   \n",
       "\n",
       "     county_fips_all  imprecise  military             timezone  \n",
       "0        72001|72141      False     False  America/Puerto_Rico  \n",
       "1              72003      False     False  America/Puerto_Rico  \n",
       "2              72005      False     False  America/Puerto_Rico  \n",
       "3  72093|72153|72121      False     False  America/Puerto_Rico  \n",
       "4        72011|72003      False     False  America/Puerto_Rico  "
      ]
     },
     "execution_count": 35,
     "metadata": {},
     "output_type": "execute_result"
    }
   ],
   "source": [
    "zips.head()"
   ]
  },
  {
   "cell_type": "code",
   "execution_count": 36,
   "metadata": {},
   "outputs": [],
   "source": [
    "zips = zips[['zip', 'population', 'density', 'city', 'state_id', 'state_name', 'lat', 'lng']]"
   ]
  },
  {
   "cell_type": "code",
   "execution_count": 37,
   "metadata": {},
   "outputs": [
    {
     "data": {
      "text/plain": [
       "zip           0\n",
       "population    0\n",
       "density       0\n",
       "city          0\n",
       "state_id      0\n",
       "state_name    0\n",
       "lat           0\n",
       "lng           0\n",
       "dtype: int64"
      ]
     },
     "execution_count": 37,
     "metadata": {},
     "output_type": "execute_result"
    }
   ],
   "source": [
    "zips.isnull().sum()"
   ]
  },
  {
   "cell_type": "code",
   "execution_count": 38,
   "metadata": {},
   "outputs": [],
   "source": [
    "inc = pd.merge(inc, zips, left_on = 'ZCTA', right_on = 'zip')"
   ]
  },
  {
   "cell_type": "code",
   "execution_count": 39,
   "metadata": {},
   "outputs": [],
   "source": [
    "inc.drop(columns = 'zip', inplace = True)"
   ]
  },
  {
   "cell_type": "code",
   "execution_count": 40,
   "metadata": {},
   "outputs": [
    {
     "data": {
      "text/html": [
       "<div>\n",
       "<style scoped>\n",
       "    .dataframe tbody tr th:only-of-type {\n",
       "        vertical-align: middle;\n",
       "    }\n",
       "\n",
       "    .dataframe tbody tr th {\n",
       "        vertical-align: top;\n",
       "    }\n",
       "\n",
       "    .dataframe thead th {\n",
       "        text-align: right;\n",
       "    }\n",
       "</style>\n",
       "<table border=\"1\" class=\"dataframe\">\n",
       "  <thead>\n",
       "    <tr style=\"text-align: right;\">\n",
       "      <th></th>\n",
       "      <th>ZCTA</th>\n",
       "      <th>n_households</th>\n",
       "      <th>med_income</th>\n",
       "      <th>population</th>\n",
       "      <th>density</th>\n",
       "      <th>city</th>\n",
       "      <th>state_id</th>\n",
       "      <th>state_name</th>\n",
       "      <th>lat</th>\n",
       "      <th>lng</th>\n",
       "    </tr>\n",
       "  </thead>\n",
       "  <tbody>\n",
       "    <tr>\n",
       "      <th>0</th>\n",
       "      <td>601</td>\n",
       "      <td>5818</td>\n",
       "      <td>11757</td>\n",
       "      <td>17242</td>\n",
       "      <td>111.4</td>\n",
       "      <td>Adjuntas</td>\n",
       "      <td>PR</td>\n",
       "      <td>Puerto Rico</td>\n",
       "      <td>18.18004</td>\n",
       "      <td>-66.75218</td>\n",
       "    </tr>\n",
       "    <tr>\n",
       "      <th>1</th>\n",
       "      <td>602</td>\n",
       "      <td>12719</td>\n",
       "      <td>16190</td>\n",
       "      <td>38442</td>\n",
       "      <td>523.5</td>\n",
       "      <td>Aguada</td>\n",
       "      <td>PR</td>\n",
       "      <td>Puerto Rico</td>\n",
       "      <td>18.36073</td>\n",
       "      <td>-67.17517</td>\n",
       "    </tr>\n",
       "    <tr>\n",
       "      <th>2</th>\n",
       "      <td>603</td>\n",
       "      <td>19009</td>\n",
       "      <td>16645</td>\n",
       "      <td>48814</td>\n",
       "      <td>667.9</td>\n",
       "      <td>Aguadilla</td>\n",
       "      <td>PR</td>\n",
       "      <td>Puerto Rico</td>\n",
       "      <td>18.45439</td>\n",
       "      <td>-67.12202</td>\n",
       "    </tr>\n",
       "    <tr>\n",
       "      <th>3</th>\n",
       "      <td>606</td>\n",
       "      <td>1959</td>\n",
       "      <td>13387</td>\n",
       "      <td>6437</td>\n",
       "      <td>60.4</td>\n",
       "      <td>Maricao</td>\n",
       "      <td>PR</td>\n",
       "      <td>Puerto Rico</td>\n",
       "      <td>18.16724</td>\n",
       "      <td>-66.93828</td>\n",
       "    </tr>\n",
       "    <tr>\n",
       "      <th>4</th>\n",
       "      <td>610</td>\n",
       "      <td>9120</td>\n",
       "      <td>18741</td>\n",
       "      <td>27073</td>\n",
       "      <td>312.0</td>\n",
       "      <td>Anasco</td>\n",
       "      <td>PR</td>\n",
       "      <td>Puerto Rico</td>\n",
       "      <td>18.29032</td>\n",
       "      <td>-67.12243</td>\n",
       "    </tr>\n",
       "  </tbody>\n",
       "</table>\n",
       "</div>"
      ],
      "text/plain": [
       "   ZCTA  n_households  med_income  population  density       city state_id  \\\n",
       "0   601          5818       11757       17242    111.4   Adjuntas       PR   \n",
       "1   602         12719       16190       38442    523.5     Aguada       PR   \n",
       "2   603         19009       16645       48814    667.9  Aguadilla       PR   \n",
       "3   606          1959       13387        6437     60.4    Maricao       PR   \n",
       "4   610          9120       18741       27073    312.0     Anasco       PR   \n",
       "\n",
       "    state_name       lat       lng  \n",
       "0  Puerto Rico  18.18004 -66.75218  \n",
       "1  Puerto Rico  18.36073 -67.17517  \n",
       "2  Puerto Rico  18.45439 -67.12202  \n",
       "3  Puerto Rico  18.16724 -66.93828  \n",
       "4  Puerto Rico  18.29032 -67.12243  "
      ]
     },
     "execution_count": 40,
     "metadata": {},
     "output_type": "execute_result"
    }
   ],
   "source": [
    "inc.head()"
   ]
  },
  {
   "cell_type": "code",
   "execution_count": 41,
   "metadata": {},
   "outputs": [
    {
     "data": {
      "text/plain": [
       "(33099, 10)"
      ]
     },
     "execution_count": 41,
     "metadata": {},
     "output_type": "execute_result"
    }
   ],
   "source": [
    "inc.shape"
   ]
  },
  {
   "cell_type": "code",
   "execution_count": 42,
   "metadata": {},
   "outputs": [],
   "source": [
    "inc['townstate'] = inc['city'] + ', ' + inc['state_name']"
   ]
  },
  {
   "cell_type": "code",
   "execution_count": 43,
   "metadata": {},
   "outputs": [],
   "source": [
    "inc = pd.merge(pov, inc, left_on = 'townstate', right_on = 'townstate')"
   ]
  },
  {
   "cell_type": "code",
   "execution_count": 44,
   "metadata": {},
   "outputs": [
    {
     "data": {
      "text/html": [
       "<div>\n",
       "<style scoped>\n",
       "    .dataframe tbody tr th:only-of-type {\n",
       "        vertical-align: middle;\n",
       "    }\n",
       "\n",
       "    .dataframe tbody tr th {\n",
       "        vertical-align: top;\n",
       "    }\n",
       "\n",
       "    .dataframe thead th {\n",
       "        text-align: right;\n",
       "    }\n",
       "</style>\n",
       "<table border=\"1\" class=\"dataframe\">\n",
       "  <thead>\n",
       "    <tr style=\"text-align: right;\">\n",
       "      <th></th>\n",
       "      <th>state</th>\n",
       "      <th>town</th>\n",
       "      <th>poverty</th>\n",
       "      <th>hs_completion</th>\n",
       "      <th>townstate</th>\n",
       "      <th>ZCTA</th>\n",
       "      <th>n_households</th>\n",
       "      <th>med_income</th>\n",
       "      <th>population</th>\n",
       "      <th>density</th>\n",
       "      <th>city</th>\n",
       "      <th>state_id</th>\n",
       "      <th>state_name</th>\n",
       "      <th>lat</th>\n",
       "      <th>lng</th>\n",
       "    </tr>\n",
       "  </thead>\n",
       "  <tbody>\n",
       "    <tr>\n",
       "      <th>0</th>\n",
       "      <td>Alabama</td>\n",
       "      <td>Abbeville</td>\n",
       "      <td>20.7</td>\n",
       "      <td>79.1</td>\n",
       "      <td>Abbeville, Alabama</td>\n",
       "      <td>36310</td>\n",
       "      <td>2555</td>\n",
       "      <td>40186</td>\n",
       "      <td>6055</td>\n",
       "      <td>12.2</td>\n",
       "      <td>Abbeville</td>\n",
       "      <td>AL</td>\n",
       "      <td>Alabama</td>\n",
       "      <td>31.60296</td>\n",
       "      <td>-85.21630</td>\n",
       "    </tr>\n",
       "    <tr>\n",
       "      <th>1</th>\n",
       "      <td>Alabama</td>\n",
       "      <td>Adamsville</td>\n",
       "      <td>16</td>\n",
       "      <td>83.5</td>\n",
       "      <td>Adamsville, Alabama</td>\n",
       "      <td>35005</td>\n",
       "      <td>2792</td>\n",
       "      <td>50271</td>\n",
       "      <td>7528</td>\n",
       "      <td>89.3</td>\n",
       "      <td>Adamsville</td>\n",
       "      <td>AL</td>\n",
       "      <td>Alabama</td>\n",
       "      <td>33.59515</td>\n",
       "      <td>-87.00089</td>\n",
       "    </tr>\n",
       "    <tr>\n",
       "      <th>2</th>\n",
       "      <td>Alabama</td>\n",
       "      <td>Addison</td>\n",
       "      <td>34.2</td>\n",
       "      <td>85.1</td>\n",
       "      <td>Addison, Alabama</td>\n",
       "      <td>35540</td>\n",
       "      <td>1075</td>\n",
       "      <td>45074</td>\n",
       "      <td>2436</td>\n",
       "      <td>12.6</td>\n",
       "      <td>Addison</td>\n",
       "      <td>AL</td>\n",
       "      <td>Alabama</td>\n",
       "      <td>34.23388</td>\n",
       "      <td>-87.18817</td>\n",
       "    </tr>\n",
       "    <tr>\n",
       "      <th>3</th>\n",
       "      <td>Alabama</td>\n",
       "      <td>Akron</td>\n",
       "      <td>48.7</td>\n",
       "      <td>62.8</td>\n",
       "      <td>Akron, Alabama</td>\n",
       "      <td>35441</td>\n",
       "      <td>372</td>\n",
       "      <td>36731</td>\n",
       "      <td>1089</td>\n",
       "      <td>6.1</td>\n",
       "      <td>Akron</td>\n",
       "      <td>AL</td>\n",
       "      <td>Alabama</td>\n",
       "      <td>32.85374</td>\n",
       "      <td>-87.73861</td>\n",
       "    </tr>\n",
       "    <tr>\n",
       "      <th>4</th>\n",
       "      <td>Alabama</td>\n",
       "      <td>Alabaster</td>\n",
       "      <td>11.1</td>\n",
       "      <td>88.8</td>\n",
       "      <td>Alabaster, Alabama</td>\n",
       "      <td>35007</td>\n",
       "      <td>8628</td>\n",
       "      <td>69691</td>\n",
       "      <td>26328</td>\n",
       "      <td>270.8</td>\n",
       "      <td>Alabaster</td>\n",
       "      <td>AL</td>\n",
       "      <td>Alabama</td>\n",
       "      <td>33.21591</td>\n",
       "      <td>-86.79717</td>\n",
       "    </tr>\n",
       "  </tbody>\n",
       "</table>\n",
       "</div>"
      ],
      "text/plain": [
       "     state        town poverty hs_completion            townstate   ZCTA  \\\n",
       "0  Alabama   Abbeville    20.7          79.1   Abbeville, Alabama  36310   \n",
       "1  Alabama  Adamsville      16          83.5  Adamsville, Alabama  35005   \n",
       "2  Alabama     Addison    34.2          85.1     Addison, Alabama  35540   \n",
       "3  Alabama       Akron    48.7          62.8       Akron, Alabama  35441   \n",
       "4  Alabama   Alabaster    11.1          88.8   Alabaster, Alabama  35007   \n",
       "\n",
       "   n_households  med_income  population  density        city state_id  \\\n",
       "0          2555       40186        6055     12.2   Abbeville       AL   \n",
       "1          2792       50271        7528     89.3  Adamsville       AL   \n",
       "2          1075       45074        2436     12.6     Addison       AL   \n",
       "3           372       36731        1089      6.1       Akron       AL   \n",
       "4          8628       69691       26328    270.8   Alabaster       AL   \n",
       "\n",
       "  state_name       lat       lng  \n",
       "0    Alabama  31.60296 -85.21630  \n",
       "1    Alabama  33.59515 -87.00089  \n",
       "2    Alabama  34.23388 -87.18817  \n",
       "3    Alabama  32.85374 -87.73861  \n",
       "4    Alabama  33.21591 -86.79717  "
      ]
     },
     "execution_count": 44,
     "metadata": {},
     "output_type": "execute_result"
    }
   ],
   "source": [
    "inc.head()"
   ]
  },
  {
   "cell_type": "code",
   "execution_count": 45,
   "metadata": {},
   "outputs": [
    {
     "data": {
      "text/plain": [
       "(21167, 15)"
      ]
     },
     "execution_count": 45,
     "metadata": {},
     "output_type": "execute_result"
    }
   ],
   "source": [
    "inc.shape"
   ]
  },
  {
   "cell_type": "markdown",
   "metadata": {},
   "source": [
    "## Scrape crime data"
   ]
  },
  {
   "cell_type": "code",
   "execution_count": 7,
   "metadata": {},
   "outputs": [],
   "source": [
    "inc = pd.read_pickle('./pkl/inc2.pkl')"
   ]
  },
  {
   "cell_type": "code",
   "execution_count": 8,
   "metadata": {},
   "outputs": [
    {
     "data": {
      "text/html": [
       "<div>\n",
       "<style scoped>\n",
       "    .dataframe tbody tr th:only-of-type {\n",
       "        vertical-align: middle;\n",
       "    }\n",
       "\n",
       "    .dataframe tbody tr th {\n",
       "        vertical-align: top;\n",
       "    }\n",
       "\n",
       "    .dataframe thead th {\n",
       "        text-align: right;\n",
       "    }\n",
       "</style>\n",
       "<table border=\"1\" class=\"dataframe\">\n",
       "  <thead>\n",
       "    <tr style=\"text-align: right;\">\n",
       "      <th></th>\n",
       "      <th>Unnamed: 0</th>\n",
       "      <th>Unnamed: 0.1</th>\n",
       "      <th>state</th>\n",
       "      <th>town</th>\n",
       "      <th>poverty</th>\n",
       "      <th>hs_completion</th>\n",
       "      <th>townstate</th>\n",
       "      <th>ZCTA</th>\n",
       "      <th>n_households</th>\n",
       "      <th>med_income</th>\n",
       "      <th>...</th>\n",
       "      <th>density</th>\n",
       "      <th>city</th>\n",
       "      <th>state_id</th>\n",
       "      <th>state_name</th>\n",
       "      <th>lat</th>\n",
       "      <th>lng</th>\n",
       "      <th>crime_rate</th>\n",
       "      <th>students_per_teacher</th>\n",
       "      <th>property_crime</th>\n",
       "      <th>violent_crime</th>\n",
       "    </tr>\n",
       "  </thead>\n",
       "  <tbody>\n",
       "    <tr>\n",
       "      <th>0</th>\n",
       "      <td>0</td>\n",
       "      <td>0</td>\n",
       "      <td>Alabama</td>\n",
       "      <td>Abbeville</td>\n",
       "      <td>20.7</td>\n",
       "      <td>79.1</td>\n",
       "      <td>Abbeville, Alabama</td>\n",
       "      <td>36310</td>\n",
       "      <td>2555</td>\n",
       "      <td>40186</td>\n",
       "      <td>...</td>\n",
       "      <td>12.2</td>\n",
       "      <td>Abbeville</td>\n",
       "      <td>AL</td>\n",
       "      <td>Alabama</td>\n",
       "      <td>31.60296</td>\n",
       "      <td>-85.21630</td>\n",
       "      <td>62.0</td>\n",
       "      <td>13.000000</td>\n",
       "      <td>51.0</td>\n",
       "      <td>11.0</td>\n",
       "    </tr>\n",
       "    <tr>\n",
       "      <th>1</th>\n",
       "      <td>1</td>\n",
       "      <td>1</td>\n",
       "      <td>Alabama</td>\n",
       "      <td>Adamsville</td>\n",
       "      <td>16</td>\n",
       "      <td>83.5</td>\n",
       "      <td>Adamsville, Alabama</td>\n",
       "      <td>35005</td>\n",
       "      <td>2792</td>\n",
       "      <td>50271</td>\n",
       "      <td>...</td>\n",
       "      <td>89.3</td>\n",
       "      <td>Adamsville</td>\n",
       "      <td>AL</td>\n",
       "      <td>Alabama</td>\n",
       "      <td>33.59515</td>\n",
       "      <td>-87.00089</td>\n",
       "      <td>269.0</td>\n",
       "      <td>17.666667</td>\n",
       "      <td>250.0</td>\n",
       "      <td>19.0</td>\n",
       "    </tr>\n",
       "    <tr>\n",
       "      <th>2</th>\n",
       "      <td>2</td>\n",
       "      <td>2</td>\n",
       "      <td>Alabama</td>\n",
       "      <td>Addison</td>\n",
       "      <td>34.2</td>\n",
       "      <td>85.1</td>\n",
       "      <td>Addison, Alabama</td>\n",
       "      <td>35540</td>\n",
       "      <td>1075</td>\n",
       "      <td>45074</td>\n",
       "      <td>...</td>\n",
       "      <td>12.6</td>\n",
       "      <td>Addison</td>\n",
       "      <td>AL</td>\n",
       "      <td>Alabama</td>\n",
       "      <td>34.23388</td>\n",
       "      <td>-87.18817</td>\n",
       "      <td>15.0</td>\n",
       "      <td>15.500000</td>\n",
       "      <td>14.0</td>\n",
       "      <td>1.0</td>\n",
       "    </tr>\n",
       "    <tr>\n",
       "      <th>3</th>\n",
       "      <td>3</td>\n",
       "      <td>3</td>\n",
       "      <td>Alabama</td>\n",
       "      <td>Akron</td>\n",
       "      <td>48.7</td>\n",
       "      <td>62.8</td>\n",
       "      <td>Akron, Alabama</td>\n",
       "      <td>35441</td>\n",
       "      <td>372</td>\n",
       "      <td>36731</td>\n",
       "      <td>...</td>\n",
       "      <td>6.1</td>\n",
       "      <td>Akron</td>\n",
       "      <td>AL</td>\n",
       "      <td>Alabama</td>\n",
       "      <td>32.85374</td>\n",
       "      <td>-87.73861</td>\n",
       "      <td>NaN</td>\n",
       "      <td>NaN</td>\n",
       "      <td>NaN</td>\n",
       "      <td>NaN</td>\n",
       "    </tr>\n",
       "    <tr>\n",
       "      <th>4</th>\n",
       "      <td>4</td>\n",
       "      <td>4</td>\n",
       "      <td>Alabama</td>\n",
       "      <td>Alabaster</td>\n",
       "      <td>11.1</td>\n",
       "      <td>88.8</td>\n",
       "      <td>Alabaster, Alabama</td>\n",
       "      <td>35007</td>\n",
       "      <td>8628</td>\n",
       "      <td>69691</td>\n",
       "      <td>...</td>\n",
       "      <td>270.8</td>\n",
       "      <td>Alabaster</td>\n",
       "      <td>AL</td>\n",
       "      <td>Alabama</td>\n",
       "      <td>33.21591</td>\n",
       "      <td>-86.79717</td>\n",
       "      <td>585.0</td>\n",
       "      <td>18.571429</td>\n",
       "      <td>488.0</td>\n",
       "      <td>97.0</td>\n",
       "    </tr>\n",
       "  </tbody>\n",
       "</table>\n",
       "<p>5 rows × 21 columns</p>\n",
       "</div>"
      ],
      "text/plain": [
       "   Unnamed: 0  Unnamed: 0.1    state        town poverty hs_completion  \\\n",
       "0           0             0  Alabama   Abbeville    20.7          79.1   \n",
       "1           1             1  Alabama  Adamsville      16          83.5   \n",
       "2           2             2  Alabama     Addison    34.2          85.1   \n",
       "3           3             3  Alabama       Akron    48.7          62.8   \n",
       "4           4             4  Alabama   Alabaster    11.1          88.8   \n",
       "\n",
       "             townstate   ZCTA  n_households  med_income  ...  density  \\\n",
       "0   Abbeville, Alabama  36310          2555       40186  ...     12.2   \n",
       "1  Adamsville, Alabama  35005          2792       50271  ...     89.3   \n",
       "2     Addison, Alabama  35540          1075       45074  ...     12.6   \n",
       "3       Akron, Alabama  35441           372       36731  ...      6.1   \n",
       "4   Alabaster, Alabama  35007          8628       69691  ...    270.8   \n",
       "\n",
       "         city state_id state_name       lat       lng  crime_rate  \\\n",
       "0   Abbeville       AL    Alabama  31.60296 -85.21630        62.0   \n",
       "1  Adamsville       AL    Alabama  33.59515 -87.00089       269.0   \n",
       "2     Addison       AL    Alabama  34.23388 -87.18817        15.0   \n",
       "3       Akron       AL    Alabama  32.85374 -87.73861         NaN   \n",
       "4   Alabaster       AL    Alabama  33.21591 -86.79717       585.0   \n",
       "\n",
       "   students_per_teacher  property_crime  violent_crime  \n",
       "0             13.000000            51.0           11.0  \n",
       "1             17.666667           250.0           19.0  \n",
       "2             15.500000            14.0            1.0  \n",
       "3                   NaN             NaN            NaN  \n",
       "4             18.571429           488.0           97.0  \n",
       "\n",
       "[5 rows x 21 columns]"
      ]
     },
     "execution_count": 8,
     "metadata": {},
     "output_type": "execute_result"
    }
   ],
   "source": [
    "inc.head()"
   ]
  },
  {
   "cell_type": "code",
   "execution_count": 9,
   "metadata": {},
   "outputs": [
    {
     "data": {
      "text/plain": [
       "(21167, 21)"
      ]
     },
     "execution_count": 9,
     "metadata": {},
     "output_type": "execute_result"
    }
   ],
   "source": [
    "inc.shape"
   ]
  },
  {
   "cell_type": "code",
   "execution_count": 22,
   "metadata": {},
   "outputs": [],
   "source": [
    "# get unique states\n",
    "states = []\n",
    "for i in range(inc.shape[0]):\n",
    "    states.append(inc.loc[i, 'state'])\n",
    "states = list(set(states))"
   ]
  },
  {
   "cell_type": "code",
   "execution_count": 28,
   "metadata": {},
   "outputs": [],
   "source": [
    "# Not used currently.\n",
    "crime_types = [\n",
    "    'Aggravated Assault',\n",
    "    'Arson',\n",
    "    'Burglary',\n",
    "    'Larceny and Theft',\n",
    "    'Motor Vehicle Theft',\n",
    "    'Murder and Manslaughter',\n",
    "    'Rape',\n",
    "    'Robbery',\n",
    "    'Crime Rate (Total Incidents)',\n",
    "    'Property Crime',\n",
    "    'Violent Crime'\n",
    "]"
   ]
  },
  {
   "cell_type": "code",
   "execution_count": 23,
   "metadata": {},
   "outputs": [],
   "source": [
    "def get_crime_rate(state, town):\n",
    "    state = state.replace(' ', '-')\n",
    "    town = town.replace(' ', '-')\n",
    "    try:\n",
    "        url = f'https://www.cityrating.com/crime-statistics/{state}/{town}.html'\n",
    "        res = requests.get(url)\n",
    "        soup = BeautifulSoup(res.content, 'lxml')\n",
    "        property_crime = int(soup.find_all('td', text = 'Property Crime')[0].find_next_sibling('td').text)\n",
    "        violent_crime = int(soup.find_all('td', text = 'Violent Crime')[0].find_next_sibling('td').text)\n",
    "        return property_crime, violent_crime\n",
    "    except:\n",
    "        return np.nan, np.nan"
   ]
  },
  {
   "cell_type": "code",
   "execution_count": 30,
   "metadata": {},
   "outputs": [],
   "source": [
    "#inc['crime_rate'] = 0"
   ]
  },
  {
   "cell_type": "code",
   "execution_count": 24,
   "metadata": {},
   "outputs": [],
   "source": [
    "#town_crime_rates = {}\n",
    "#output_name = \"/Users/elijahcurme/Desktop/GA/capstone/pkl/town_crime_rates.pkl\"\n",
    "done_states = [\n",
    "    'Idaho',\n",
    "    'Hawaii',\n",
    "    'Florida',\n",
    "    'Washington',\n",
    "    'Georgia',\n",
    "    'Maryland',\n",
    "    'Pennsylvania',\n",
    "    'Virginia',\n",
    "    'Iowa',\n",
    "    'Alaska',\n",
    "    'Louisiana',\n",
    "    'Alabama',\n",
    "    'New Jersey',\n",
    "    'South Carolina',\n",
    "    'Illinois',\n",
    "    'Massachusetts',\n",
    "    'Utah',\n",
    "    'Kentucky',\n",
    "    'Tennessee',\n",
    "    'New Hampshire',\n",
    "    'New Mexico',\n",
    "    'Indiana',\n",
    "    'Missouri',\n",
    "    'South Dakota',\n",
    "    'West Virginia',\n",
    "    'California',\n",
    "    'Ohio',\n",
    "    'Nebraska',\n",
    "    'Oklahoma',\n",
    "    'Minnesota',\n",
    "    'Rhode Island',\n",
    "    'Delaware',\n",
    "    'Mississippi',\n",
    "    'Kansas',\n",
    "    'Michigan',\n",
    "    'Texas',\n",
    "    'Wyoming',\n",
    "    'Connecticut',\n",
    "    'Arizona',\n",
    "    'North Dakota',\n",
    "    'District of Columbia',\n",
    "    'North Carolina',\n",
    "    'Maine',\n",
    "    'Montana',\n",
    "    'Colorado',\n",
    "    'Wisconsin',\n",
    "    'Oregon',\n",
    "    'Vermont',\n",
    "    'Arkansas',\n",
    "    'Nevada',\n",
    "    'New York'\n",
    "]"
   ]
  },
  {
   "cell_type": "code",
   "execution_count": 25,
   "metadata": {
    "scrolled": false
   },
   "outputs": [
    {
     "name": "stdout",
     "output_type": "stream",
     "text": [
      "Oregon finished\n",
      "Vermont finished\n",
      "Arkansas finished\n",
      "Nevada finished\n",
      "New York finished\n"
     ]
    }
   ],
   "source": [
    "# Loop through each town in each state to scrape crime data\n",
    "for state in states:\n",
    "    if state not in done_states:\n",
    "        towns = list(set(inc.loc[inc['state'] == state, 'town']))\n",
    "        for town in towns:\n",
    "            #town_crime_rates[(state, town)] = get_crime_rate(state, town)            \n",
    "            #inc.loc[(inc['state'] == state) & (inc['town'] == town), 'crime_rate'] = get_crime_rate(state, town)\n",
    "            inc.loc[(inc['state'] == state) & (inc['town'] == town), 'property_crime'] = get_crime_rate(state, town)[0]\n",
    "            inc.loc[(inc['state'] == state) & (inc['town'] == town), 'violent_crime'] = get_crime_rate(state, town)[1]\n",
    "            pd.to_pickle(inc, '/Users/elijahcurme/Desktop/GA/capstone/pkl/inc2.pkl')\n",
    "        done_states.append(state)\n",
    "        print(f\"{state} finished\")"
   ]
  },
  {
   "cell_type": "code",
   "execution_count": 31,
   "metadata": {},
   "outputs": [],
   "source": [
    "inc.to_csv('./data/inc.csv')"
   ]
  },
  {
   "cell_type": "code",
   "execution_count": 43,
   "metadata": {},
   "outputs": [],
   "source": [
    "#test_inc = pd.read_pickle('/Users/elijahcurme/Desktop/GA/capstone/pkl/inc.pkl')"
   ]
  },
  {
   "cell_type": "code",
   "execution_count": null,
   "metadata": {},
   "outputs": [],
   "source": [
    "# with open(output_name, \"rb\") as f:\n",
    "#     town_crime_rates = pickle.load(f)"
   ]
  },
  {
   "cell_type": "code",
   "execution_count": null,
   "metadata": {},
   "outputs": [],
   "source": [
    "# state_towns = town_crime_rates.keys()\n",
    "# for state, town in state_towns:\n",
    "#     inc.loc[(inc['state'] == state) & (inc['town'] == town), 'crime_rate'] = town_crime_rates[(state, town)]"
   ]
  },
  {
   "cell_type": "markdown",
   "metadata": {},
   "source": [
    "```python\n",
    "new_dict = {}\n",
    "for state in states:\n",
    "    new_dict[state] = {}\n",
    "\n",
    "for state, town in town_crime_rates.keys():\n",
    "    new_dict[state][town] = town_crime_rates[(state, town)]\n",
    "```"
   ]
  },
  {
   "cell_type": "markdown",
   "metadata": {},
   "source": [
    "```python\n",
    "done_states = list(set([state, _ for state, town in town_crime_rates.keys()]))\n",
    "```"
   ]
  }
 ],
 "metadata": {
  "kernelspec": {
   "display_name": "Python [conda env:root] *",
   "language": "python",
   "name": "conda-root-py"
  },
  "language_info": {
   "codemirror_mode": {
    "name": "ipython",
    "version": 3
   },
   "file_extension": ".py",
   "mimetype": "text/x-python",
   "name": "python",
   "nbconvert_exporter": "python",
   "pygments_lexer": "ipython3",
   "version": "3.7.4"
  }
 },
 "nbformat": 4,
 "nbformat_minor": 2
}
