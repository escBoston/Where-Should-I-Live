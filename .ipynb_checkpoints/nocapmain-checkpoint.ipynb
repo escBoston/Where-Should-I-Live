{
 "cells": [
  {
   "cell_type": "markdown",
   "metadata": {},
   "source": [
    "cost of living by town <br>\n",
    "https://www.cityrating.com/costofliving.asp <br> \n",
    "crime stats by town <br>\n",
    "https://www.cityrating.com/crime-statistics/ <br>\n",
    "income, education, age data by town <br>\n",
    "https://factfinder.census.gov/faces/nav/jsf/pages/community_facts.xhtml"
   ]
  },
  {
   "cell_type": "code",
   "execution_count": 63,
   "metadata": {},
   "outputs": [],
   "source": [
    "import pandas as pd\n",
    "import numpy as np\n",
    "import matplotlib.pyplot as plt\n",
    "\n",
    "from sklearn.preprocessing import StandardScaler\n",
    "from sklearn.linear_model import LinearRegression\n",
    "from sklearn.model_selection import train_test_split\n",
    "\n",
    "import requests\n",
    "from bs4 import BeautifulSoup\n",
    "\n",
    "import pickle\n",
    "import time"
   ]
  },
  {
   "cell_type": "code",
   "execution_count": 2,
   "metadata": {},
   "outputs": [],
   "source": [
    "inc = pd.read_csv('./data/income_data_copy.csv')"
   ]
  },
  {
   "cell_type": "code",
   "execution_count": 3,
   "metadata": {},
   "outputs": [],
   "source": [
    "inc.drop(columns = ['Unnamed: 0'], inplace = True)"
   ]
  },
  {
   "cell_type": "markdown",
   "metadata": {},
   "source": [
    "### Clean poverty stats"
   ]
  },
  {
   "cell_type": "code",
   "execution_count": 4,
   "metadata": {},
   "outputs": [],
   "source": [
    "pov = pd.read_csv('./data/poverty_rates.csv', encoding = 'ISO-8859-1')"
   ]
  },
  {
   "cell_type": "code",
   "execution_count": 5,
   "metadata": {},
   "outputs": [],
   "source": [
    "pov.columns = ['state', 'town', 'poverty']"
   ]
  },
  {
   "cell_type": "code",
   "execution_count": 6,
   "metadata": {},
   "outputs": [],
   "source": [
    "pov.drop([0,1], inplace = True)\n",
    "pov.reset_index(drop = True, inplace = True)"
   ]
  },
  {
   "cell_type": "code",
   "execution_count": 7,
   "metadata": {},
   "outputs": [],
   "source": [
    "# Only for Puerto Rico\n",
    "for i in range(pov.shape[0]):\n",
    "    flip = pov.loc[i, 'state']\n",
    "    if '-' not in flip:\n",
    "        pov.loc[i, 'state'] = f\"-{flip}\""
   ]
  },
  {
   "cell_type": "code",
   "execution_count": 8,
   "metadata": {},
   "outputs": [],
   "source": [
    "pov['state'] = pov['state'].apply(lambda x: x.split('-')[1].strip())"
   ]
  },
  {
   "cell_type": "code",
   "execution_count": 9,
   "metadata": {},
   "outputs": [],
   "source": [
    "def clean_towns(town):\n",
    "    if town[-4:] == ' CDP':\n",
    "        return town[:-4]\n",
    "    elif town[-5:] == ' town':\n",
    "        return town[:-5]\n",
    "    elif town[-5:] == ' city':\n",
    "        return town[:-5]"
   ]
  },
  {
   "cell_type": "code",
   "execution_count": 10,
   "metadata": {},
   "outputs": [],
   "source": [
    "pov['town'] = pov['town'].apply(clean_towns)"
   ]
  },
  {
   "cell_type": "code",
   "execution_count": 11,
   "metadata": {},
   "outputs": [
    {
     "data": {
      "text/html": [
       "<div>\n",
       "<style scoped>\n",
       "    .dataframe tbody tr th:only-of-type {\n",
       "        vertical-align: middle;\n",
       "    }\n",
       "\n",
       "    .dataframe tbody tr th {\n",
       "        vertical-align: top;\n",
       "    }\n",
       "\n",
       "    .dataframe thead th {\n",
       "        text-align: right;\n",
       "    }\n",
       "</style>\n",
       "<table border=\"1\" class=\"dataframe\">\n",
       "  <thead>\n",
       "    <tr style=\"text-align: right;\">\n",
       "      <th></th>\n",
       "      <th>state</th>\n",
       "      <th>town</th>\n",
       "      <th>poverty</th>\n",
       "    </tr>\n",
       "  </thead>\n",
       "  <tbody>\n",
       "    <tr>\n",
       "      <th>0</th>\n",
       "      <td>Alabama</td>\n",
       "      <td>None</td>\n",
       "      <td>18</td>\n",
       "    </tr>\n",
       "    <tr>\n",
       "      <th>1</th>\n",
       "      <td>Alabama</td>\n",
       "      <td>Abanda</td>\n",
       "      <td>25.9</td>\n",
       "    </tr>\n",
       "    <tr>\n",
       "      <th>2</th>\n",
       "      <td>Alabama</td>\n",
       "      <td>Abbeville</td>\n",
       "      <td>20.7</td>\n",
       "    </tr>\n",
       "    <tr>\n",
       "      <th>3</th>\n",
       "      <td>Alabama</td>\n",
       "      <td>Adamsville</td>\n",
       "      <td>16</td>\n",
       "    </tr>\n",
       "    <tr>\n",
       "      <th>4</th>\n",
       "      <td>Alabama</td>\n",
       "      <td>Addison</td>\n",
       "      <td>34.2</td>\n",
       "    </tr>\n",
       "  </tbody>\n",
       "</table>\n",
       "</div>"
      ],
      "text/plain": [
       "     state        town poverty\n",
       "0  Alabama        None      18\n",
       "1  Alabama      Abanda    25.9\n",
       "2  Alabama   Abbeville    20.7\n",
       "3  Alabama  Adamsville      16\n",
       "4  Alabama     Addison    34.2"
      ]
     },
     "execution_count": 11,
     "metadata": {},
     "output_type": "execute_result"
    }
   ],
   "source": [
    "pov.head()"
   ]
  },
  {
   "cell_type": "markdown",
   "metadata": {},
   "source": [
    "### Merge HS completion stats"
   ]
  },
  {
   "cell_type": "code",
   "execution_count": 12,
   "metadata": {},
   "outputs": [],
   "source": [
    "hs = pd.read_csv('./data/hs_completion.csv', encoding = 'ISO-8859-1')"
   ]
  },
  {
   "cell_type": "code",
   "execution_count": 13,
   "metadata": {},
   "outputs": [],
   "source": [
    "hs = hs[['GCT_STUB.display-label', 'GCT_STUB.display-label.1', 'HC01']]"
   ]
  },
  {
   "cell_type": "code",
   "execution_count": 14,
   "metadata": {},
   "outputs": [],
   "source": [
    "hs.columns = ['state', 'town', 'hs_completion']"
   ]
  },
  {
   "cell_type": "code",
   "execution_count": 15,
   "metadata": {},
   "outputs": [],
   "source": [
    "hs.drop([0,1], inplace = True)\n",
    "hs.reset_index(drop = True, inplace = True)"
   ]
  },
  {
   "cell_type": "markdown",
   "metadata": {},
   "source": [
    "hs national average: 87.3 <br>\n",
    "poverty national average: 14.6"
   ]
  },
  {
   "cell_type": "code",
   "execution_count": 16,
   "metadata": {},
   "outputs": [
    {
     "data": {
      "text/plain": [
       "((29636, 3), (29636, 3))"
      ]
     },
     "execution_count": 16,
     "metadata": {},
     "output_type": "execute_result"
    }
   ],
   "source": [
    "pov.shape, hs.shape"
   ]
  },
  {
   "cell_type": "code",
   "execution_count": 17,
   "metadata": {},
   "outputs": [],
   "source": [
    "pov['hs_completion'] = hs['hs_completion']"
   ]
  },
  {
   "cell_type": "code",
   "execution_count": 18,
   "metadata": {},
   "outputs": [],
   "source": [
    "# Both town and state have to match with income data\n",
    "pov['townstate'] = pov['town'] + ', ' + pov['state']"
   ]
  },
  {
   "cell_type": "code",
   "execution_count": 19,
   "metadata": {},
   "outputs": [
    {
     "data": {
      "text/html": [
       "<div>\n",
       "<style scoped>\n",
       "    .dataframe tbody tr th:only-of-type {\n",
       "        vertical-align: middle;\n",
       "    }\n",
       "\n",
       "    .dataframe tbody tr th {\n",
       "        vertical-align: top;\n",
       "    }\n",
       "\n",
       "    .dataframe thead th {\n",
       "        text-align: right;\n",
       "    }\n",
       "</style>\n",
       "<table border=\"1\" class=\"dataframe\">\n",
       "  <thead>\n",
       "    <tr style=\"text-align: right;\">\n",
       "      <th></th>\n",
       "      <th>state</th>\n",
       "      <th>town</th>\n",
       "      <th>poverty</th>\n",
       "      <th>hs_completion</th>\n",
       "      <th>townstate</th>\n",
       "    </tr>\n",
       "  </thead>\n",
       "  <tbody>\n",
       "    <tr>\n",
       "      <th>0</th>\n",
       "      <td>Alabama</td>\n",
       "      <td>None</td>\n",
       "      <td>18</td>\n",
       "      <td>85.3</td>\n",
       "      <td>NaN</td>\n",
       "    </tr>\n",
       "    <tr>\n",
       "      <th>1</th>\n",
       "      <td>Alabama</td>\n",
       "      <td>Abanda</td>\n",
       "      <td>25.9</td>\n",
       "      <td>8.4</td>\n",
       "      <td>Abanda, Alabama</td>\n",
       "    </tr>\n",
       "    <tr>\n",
       "      <th>2</th>\n",
       "      <td>Alabama</td>\n",
       "      <td>Abbeville</td>\n",
       "      <td>20.7</td>\n",
       "      <td>79.1</td>\n",
       "      <td>Abbeville, Alabama</td>\n",
       "    </tr>\n",
       "    <tr>\n",
       "      <th>3</th>\n",
       "      <td>Alabama</td>\n",
       "      <td>Adamsville</td>\n",
       "      <td>16</td>\n",
       "      <td>83.5</td>\n",
       "      <td>Adamsville, Alabama</td>\n",
       "    </tr>\n",
       "    <tr>\n",
       "      <th>4</th>\n",
       "      <td>Alabama</td>\n",
       "      <td>Addison</td>\n",
       "      <td>34.2</td>\n",
       "      <td>85.1</td>\n",
       "      <td>Addison, Alabama</td>\n",
       "    </tr>\n",
       "  </tbody>\n",
       "</table>\n",
       "</div>"
      ],
      "text/plain": [
       "     state        town poverty hs_completion            townstate\n",
       "0  Alabama        None      18          85.3                  NaN\n",
       "1  Alabama      Abanda    25.9           8.4      Abanda, Alabama\n",
       "2  Alabama   Abbeville    20.7          79.1   Abbeville, Alabama\n",
       "3  Alabama  Adamsville      16          83.5  Adamsville, Alabama\n",
       "4  Alabama     Addison    34.2          85.1     Addison, Alabama"
      ]
     },
     "execution_count": 19,
     "metadata": {},
     "output_type": "execute_result"
    }
   ],
   "source": [
    "pov.head()"
   ]
  },
  {
   "cell_type": "markdown",
   "metadata": {},
   "source": [
    "### Merge poverty & education with income stats"
   ]
  },
  {
   "cell_type": "code",
   "execution_count": 20,
   "metadata": {},
   "outputs": [
    {
     "data": {
      "text/html": [
       "<div>\n",
       "<style scoped>\n",
       "    .dataframe tbody tr th:only-of-type {\n",
       "        vertical-align: middle;\n",
       "    }\n",
       "\n",
       "    .dataframe tbody tr th {\n",
       "        vertical-align: top;\n",
       "    }\n",
       "\n",
       "    .dataframe thead th {\n",
       "        text-align: right;\n",
       "    }\n",
       "</style>\n",
       "<table border=\"1\" class=\"dataframe\">\n",
       "  <thead>\n",
       "    <tr style=\"text-align: right;\">\n",
       "      <th></th>\n",
       "      <th>ZCTA</th>\n",
       "      <th>n_households</th>\n",
       "      <th>med_income</th>\n",
       "      <th>population</th>\n",
       "      <th>density</th>\n",
       "      <th>city</th>\n",
       "      <th>state_id</th>\n",
       "      <th>state_name</th>\n",
       "      <th>lat</th>\n",
       "      <th>lng</th>\n",
       "    </tr>\n",
       "  </thead>\n",
       "  <tbody>\n",
       "    <tr>\n",
       "      <th>0</th>\n",
       "      <td>601</td>\n",
       "      <td>5818</td>\n",
       "      <td>11757</td>\n",
       "      <td>17242</td>\n",
       "      <td>111.4</td>\n",
       "      <td>Adjuntas</td>\n",
       "      <td>PR</td>\n",
       "      <td>Puerto Rico</td>\n",
       "      <td>18.18004</td>\n",
       "      <td>-66.75218</td>\n",
       "    </tr>\n",
       "    <tr>\n",
       "      <th>1</th>\n",
       "      <td>602</td>\n",
       "      <td>12719</td>\n",
       "      <td>16190</td>\n",
       "      <td>38442</td>\n",
       "      <td>523.5</td>\n",
       "      <td>Aguada</td>\n",
       "      <td>PR</td>\n",
       "      <td>Puerto Rico</td>\n",
       "      <td>18.36073</td>\n",
       "      <td>-67.17517</td>\n",
       "    </tr>\n",
       "    <tr>\n",
       "      <th>2</th>\n",
       "      <td>603</td>\n",
       "      <td>19009</td>\n",
       "      <td>16645</td>\n",
       "      <td>48814</td>\n",
       "      <td>667.9</td>\n",
       "      <td>Aguadilla</td>\n",
       "      <td>PR</td>\n",
       "      <td>Puerto Rico</td>\n",
       "      <td>18.45439</td>\n",
       "      <td>-67.12202</td>\n",
       "    </tr>\n",
       "    <tr>\n",
       "      <th>3</th>\n",
       "      <td>606</td>\n",
       "      <td>1959</td>\n",
       "      <td>13387</td>\n",
       "      <td>6437</td>\n",
       "      <td>60.4</td>\n",
       "      <td>Maricao</td>\n",
       "      <td>PR</td>\n",
       "      <td>Puerto Rico</td>\n",
       "      <td>18.16724</td>\n",
       "      <td>-66.93828</td>\n",
       "    </tr>\n",
       "    <tr>\n",
       "      <th>4</th>\n",
       "      <td>610</td>\n",
       "      <td>9120</td>\n",
       "      <td>18741</td>\n",
       "      <td>27073</td>\n",
       "      <td>312.0</td>\n",
       "      <td>Anasco</td>\n",
       "      <td>PR</td>\n",
       "      <td>Puerto Rico</td>\n",
       "      <td>18.29032</td>\n",
       "      <td>-67.12243</td>\n",
       "    </tr>\n",
       "  </tbody>\n",
       "</table>\n",
       "</div>"
      ],
      "text/plain": [
       "   ZCTA  n_households  med_income  population  density       city state_id  \\\n",
       "0   601          5818       11757       17242    111.4   Adjuntas       PR   \n",
       "1   602         12719       16190       38442    523.5     Aguada       PR   \n",
       "2   603         19009       16645       48814    667.9  Aguadilla       PR   \n",
       "3   606          1959       13387        6437     60.4    Maricao       PR   \n",
       "4   610          9120       18741       27073    312.0     Anasco       PR   \n",
       "\n",
       "    state_name       lat       lng  \n",
       "0  Puerto Rico  18.18004 -66.75218  \n",
       "1  Puerto Rico  18.36073 -67.17517  \n",
       "2  Puerto Rico  18.45439 -67.12202  \n",
       "3  Puerto Rico  18.16724 -66.93828  \n",
       "4  Puerto Rico  18.29032 -67.12243  "
      ]
     },
     "execution_count": 20,
     "metadata": {},
     "output_type": "execute_result"
    }
   ],
   "source": [
    "inc.head()"
   ]
  },
  {
   "cell_type": "code",
   "execution_count": 21,
   "metadata": {},
   "outputs": [
    {
     "data": {
      "text/plain": [
       "(33099, 10)"
      ]
     },
     "execution_count": 21,
     "metadata": {},
     "output_type": "execute_result"
    }
   ],
   "source": [
    "inc.shape"
   ]
  },
  {
   "cell_type": "code",
   "execution_count": 22,
   "metadata": {},
   "outputs": [],
   "source": [
    "inc['townstate'] = inc['city'] + ', ' + inc['state_name']"
   ]
  },
  {
   "cell_type": "code",
   "execution_count": 23,
   "metadata": {},
   "outputs": [],
   "source": [
    "inc = pd.merge(pov, inc, left_on = 'townstate', right_on = 'townstate')"
   ]
  },
  {
   "cell_type": "code",
   "execution_count": 24,
   "metadata": {},
   "outputs": [
    {
     "data": {
      "text/html": [
       "<div>\n",
       "<style scoped>\n",
       "    .dataframe tbody tr th:only-of-type {\n",
       "        vertical-align: middle;\n",
       "    }\n",
       "\n",
       "    .dataframe tbody tr th {\n",
       "        vertical-align: top;\n",
       "    }\n",
       "\n",
       "    .dataframe thead th {\n",
       "        text-align: right;\n",
       "    }\n",
       "</style>\n",
       "<table border=\"1\" class=\"dataframe\">\n",
       "  <thead>\n",
       "    <tr style=\"text-align: right;\">\n",
       "      <th></th>\n",
       "      <th>state</th>\n",
       "      <th>town</th>\n",
       "      <th>poverty</th>\n",
       "      <th>hs_completion</th>\n",
       "      <th>townstate</th>\n",
       "      <th>ZCTA</th>\n",
       "      <th>n_households</th>\n",
       "      <th>med_income</th>\n",
       "      <th>population</th>\n",
       "      <th>density</th>\n",
       "      <th>city</th>\n",
       "      <th>state_id</th>\n",
       "      <th>state_name</th>\n",
       "      <th>lat</th>\n",
       "      <th>lng</th>\n",
       "    </tr>\n",
       "  </thead>\n",
       "  <tbody>\n",
       "    <tr>\n",
       "      <th>0</th>\n",
       "      <td>Alabama</td>\n",
       "      <td>Abbeville</td>\n",
       "      <td>20.7</td>\n",
       "      <td>79.1</td>\n",
       "      <td>Abbeville, Alabama</td>\n",
       "      <td>36310</td>\n",
       "      <td>2555</td>\n",
       "      <td>40186</td>\n",
       "      <td>6055</td>\n",
       "      <td>12.2</td>\n",
       "      <td>Abbeville</td>\n",
       "      <td>AL</td>\n",
       "      <td>Alabama</td>\n",
       "      <td>31.60296</td>\n",
       "      <td>-85.21630</td>\n",
       "    </tr>\n",
       "    <tr>\n",
       "      <th>1</th>\n",
       "      <td>Alabama</td>\n",
       "      <td>Adamsville</td>\n",
       "      <td>16</td>\n",
       "      <td>83.5</td>\n",
       "      <td>Adamsville, Alabama</td>\n",
       "      <td>35005</td>\n",
       "      <td>2792</td>\n",
       "      <td>50271</td>\n",
       "      <td>7528</td>\n",
       "      <td>89.3</td>\n",
       "      <td>Adamsville</td>\n",
       "      <td>AL</td>\n",
       "      <td>Alabama</td>\n",
       "      <td>33.59515</td>\n",
       "      <td>-87.00089</td>\n",
       "    </tr>\n",
       "    <tr>\n",
       "      <th>2</th>\n",
       "      <td>Alabama</td>\n",
       "      <td>Addison</td>\n",
       "      <td>34.2</td>\n",
       "      <td>85.1</td>\n",
       "      <td>Addison, Alabama</td>\n",
       "      <td>35540</td>\n",
       "      <td>1075</td>\n",
       "      <td>45074</td>\n",
       "      <td>2436</td>\n",
       "      <td>12.6</td>\n",
       "      <td>Addison</td>\n",
       "      <td>AL</td>\n",
       "      <td>Alabama</td>\n",
       "      <td>34.23388</td>\n",
       "      <td>-87.18817</td>\n",
       "    </tr>\n",
       "    <tr>\n",
       "      <th>3</th>\n",
       "      <td>Alabama</td>\n",
       "      <td>Akron</td>\n",
       "      <td>48.7</td>\n",
       "      <td>62.8</td>\n",
       "      <td>Akron, Alabama</td>\n",
       "      <td>35441</td>\n",
       "      <td>372</td>\n",
       "      <td>36731</td>\n",
       "      <td>1089</td>\n",
       "      <td>6.1</td>\n",
       "      <td>Akron</td>\n",
       "      <td>AL</td>\n",
       "      <td>Alabama</td>\n",
       "      <td>32.85374</td>\n",
       "      <td>-87.73861</td>\n",
       "    </tr>\n",
       "    <tr>\n",
       "      <th>4</th>\n",
       "      <td>Alabama</td>\n",
       "      <td>Alabaster</td>\n",
       "      <td>11.1</td>\n",
       "      <td>88.8</td>\n",
       "      <td>Alabaster, Alabama</td>\n",
       "      <td>35007</td>\n",
       "      <td>8628</td>\n",
       "      <td>69691</td>\n",
       "      <td>26328</td>\n",
       "      <td>270.8</td>\n",
       "      <td>Alabaster</td>\n",
       "      <td>AL</td>\n",
       "      <td>Alabama</td>\n",
       "      <td>33.21591</td>\n",
       "      <td>-86.79717</td>\n",
       "    </tr>\n",
       "  </tbody>\n",
       "</table>\n",
       "</div>"
      ],
      "text/plain": [
       "     state        town poverty hs_completion            townstate   ZCTA  \\\n",
       "0  Alabama   Abbeville    20.7          79.1   Abbeville, Alabama  36310   \n",
       "1  Alabama  Adamsville      16          83.5  Adamsville, Alabama  35005   \n",
       "2  Alabama     Addison    34.2          85.1     Addison, Alabama  35540   \n",
       "3  Alabama       Akron    48.7          62.8       Akron, Alabama  35441   \n",
       "4  Alabama   Alabaster    11.1          88.8   Alabaster, Alabama  35007   \n",
       "\n",
       "   n_households  med_income  population  density        city state_id  \\\n",
       "0          2555       40186        6055     12.2   Abbeville       AL   \n",
       "1          2792       50271        7528     89.3  Adamsville       AL   \n",
       "2          1075       45074        2436     12.6     Addison       AL   \n",
       "3           372       36731        1089      6.1       Akron       AL   \n",
       "4          8628       69691       26328    270.8   Alabaster       AL   \n",
       "\n",
       "  state_name       lat       lng  \n",
       "0    Alabama  31.60296 -85.21630  \n",
       "1    Alabama  33.59515 -87.00089  \n",
       "2    Alabama  34.23388 -87.18817  \n",
       "3    Alabama  32.85374 -87.73861  \n",
       "4    Alabama  33.21591 -86.79717  "
      ]
     },
     "execution_count": 24,
     "metadata": {},
     "output_type": "execute_result"
    }
   ],
   "source": [
    "inc.head()"
   ]
  },
  {
   "cell_type": "code",
   "execution_count": 25,
   "metadata": {},
   "outputs": [
    {
     "data": {
      "text/plain": [
       "(21167, 15)"
      ]
     },
     "execution_count": 25,
     "metadata": {},
     "output_type": "execute_result"
    }
   ],
   "source": [
    "inc.shape"
   ]
  },
  {
   "cell_type": "markdown",
   "metadata": {},
   "source": [
    "### Scrape crime stats"
   ]
  },
  {
   "cell_type": "code",
   "execution_count": 27,
   "metadata": {},
   "outputs": [],
   "source": [
    "# get unique states\n",
    "states = []\n",
    "for i in range(inc.shape[0]):\n",
    "    states.append(inc.loc[i, 'state'])\n",
    "states = list(set(states))"
   ]
  },
  {
   "cell_type": "code",
   "execution_count": 28,
   "metadata": {},
   "outputs": [],
   "source": [
    "crime_types = [\n",
    "    'Aggravated Assault',\n",
    "    'Arson',\n",
    "    'Burglary',\n",
    "    'Larceny and Theft',\n",
    "    'Motor Vehicle Theft',\n",
    "    'Murder and Manslaughter',\n",
    "    'Rape',\n",
    "    'Robbery',\n",
    "    'Crime Rate (Total Incidents)',\n",
    "    'Property Crime',\n",
    "    'Violent Crime'\n",
    "]"
   ]
  },
  {
   "cell_type": "code",
   "execution_count": 29,
   "metadata": {},
   "outputs": [],
   "source": [
    "def get_crime_rate(state, town):\n",
    "    state = state.replace(' ', '-')\n",
    "    town = town.replace(' ', '-')\n",
    "    try:\n",
    "        url = f'https://www.cityrating.com/crime-statistics/{state}/{town}.html'\n",
    "        res = requests.get(url)\n",
    "        soup = BeautifulSoup(res.content, 'lxml')\n",
    "        property_crime = int(soup.find_all('td', text = 'Property Crime')[0].find_next_sibling('td').text)\n",
    "        violent_crime = int(soup.find_all('td', text = 'Violent Crime')[0].find_next_sibling('td').text)\n",
    "        return property_crime + violent_crime\n",
    "    except:\n",
    "        return np.nan"
   ]
  },
  {
   "cell_type": "code",
   "execution_count": 30,
   "metadata": {},
   "outputs": [],
   "source": [
    "inc['crime_rate'] = 0"
   ]
  },
  {
   "cell_type": "code",
   "execution_count": 32,
   "metadata": {},
   "outputs": [],
   "source": [
    "town_crime_rates = {}\n",
    "output_name = \"/Users/elijahcurme/Desktop/GA/capstone/pkl/town_crime_rates.pkl\"\n",
    "done_states = []"
   ]
  },
  {
   "cell_type": "code",
   "execution_count": 44,
   "metadata": {
    "scrolled": false
   },
   "outputs": [
    {
     "name": "stdout",
     "output_type": "stream",
     "text": [
      "Alaska finished\n",
      "Maine finished\n",
      "New York finished\n",
      "Alabama finished\n",
      "Maryland finished\n",
      "Oklahoma finished\n",
      "North Dakota finished\n",
      "New Mexico finished\n",
      "Texas finished\n",
      "Utah finished\n",
      "Kentucky finished\n",
      "North Carolina finished\n",
      "Virginia finished\n",
      "Tennessee finished\n",
      "Delaware finished\n",
      "Idaho finished\n",
      "Wyoming finished\n",
      "Louisiana finished\n",
      "Nevada finished\n",
      "Indiana finished\n",
      "Montana finished\n",
      "Washington finished\n",
      "California finished\n",
      "Arizona finished\n",
      "Hawaii finished\n",
      "Massachusetts finished\n",
      "Nebraska finished\n",
      "Kansas finished\n",
      "Vermont finished\n",
      "Michigan finished\n",
      "Mississippi finished\n",
      "Colorado finished\n",
      "South Carolina finished\n",
      "Wisconsin finished\n",
      "Rhode Island finished\n",
      "Connecticut finished\n",
      "Pennsylvania finished\n",
      "Florida finished\n",
      "Arkansas finished\n",
      "New Jersey finished\n",
      "Iowa finished\n",
      "Illinois finished\n",
      "Ohio finished\n",
      "Oregon finished\n",
      "Missouri finished\n",
      "Georgia finished\n",
      "South Dakota finished\n",
      "Minnesota finished\n",
      "District of Columbia finished\n",
      "West Virginia finished\n",
      "New Hampshire finished\n"
     ]
    }
   ],
   "source": [
    "# Loop through each town in each state to scrape crime data\n",
    "for state in states:\n",
    "    if state not in done_states:\n",
    "        towns = list(set(inc.loc[inc['state'] == state, 'town']))\n",
    "        for town in towns:\n",
    "            #town_crime_rates[(state, town)] = get_crime_rate(state, town)            \n",
    "            inc.loc[(inc['state'] == state) & (inc['town'] == town), 'crime_rate'] = get_crime_rate(state, town)\n",
    "            pd.to_pickle(inc, '/Users/elijahcurme/Desktop/GA/capstone/pkl/inc.pkl')\n",
    "        done_states.append(state)\n",
    "    print(f\"{state} finished\")"
   ]
  },
  {
   "cell_type": "code",
   "execution_count": 46,
   "metadata": {},
   "outputs": [],
   "source": [
    "inc.to_csv('./data/inc.csv')"
   ]
  },
  {
   "cell_type": "code",
   "execution_count": 43,
   "metadata": {},
   "outputs": [],
   "source": [
    "#test_inc = pd.read_pickle('/Users/elijahcurme/Desktop/GA/capstone/pkl/inc.pkl')"
   ]
  },
  {
   "cell_type": "code",
   "execution_count": null,
   "metadata": {},
   "outputs": [],
   "source": [
    "# with open(output_name, \"rb\") as f:\n",
    "#     town_crime_rates = pickle.load(f)"
   ]
  },
  {
   "cell_type": "code",
   "execution_count": null,
   "metadata": {},
   "outputs": [],
   "source": [
    "# state_towns = town_crime_rates.keys()\n",
    "# for state, town in state_towns:\n",
    "#     inc.loc[(inc['state'] == state) & (inc['town'] == town), 'crime_rate'] = town_crime_rates[(state, town)]"
   ]
  },
  {
   "cell_type": "markdown",
   "metadata": {},
   "source": [
    "```python\n",
    "new_dict = {}\n",
    "for state in states:\n",
    "    new_dict[state] = {}\n",
    "\n",
    "for state, town in town_crime_rates.keys():\n",
    "    new_dict[state][town] = town_crime_rates[(state, town)]\n",
    "```"
   ]
  },
  {
   "cell_type": "markdown",
   "metadata": {},
   "source": [
    "```python\n",
    "done_states = list(set([state, _ for state, town in town_crime_rates.keys()]))\n",
    "```"
   ]
  },
  {
   "cell_type": "markdown",
   "metadata": {},
   "source": [
    "### EDA"
   ]
  },
  {
   "cell_type": "code",
   "execution_count": 48,
   "metadata": {},
   "outputs": [
    {
     "data": {
      "text/plain": [
       "state                0\n",
       "town                 0\n",
       "poverty              0\n",
       "hs_completion        0\n",
       "townstate            0\n",
       "ZCTA                 0\n",
       "n_households         0\n",
       "med_income           0\n",
       "population           0\n",
       "density              0\n",
       "city                 0\n",
       "state_id             0\n",
       "state_name           0\n",
       "lat                  0\n",
       "lng                  0\n",
       "crime_rate       14409\n",
       "dtype: int64"
      ]
     },
     "execution_count": 48,
     "metadata": {},
     "output_type": "execute_result"
    }
   ],
   "source": [
    "inc.isnull().sum()"
   ]
  },
  {
   "cell_type": "code",
   "execution_count": 56,
   "metadata": {},
   "outputs": [],
   "source": [
    "inc.dropna(inplace = True)"
   ]
  },
  {
   "cell_type": "code",
   "execution_count": 58,
   "metadata": {},
   "outputs": [
    {
     "data": {
      "text/plain": [
       "(6758, 16)"
      ]
     },
     "execution_count": 58,
     "metadata": {},
     "output_type": "execute_result"
    }
   ],
   "source": [
    "inc.shape"
   ]
  },
  {
   "cell_type": "code",
   "execution_count": 57,
   "metadata": {},
   "outputs": [
    {
     "data": {
      "text/html": [
       "<div>\n",
       "<style scoped>\n",
       "    .dataframe tbody tr th:only-of-type {\n",
       "        vertical-align: middle;\n",
       "    }\n",
       "\n",
       "    .dataframe tbody tr th {\n",
       "        vertical-align: top;\n",
       "    }\n",
       "\n",
       "    .dataframe thead th {\n",
       "        text-align: right;\n",
       "    }\n",
       "</style>\n",
       "<table border=\"1\" class=\"dataframe\">\n",
       "  <thead>\n",
       "    <tr style=\"text-align: right;\">\n",
       "      <th></th>\n",
       "      <th>state</th>\n",
       "      <th>town</th>\n",
       "      <th>poverty</th>\n",
       "      <th>hs_completion</th>\n",
       "      <th>townstate</th>\n",
       "      <th>ZCTA</th>\n",
       "      <th>n_households</th>\n",
       "      <th>med_income</th>\n",
       "      <th>population</th>\n",
       "      <th>density</th>\n",
       "      <th>city</th>\n",
       "      <th>state_id</th>\n",
       "      <th>state_name</th>\n",
       "      <th>lat</th>\n",
       "      <th>lng</th>\n",
       "      <th>crime_rate</th>\n",
       "    </tr>\n",
       "  </thead>\n",
       "  <tbody>\n",
       "    <tr>\n",
       "      <th>0</th>\n",
       "      <td>Alabama</td>\n",
       "      <td>Abbeville</td>\n",
       "      <td>20.7</td>\n",
       "      <td>79.1</td>\n",
       "      <td>Abbeville, Alabama</td>\n",
       "      <td>36310</td>\n",
       "      <td>2555</td>\n",
       "      <td>40186</td>\n",
       "      <td>6055</td>\n",
       "      <td>12.2</td>\n",
       "      <td>Abbeville</td>\n",
       "      <td>AL</td>\n",
       "      <td>Alabama</td>\n",
       "      <td>31.60296</td>\n",
       "      <td>-85.21630</td>\n",
       "      <td>62.0</td>\n",
       "    </tr>\n",
       "    <tr>\n",
       "      <th>1</th>\n",
       "      <td>Alabama</td>\n",
       "      <td>Adamsville</td>\n",
       "      <td>16</td>\n",
       "      <td>83.5</td>\n",
       "      <td>Adamsville, Alabama</td>\n",
       "      <td>35005</td>\n",
       "      <td>2792</td>\n",
       "      <td>50271</td>\n",
       "      <td>7528</td>\n",
       "      <td>89.3</td>\n",
       "      <td>Adamsville</td>\n",
       "      <td>AL</td>\n",
       "      <td>Alabama</td>\n",
       "      <td>33.59515</td>\n",
       "      <td>-87.00089</td>\n",
       "      <td>269.0</td>\n",
       "    </tr>\n",
       "    <tr>\n",
       "      <th>2</th>\n",
       "      <td>Alabama</td>\n",
       "      <td>Addison</td>\n",
       "      <td>34.2</td>\n",
       "      <td>85.1</td>\n",
       "      <td>Addison, Alabama</td>\n",
       "      <td>35540</td>\n",
       "      <td>1075</td>\n",
       "      <td>45074</td>\n",
       "      <td>2436</td>\n",
       "      <td>12.6</td>\n",
       "      <td>Addison</td>\n",
       "      <td>AL</td>\n",
       "      <td>Alabama</td>\n",
       "      <td>34.23388</td>\n",
       "      <td>-87.18817</td>\n",
       "      <td>15.0</td>\n",
       "    </tr>\n",
       "    <tr>\n",
       "      <th>4</th>\n",
       "      <td>Alabama</td>\n",
       "      <td>Alabaster</td>\n",
       "      <td>11.1</td>\n",
       "      <td>88.8</td>\n",
       "      <td>Alabaster, Alabama</td>\n",
       "      <td>35007</td>\n",
       "      <td>8628</td>\n",
       "      <td>69691</td>\n",
       "      <td>26328</td>\n",
       "      <td>270.8</td>\n",
       "      <td>Alabaster</td>\n",
       "      <td>AL</td>\n",
       "      <td>Alabama</td>\n",
       "      <td>33.21591</td>\n",
       "      <td>-86.79717</td>\n",
       "      <td>585.0</td>\n",
       "    </tr>\n",
       "    <tr>\n",
       "      <th>5</th>\n",
       "      <td>Alabama</td>\n",
       "      <td>Alabaster</td>\n",
       "      <td>11.1</td>\n",
       "      <td>88.8</td>\n",
       "      <td>Alabaster, Alabama</td>\n",
       "      <td>35114</td>\n",
       "      <td>3022</td>\n",
       "      <td>80948</td>\n",
       "      <td>8624</td>\n",
       "      <td>223.3</td>\n",
       "      <td>Alabaster</td>\n",
       "      <td>AL</td>\n",
       "      <td>Alabama</td>\n",
       "      <td>33.22306</td>\n",
       "      <td>-86.87245</td>\n",
       "      <td>585.0</td>\n",
       "    </tr>\n",
       "  </tbody>\n",
       "</table>\n",
       "</div>"
      ],
      "text/plain": [
       "     state        town poverty hs_completion            townstate   ZCTA  \\\n",
       "0  Alabama   Abbeville    20.7          79.1   Abbeville, Alabama  36310   \n",
       "1  Alabama  Adamsville      16          83.5  Adamsville, Alabama  35005   \n",
       "2  Alabama     Addison    34.2          85.1     Addison, Alabama  35540   \n",
       "4  Alabama   Alabaster    11.1          88.8   Alabaster, Alabama  35007   \n",
       "5  Alabama   Alabaster    11.1          88.8   Alabaster, Alabama  35114   \n",
       "\n",
       "   n_households  med_income  population  density        city state_id  \\\n",
       "0          2555       40186        6055     12.2   Abbeville       AL   \n",
       "1          2792       50271        7528     89.3  Adamsville       AL   \n",
       "2          1075       45074        2436     12.6     Addison       AL   \n",
       "4          8628       69691       26328    270.8   Alabaster       AL   \n",
       "5          3022       80948        8624    223.3   Alabaster       AL   \n",
       "\n",
       "  state_name       lat       lng  crime_rate  \n",
       "0    Alabama  31.60296 -85.21630        62.0  \n",
       "1    Alabama  33.59515 -87.00089       269.0  \n",
       "2    Alabama  34.23388 -87.18817        15.0  \n",
       "4    Alabama  33.21591 -86.79717       585.0  \n",
       "5    Alabama  33.22306 -86.87245       585.0  "
      ]
     },
     "execution_count": 57,
     "metadata": {},
     "output_type": "execute_result"
    }
   ],
   "source": [
    "inc.head()"
   ]
  },
  {
   "cell_type": "code",
   "execution_count": 140,
   "metadata": {},
   "outputs": [
    {
     "data": {
      "text/plain": [
       "0.0      255\n",
       "1.0      103\n",
       "3.0       75\n",
       "12.0      72\n",
       "5.0       65\n",
       "        ... \n",
       "911.0      1\n",
       "935.0      1\n",
       "458.0      1\n",
       "776.0      1\n",
       "795.0      1\n",
       "Name: crime_rate, Length: 938, dtype: int64"
      ]
     },
     "execution_count": 140,
     "metadata": {},
     "output_type": "execute_result"
    }
   ],
   "source": [
    "inc['crime_rate'].value_counts()"
   ]
  },
  {
   "cell_type": "code",
   "execution_count": 128,
   "metadata": {},
   "outputs": [],
   "source": [
    "inc['crime_rate_pc'] = inc['crime_rate'] / inc['population']"
   ]
  },
  {
   "cell_type": "code",
   "execution_count": 60,
   "metadata": {},
   "outputs": [
    {
     "data": {
      "text/html": [
       "<div>\n",
       "<style scoped>\n",
       "    .dataframe tbody tr th:only-of-type {\n",
       "        vertical-align: middle;\n",
       "    }\n",
       "\n",
       "    .dataframe tbody tr th {\n",
       "        vertical-align: top;\n",
       "    }\n",
       "\n",
       "    .dataframe thead th {\n",
       "        text-align: right;\n",
       "    }\n",
       "</style>\n",
       "<table border=\"1\" class=\"dataframe\">\n",
       "  <thead>\n",
       "    <tr style=\"text-align: right;\">\n",
       "      <th></th>\n",
       "      <th>state</th>\n",
       "      <th>town</th>\n",
       "      <th>poverty</th>\n",
       "      <th>hs_completion</th>\n",
       "      <th>townstate</th>\n",
       "      <th>ZCTA</th>\n",
       "      <th>n_households</th>\n",
       "      <th>med_income</th>\n",
       "      <th>population</th>\n",
       "      <th>density</th>\n",
       "      <th>city</th>\n",
       "      <th>state_id</th>\n",
       "      <th>state_name</th>\n",
       "      <th>lat</th>\n",
       "      <th>lng</th>\n",
       "      <th>crime_rate</th>\n",
       "      <th>crime_rate_pc</th>\n",
       "    </tr>\n",
       "  </thead>\n",
       "  <tbody>\n",
       "    <tr>\n",
       "      <th>0</th>\n",
       "      <td>Alabama</td>\n",
       "      <td>Abbeville</td>\n",
       "      <td>20.7</td>\n",
       "      <td>79.1</td>\n",
       "      <td>Abbeville, Alabama</td>\n",
       "      <td>36310</td>\n",
       "      <td>2555</td>\n",
       "      <td>40186</td>\n",
       "      <td>6055</td>\n",
       "      <td>12.2</td>\n",
       "      <td>Abbeville</td>\n",
       "      <td>AL</td>\n",
       "      <td>Alabama</td>\n",
       "      <td>31.60296</td>\n",
       "      <td>-85.21630</td>\n",
       "      <td>62.0</td>\n",
       "      <td>0.010239</td>\n",
       "    </tr>\n",
       "    <tr>\n",
       "      <th>1</th>\n",
       "      <td>Alabama</td>\n",
       "      <td>Adamsville</td>\n",
       "      <td>16</td>\n",
       "      <td>83.5</td>\n",
       "      <td>Adamsville, Alabama</td>\n",
       "      <td>35005</td>\n",
       "      <td>2792</td>\n",
       "      <td>50271</td>\n",
       "      <td>7528</td>\n",
       "      <td>89.3</td>\n",
       "      <td>Adamsville</td>\n",
       "      <td>AL</td>\n",
       "      <td>Alabama</td>\n",
       "      <td>33.59515</td>\n",
       "      <td>-87.00089</td>\n",
       "      <td>269.0</td>\n",
       "      <td>0.035733</td>\n",
       "    </tr>\n",
       "    <tr>\n",
       "      <th>2</th>\n",
       "      <td>Alabama</td>\n",
       "      <td>Addison</td>\n",
       "      <td>34.2</td>\n",
       "      <td>85.1</td>\n",
       "      <td>Addison, Alabama</td>\n",
       "      <td>35540</td>\n",
       "      <td>1075</td>\n",
       "      <td>45074</td>\n",
       "      <td>2436</td>\n",
       "      <td>12.6</td>\n",
       "      <td>Addison</td>\n",
       "      <td>AL</td>\n",
       "      <td>Alabama</td>\n",
       "      <td>34.23388</td>\n",
       "      <td>-87.18817</td>\n",
       "      <td>15.0</td>\n",
       "      <td>0.006158</td>\n",
       "    </tr>\n",
       "    <tr>\n",
       "      <th>4</th>\n",
       "      <td>Alabama</td>\n",
       "      <td>Alabaster</td>\n",
       "      <td>11.1</td>\n",
       "      <td>88.8</td>\n",
       "      <td>Alabaster, Alabama</td>\n",
       "      <td>35007</td>\n",
       "      <td>8628</td>\n",
       "      <td>69691</td>\n",
       "      <td>26328</td>\n",
       "      <td>270.8</td>\n",
       "      <td>Alabaster</td>\n",
       "      <td>AL</td>\n",
       "      <td>Alabama</td>\n",
       "      <td>33.21591</td>\n",
       "      <td>-86.79717</td>\n",
       "      <td>585.0</td>\n",
       "      <td>0.022220</td>\n",
       "    </tr>\n",
       "    <tr>\n",
       "      <th>5</th>\n",
       "      <td>Alabama</td>\n",
       "      <td>Alabaster</td>\n",
       "      <td>11.1</td>\n",
       "      <td>88.8</td>\n",
       "      <td>Alabaster, Alabama</td>\n",
       "      <td>35114</td>\n",
       "      <td>3022</td>\n",
       "      <td>80948</td>\n",
       "      <td>8624</td>\n",
       "      <td>223.3</td>\n",
       "      <td>Alabaster</td>\n",
       "      <td>AL</td>\n",
       "      <td>Alabama</td>\n",
       "      <td>33.22306</td>\n",
       "      <td>-86.87245</td>\n",
       "      <td>585.0</td>\n",
       "      <td>0.067834</td>\n",
       "    </tr>\n",
       "  </tbody>\n",
       "</table>\n",
       "</div>"
      ],
      "text/plain": [
       "     state        town poverty hs_completion            townstate   ZCTA  \\\n",
       "0  Alabama   Abbeville    20.7          79.1   Abbeville, Alabama  36310   \n",
       "1  Alabama  Adamsville      16          83.5  Adamsville, Alabama  35005   \n",
       "2  Alabama     Addison    34.2          85.1     Addison, Alabama  35540   \n",
       "4  Alabama   Alabaster    11.1          88.8   Alabaster, Alabama  35007   \n",
       "5  Alabama   Alabaster    11.1          88.8   Alabaster, Alabama  35114   \n",
       "\n",
       "   n_households  med_income  population  density        city state_id  \\\n",
       "0          2555       40186        6055     12.2   Abbeville       AL   \n",
       "1          2792       50271        7528     89.3  Adamsville       AL   \n",
       "2          1075       45074        2436     12.6     Addison       AL   \n",
       "4          8628       69691       26328    270.8   Alabaster       AL   \n",
       "5          3022       80948        8624    223.3   Alabaster       AL   \n",
       "\n",
       "  state_name       lat       lng  crime_rate  crime_rate_pc  \n",
       "0    Alabama  31.60296 -85.21630        62.0       0.010239  \n",
       "1    Alabama  33.59515 -87.00089       269.0       0.035733  \n",
       "2    Alabama  34.23388 -87.18817        15.0       0.006158  \n",
       "4    Alabama  33.21591 -86.79717       585.0       0.022220  \n",
       "5    Alabama  33.22306 -86.87245       585.0       0.067834  "
      ]
     },
     "execution_count": 60,
     "metadata": {},
     "output_type": "execute_result"
    }
   ],
   "source": [
    "inc.head()"
   ]
  },
  {
   "cell_type": "code",
   "execution_count": 113,
   "metadata": {},
   "outputs": [
    {
     "data": {
      "text/plain": [
       "0        15\n",
       "5792      4\n",
       "2274      4\n",
       "6572      4\n",
       "3091      4\n",
       "         ..\n",
       "1142      1\n",
       "10093     1\n",
       "15481     1\n",
       "9338      1\n",
       "10600     1\n",
       "Name: population, Length: 5891, dtype: int64"
      ]
     },
     "execution_count": 113,
     "metadata": {},
     "output_type": "execute_result"
    }
   ],
   "source": [
    "# 15 rows have 0 for population which causes infinity crime rate per capita\n",
    "inc['population'].value_counts()"
   ]
  },
  {
   "cell_type": "code",
   "execution_count": 119,
   "metadata": {},
   "outputs": [],
   "source": [
    "# Fill the 15 with the median\n",
    "inc.loc[inc['population'] == 0, 'population'] = inc['population'].median()"
   ]
  },
  {
   "cell_type": "markdown",
   "metadata": {},
   "source": [
    "### Modeling"
   ]
  },
  {
   "cell_type": "code",
   "execution_count": 129,
   "metadata": {},
   "outputs": [],
   "source": [
    "features = [\n",
    "    'med_income',\n",
    "    'poverty',\n",
    "    'hs_completion',\n",
    "    'density'\n",
    "]\n",
    "X = inc[features]\n",
    "y = inc['crime_rate_pc']"
   ]
  },
  {
   "cell_type": "code",
   "execution_count": 130,
   "metadata": {},
   "outputs": [],
   "source": [
    "ss = StandardScaler()\n",
    "X_scaled = ss.fit_transform(X)"
   ]
  },
  {
   "cell_type": "code",
   "execution_count": 135,
   "metadata": {},
   "outputs": [],
   "source": [
    "X_train, X_test, y_train, y_test = train_test_split(X_scaled, y, random_state = 42)"
   ]
  },
  {
   "cell_type": "code",
   "execution_count": 137,
   "metadata": {},
   "outputs": [
    {
     "data": {
      "text/plain": [
       "(0.0016794088038287747, 0.013729502142857175)"
      ]
     },
     "execution_count": 137,
     "metadata": {},
     "output_type": "execute_result"
    }
   ],
   "source": [
    "lr = LinearRegression()\n",
    "lr.fit(X_train, y_train)\n",
    "lr.score(X_train, y_train), lr.score(X_test, y_test)"
   ]
  },
  {
   "cell_type": "markdown",
   "metadata": {},
   "source": [
    "### Alakazam"
   ]
  },
  {
   "cell_type": "code",
   "execution_count": 105,
   "metadata": {},
   "outputs": [],
   "source": [
    "url = 'https://www.cityrating.com/crime-statistics/new-york/adams-village.html'\n",
    "res = requests.get(url)"
   ]
  },
  {
   "cell_type": "code",
   "execution_count": 106,
   "metadata": {},
   "outputs": [],
   "source": [
    "soup = BeautifulSoup(res.content, 'lxml')"
   ]
  },
  {
   "cell_type": "code",
   "execution_count": 108,
   "metadata": {
    "scrolled": true
   },
   "outputs": [
    {
     "data": {
      "text/plain": [
       "[<td class=\"key\">Aggravated Assault</td>,\n",
       " <td class=\"value\">0</td>,\n",
       " <td class=\"key\">Arson</td>,\n",
       " <td class=\"value\">0</td>,\n",
       " <td class=\"key\">Burglary</td>,\n",
       " <td class=\"value\">0</td>,\n",
       " <td class=\"key\">Larceny and Theft</td>,\n",
       " <td class=\"value\">3</td>,\n",
       " <td class=\"key\">Motor Vehicle Theft</td>,\n",
       " <td class=\"value\">1</td>,\n",
       " <td class=\"key\">Murder and Manslaughter</td>,\n",
       " <td class=\"value\">0</td>,\n",
       " <td class=\"key\">Rape</td>,\n",
       " <td class=\"value\">N/A</td>,\n",
       " <td class=\"key\">Robbery</td>,\n",
       " <td class=\"value\">0</td>,\n",
       " <td class=\"key\"><span class=\"total\">Crime Rate</span> (Total Incidents)</td>,\n",
       " <td class=\"value\">4</td>,\n",
       " <td class=\"key\"><span class=\"total\">Property Crime</span></td>,\n",
       " <td class=\"value\">4</td>,\n",
       " <td class=\"key\"><span class=\"total\">Violent Crime</span></td>,\n",
       " <td class=\"value\">0</td>,\n",
       " <td class=\"key\">Aggravated Assault</td>,\n",
       " <td class=\"value\">0</td>,\n",
       " <td class=\"key\">Arson</td>,\n",
       " <td class=\"value\">0</td>,\n",
       " <td class=\"key\">Burglary</td>,\n",
       " <td class=\"value\">1</td>,\n",
       " <td class=\"key\">Larceny and Theft</td>,\n",
       " <td class=\"value\">4</td>,\n",
       " <td class=\"key\">Motor Vehicle Theft</td>,\n",
       " <td class=\"value\">0</td>,\n",
       " <td class=\"key\">Murder and Manslaughter</td>,\n",
       " <td class=\"value\">0</td>,\n",
       " <td class=\"key\">Rape</td>,\n",
       " <td class=\"value\">0</td>,\n",
       " <td class=\"key\">Robbery</td>,\n",
       " <td class=\"value\">0</td>,\n",
       " <td class=\"key\"><span class=\"total\">Crime Rate</span> (Total Incidents)</td>,\n",
       " <td class=\"value\">6</td>,\n",
       " <td class=\"key\"><span class=\"total\">Property Crime</span></td>,\n",
       " <td class=\"value\">6</td>,\n",
       " <td class=\"key\"><span class=\"total\">Violent Crime</span></td>,\n",
       " <td class=\"value\">0</td>]"
      ]
     },
     "execution_count": 108,
     "metadata": {},
     "output_type": "execute_result"
    }
   ],
   "source": [
    "soup.find_all('td')"
   ]
  },
  {
   "cell_type": "code",
   "execution_count": 22,
   "metadata": {},
   "outputs": [],
   "source": [
    "# First half of td's are actual 2016 stats. Second half are 2020 projected.\n",
    "half = int(len(soup.find_all('td'))/2)"
   ]
  }
 ],
 "metadata": {
  "kernelspec": {
   "display_name": "Python [conda env:root] *",
   "language": "python",
   "name": "conda-root-py"
  },
  "language_info": {
   "codemirror_mode": {
    "name": "ipython",
    "version": 3
   },
   "file_extension": ".py",
   "mimetype": "text/x-python",
   "name": "python",
   "nbconvert_exporter": "python",
   "pygments_lexer": "ipython3",
   "version": "3.7.4"
  }
 },
 "nbformat": 4,
 "nbformat_minor": 2
}
