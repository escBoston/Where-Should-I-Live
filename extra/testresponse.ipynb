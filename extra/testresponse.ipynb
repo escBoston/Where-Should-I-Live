{
 "cells": [
  {
   "cell_type": "code",
   "execution_count": 1,
   "metadata": {},
   "outputs": [],
   "source": [
    "import pandas as pd\n",
    "import numpy as np\n",
    "import matplotlib.pyplot as plt\n",
    "\n",
    "import requests\n",
    "from bs4 import BeautifulSoup"
   ]
  },
  {
   "cell_type": "code",
   "execution_count": 2,
   "metadata": {},
   "outputs": [],
   "source": [
    "url = 'https://www.greatschools.org/california/san-francisco/schools/?view=table'\n",
    "res = requests.get(url)"
   ]
  },
  {
   "cell_type": "code",
   "execution_count": 3,
   "metadata": {},
   "outputs": [
    {
     "data": {
      "text/plain": [
       "<Response [200]>"
      ]
     },
     "execution_count": 3,
     "metadata": {},
     "output_type": "execute_result"
    }
   ],
   "source": [
    "res"
   ]
  },
  {
   "cell_type": "code",
   "execution_count": 4,
   "metadata": {},
   "outputs": [],
   "source": [
    "import pymc3 as pm"
   ]
  },
  {
   "cell_type": "code",
   "execution_count": 26,
   "metadata": {},
   "outputs": [],
   "source": [
    "done_states = [\n",
    "    'Idaho',\n",
    "    'Hawaii',\n",
    "    'Florida',\n",
    "    'Washington',\n",
    "    'Georgia',\n",
    "    'Maryland',\n",
    "    'Pennsylvania',\n",
    "    'Virginia',\n",
    "    'Iowa',\n",
    "    'Alaska',\n",
    "    'Louisiana',\n",
    "    'Alabama',\n",
    "    'New Jersey',\n",
    "    'South Carolina',\n",
    "    'Illinois',\n",
    "    'Massachusetts',\n",
    "    'Utah',\n",
    "    'Kentucky',\n",
    "    'Tennessee',\n",
    "    'New Hampshire',\n",
    "    'New Mexico',\n",
    "    'Indiana',\n",
    "    'Missouri',\n",
    "    'South Dakota',\n",
    "    'West Virginia',\n",
    "    'California',\n",
    "    'Ohio',\n",
    "    'Nebraska',\n",
    "    'Oklahoma',\n",
    "    'Minnesota',\n",
    "    'Rhode Island',\n",
    "    'Delaware',\n",
    "    'Mississippi',\n",
    "    'Kansas',\n",
    "    'Michigan',\n",
    "    'Texas',\n",
    "    'Wyoming',\n",
    "    'Connecticut',\n",
    "    'Arizona',\n",
    "    'North Dakota',\n",
    "    'District of Columbia',\n",
    "    'North Carolina',\n",
    "    'Maine',\n",
    "    'Montana',\n",
    "    'Colorado',\n",
    "    'Wisconsin',\n",
    "    'Oregon',\n",
    "    'New York',\n",
    "    'Arkansas',\n",
    "    'Vermont',\n",
    "    'Nevada'\n",
    "]"
   ]
  },
  {
   "cell_type": "code",
   "execution_count": 20,
   "metadata": {},
   "outputs": [],
   "source": [
    "inc = pd.read_csv('./data/inc.csv')"
   ]
  },
  {
   "cell_type": "code",
   "execution_count": 28,
   "metadata": {},
   "outputs": [
    {
     "data": {
      "text/plain": [
       "51"
      ]
     },
     "execution_count": 28,
     "metadata": {},
     "output_type": "execute_result"
    }
   ],
   "source": [
    "len(done_states)"
   ]
  },
  {
   "cell_type": "code",
   "execution_count": 16,
   "metadata": {},
   "outputs": [
    {
     "data": {
      "text/plain": [
       "False"
      ]
     },
     "execution_count": 16,
     "metadata": {},
     "output_type": "execute_result"
    }
   ],
   "source": [
    "test_state = 'West Virginia'\n",
    "test_state in done_states"
   ]
  }
 ],
 "metadata": {
  "kernelspec": {
   "display_name": "Python 3",
   "language": "python",
   "name": "python3"
  },
  "language_info": {
   "codemirror_mode": {
    "name": "ipython",
    "version": 3
   },
   "file_extension": ".py",
   "mimetype": "text/x-python",
   "name": "python",
   "nbconvert_exporter": "python",
   "pygments_lexer": "ipython3",
   "version": "3.7.4"
  }
 },
 "nbformat": 4,
 "nbformat_minor": 2
}
